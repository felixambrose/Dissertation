{
  "cells": [
    {
      "cell_type": "code",
      "execution_count": null,
      "metadata": {
        "id": "QKXa9QS1G4dz"
      },
      "outputs": [],
      "source": [],
      "id": "QKXa9QS1G4dz"
    },
    {
      "cell_type": "markdown",
      "source": [
        "#Information\n",
        "\n",
        "**This needs to be opened on Google Colab. Needs to use a TPU if you choose to run it**\n",
        "\n",
        "Below shows the script and the outputs using the optimum model files on the Twitter and Facebook Dataset. I could not share the model files through QMPlus as the files were too large.\n",
        "\n",
        "The scores for the Twitter and Facebook Data and for TL1 onto Youtube and Reddit are exactly the same as the ones shared in the report, as they were run using saved model files. However, the results on the Youtube and Reddit data using transfer learning method 2 vary slightly as they were run again, after I handed in the report **however the conclusions remain exactly the same in terms of best performing models etc.** \n",
        "\n",
        "**The Macro and Weighted F1 scores for TL2 are printed straight after the 10th fold of cross validation**\n",
        "\n",
        "If you would like to run the script, it will run in about 3 hours: \n",
        "\n",
        "*   upload the two .tsv shared as additional material and it \n",
        "*   Uncomment the commands after each k-fold cross validation function which run the training on the Twitter and Facebook Data.\n",
        "\n",
        "In that case, the results for the Twitter and Facebook Data and Transfer Learning 1 will vary slightly from the ones quoted in the report.\n",
        "\n"
      ],
      "metadata": {
        "id": "C1ClGfLxm0kx"
      },
      "id": "C1ClGfLxm0kx"
    },
    {
      "cell_type": "markdown",
      "source": [
        "##TL1 = Transfer Learning Method 1\n",
        "##TL2 = Transfer Learning Method 2"
      ],
      "metadata": {
        "id": "5wTSNT_w4kqK"
      },
      "id": "5wTSNT_w4kqK"
    },
    {
      "cell_type": "code",
      "execution_count": null,
      "metadata": {
        "colab": {
          "base_uri": "https://localhost:8080/"
        },
        "id": "a165a604",
        "outputId": "cfcb60ce-7c3d-452b-eede-b661f1471d1c"
      },
      "outputs": [
        {
          "output_type": "stream",
          "name": "stdout",
          "text": [
            "Looking in indexes: https://pypi.org/simple, https://us-python.pkg.dev/colab-wheels/public/simple/\n",
            "Collecting transformers\n",
            "  Downloading transformers-4.21.1-py3-none-any.whl (4.7 MB)\n",
            "\u001b[K     |████████████████████████████████| 4.7 MB 4.9 MB/s \n",
            "\u001b[?25hRequirement already satisfied: importlib-metadata in /usr/local/lib/python3.7/dist-packages (from transformers) (4.12.0)\n",
            "Collecting tokenizers!=0.11.3,<0.13,>=0.11.1\n",
            "  Downloading tokenizers-0.12.1-cp37-cp37m-manylinux_2_12_x86_64.manylinux2010_x86_64.whl (6.6 MB)\n",
            "\u001b[K     |████████████████████████████████| 6.6 MB 78.2 MB/s \n",
            "\u001b[?25hRequirement already satisfied: filelock in /usr/local/lib/python3.7/dist-packages (from transformers) (3.7.1)\n",
            "Requirement already satisfied: numpy>=1.17 in /usr/local/lib/python3.7/dist-packages (from transformers) (1.21.6)\n",
            "Collecting pyyaml>=5.1\n",
            "  Downloading PyYAML-6.0-cp37-cp37m-manylinux_2_5_x86_64.manylinux1_x86_64.manylinux_2_12_x86_64.manylinux2010_x86_64.whl (596 kB)\n",
            "\u001b[K     |████████████████████████████████| 596 kB 75.2 MB/s \n",
            "\u001b[?25hCollecting huggingface-hub<1.0,>=0.1.0\n",
            "  Downloading huggingface_hub-0.8.1-py3-none-any.whl (101 kB)\n",
            "\u001b[K     |████████████████████████████████| 101 kB 11.1 MB/s \n",
            "\u001b[?25hRequirement already satisfied: regex!=2019.12.17 in /usr/local/lib/python3.7/dist-packages (from transformers) (2022.6.2)\n",
            "Requirement already satisfied: tqdm>=4.27 in /usr/local/lib/python3.7/dist-packages (from transformers) (4.64.0)\n",
            "Requirement already satisfied: requests in /usr/local/lib/python3.7/dist-packages (from transformers) (2.23.0)\n",
            "Requirement already satisfied: packaging>=20.0 in /usr/local/lib/python3.7/dist-packages (from transformers) (21.3)\n",
            "Requirement already satisfied: typing-extensions>=3.7.4.3 in /usr/local/lib/python3.7/dist-packages (from huggingface-hub<1.0,>=0.1.0->transformers) (4.1.1)\n",
            "Requirement already satisfied: pyparsing!=3.0.5,>=2.0.2 in /usr/local/lib/python3.7/dist-packages (from packaging>=20.0->transformers) (3.0.9)\n",
            "Requirement already satisfied: zipp>=0.5 in /usr/local/lib/python3.7/dist-packages (from importlib-metadata->transformers) (3.8.1)\n",
            "Requirement already satisfied: chardet<4,>=3.0.2 in /usr/local/lib/python3.7/dist-packages (from requests->transformers) (3.0.4)\n",
            "Requirement already satisfied: certifi>=2017.4.17 in /usr/local/lib/python3.7/dist-packages (from requests->transformers) (2022.6.15)\n",
            "Requirement already satisfied: urllib3!=1.25.0,!=1.25.1,<1.26,>=1.21.1 in /usr/local/lib/python3.7/dist-packages (from requests->transformers) (1.24.3)\n",
            "Requirement already satisfied: idna<3,>=2.5 in /usr/local/lib/python3.7/dist-packages (from requests->transformers) (2.10)\n",
            "Installing collected packages: pyyaml, tokenizers, huggingface-hub, transformers\n",
            "  Attempting uninstall: pyyaml\n",
            "    Found existing installation: PyYAML 3.13\n",
            "    Uninstalling PyYAML-3.13:\n",
            "      Successfully uninstalled PyYAML-3.13\n",
            "Successfully installed huggingface-hub-0.8.1 pyyaml-6.0 tokenizers-0.12.1 transformers-4.21.1\n"
          ]
        }
      ],
      "source": [
        "pip install transformers"
      ],
      "id": "a165a604"
    },
    {
      "cell_type": "code",
      "execution_count": null,
      "metadata": {
        "colab": {
          "base_uri": "https://localhost:8080/"
        },
        "id": "HwB6EcCaCxvs",
        "outputId": "5d934b6c-8c36-4750-bca8-85466a7920d4"
      },
      "outputs": [
        {
          "output_type": "stream",
          "name": "stdout",
          "text": [
            "Looking in indexes: https://pypi.org/simple, https://us-python.pkg.dev/colab-wheels/public/simple/\n",
            "Collecting emot\n",
            "  Downloading emot-3.1-py3-none-any.whl (61 kB)\n",
            "\u001b[?25l\r\u001b[K     |█████▎                          | 10 kB 28.7 MB/s eta 0:00:01\r\u001b[K     |██████████▋                     | 20 kB 11.8 MB/s eta 0:00:01\r\u001b[K     |████████████████                | 30 kB 9.4 MB/s eta 0:00:01\r\u001b[K     |█████████████████████▎          | 40 kB 4.3 MB/s eta 0:00:01\r\u001b[K     |██████████████████████████▋     | 51 kB 5.2 MB/s eta 0:00:01\r\u001b[K     |████████████████████████████████| 61 kB 5.6 MB/s eta 0:00:01\r\u001b[K     |████████████████████████████████| 61 kB 19 kB/s \n",
            "\u001b[?25hInstalling collected packages: emot\n",
            "Successfully installed emot-3.1\n"
          ]
        }
      ],
      "source": [
        "pip install emot"
      ],
      "id": "HwB6EcCaCxvs"
    },
    {
      "cell_type": "code",
      "execution_count": null,
      "metadata": {
        "colab": {
          "base_uri": "https://localhost:8080/"
        },
        "id": "FryxBDM8C3Zy",
        "outputId": "6ab20b87-102b-4e3b-9a21-cfa20afa4487"
      },
      "outputs": [
        {
          "output_type": "stream",
          "name": "stdout",
          "text": [
            "Looking in indexes: https://pypi.org/simple, https://us-python.pkg.dev/colab-wheels/public/simple/\n",
            "Collecting flashtext\n",
            "  Downloading flashtext-2.7.tar.gz (14 kB)\n",
            "Building wheels for collected packages: flashtext\n",
            "  Building wheel for flashtext (setup.py) ... \u001b[?25l\u001b[?25hdone\n",
            "  Created wheel for flashtext: filename=flashtext-2.7-py2.py3-none-any.whl size=9309 sha256=053a29f60d504ad0cd7a0ad939c059bec27d66eb3ac1721bc0c827d38645e133\n",
            "  Stored in directory: /root/.cache/pip/wheels/cb/19/58/4e8fdd0009a7f89dbce3c18fff2e0d0fa201d5cdfd16f113b7\n",
            "Successfully built flashtext\n",
            "Installing collected packages: flashtext\n",
            "Successfully installed flashtext-2.7\n"
          ]
        }
      ],
      "source": [
        "pip install flashtext"
      ],
      "id": "FryxBDM8C3Zy"
    },
    {
      "cell_type": "code",
      "execution_count": null,
      "metadata": {
        "colab": {
          "base_uri": "https://localhost:8080/"
        },
        "id": "NKRU-dqVC3sa",
        "outputId": "11e400aa-f611-4d2d-d16b-04d31c1cef8f"
      },
      "outputs": [
        {
          "output_type": "stream",
          "name": "stdout",
          "text": [
            "Looking in indexes: https://pypi.org/simple, https://us-python.pkg.dev/colab-wheels/public/simple/\n",
            "Collecting emoji\n",
            "  Downloading emoji-2.0.0.tar.gz (197 kB)\n",
            "\u001b[K     |████████████████████████████████| 197 kB 5.2 MB/s \n",
            "\u001b[?25hBuilding wheels for collected packages: emoji\n",
            "  Building wheel for emoji (setup.py) ... \u001b[?25l\u001b[?25hdone\n",
            "  Created wheel for emoji: filename=emoji-2.0.0-py3-none-any.whl size=193022 sha256=615d716fe8fb90ba6b68bdfea139bfcc816d622152dd9bec8aff4ba657f9834c\n",
            "  Stored in directory: /root/.cache/pip/wheels/ec/29/4d/3cfe7452ac7d8d83b1930f8a6205c3c9649b24e80f9029fc38\n",
            "Successfully built emoji\n",
            "Installing collected packages: emoji\n",
            "Successfully installed emoji-2.0.0\n"
          ]
        }
      ],
      "source": [
        "pip install emoji"
      ],
      "id": "NKRU-dqVC3sa"
    },
    {
      "cell_type": "code",
      "execution_count": null,
      "metadata": {
        "colab": {
          "base_uri": "https://localhost:8080/"
        },
        "id": "Pnfg9cK0C7b7",
        "outputId": "7a197b60-7382-43b9-d08a-bf28323adaa9"
      },
      "outputs": [
        {
          "output_type": "stream",
          "name": "stdout",
          "text": [
            "Looking in indexes: https://pypi.org/simple, https://us-python.pkg.dev/colab-wheels/public/simple/\n",
            "Collecting wordninja\n",
            "  Downloading wordninja-2.0.0.tar.gz (541 kB)\n",
            "\u001b[K     |████████████████████████████████| 541 kB 5.0 MB/s \n",
            "\u001b[?25hBuilding wheels for collected packages: wordninja\n",
            "  Building wheel for wordninja (setup.py) ... \u001b[?25l\u001b[?25hdone\n",
            "  Created wheel for wordninja: filename=wordninja-2.0.0-py3-none-any.whl size=541551 sha256=d940ec5eb38909f898fa1dabe0c34620c0997744f57d11829c123f8199806cbb\n",
            "  Stored in directory: /root/.cache/pip/wheels/dd/3f/eb/a2692e3d2b9deb1487b09ba4967dd6920bd5032bfd9ff7acfc\n",
            "Successfully built wordninja\n",
            "Installing collected packages: wordninja\n",
            "Successfully installed wordninja-2.0.0\n"
          ]
        }
      ],
      "source": [
        "pip install wordninja"
      ],
      "id": "Pnfg9cK0C7b7"
    },
    {
      "cell_type": "code",
      "execution_count": null,
      "metadata": {
        "colab": {
          "base_uri": "https://localhost:8080/"
        },
        "id": "9t4pE6pVC7mW",
        "outputId": "71872ed7-87e0-4d7b-f288-d01cf9f3136a"
      },
      "outputs": [
        {
          "output_type": "stream",
          "name": "stdout",
          "text": [
            "Looking in indexes: https://pypi.org/simple, https://us-python.pkg.dev/colab-wheels/public/simple/\n",
            "Collecting plot_keras_history\n",
            "  Downloading plot_keras_history-1.1.36.tar.gz (9.1 kB)\n",
            "Requirement already satisfied: matplotlib in /usr/local/lib/python3.7/dist-packages (from plot_keras_history) (3.2.2)\n",
            "Requirement already satisfied: pandas in /usr/local/lib/python3.7/dist-packages (from plot_keras_history) (1.3.5)\n",
            "Requirement already satisfied: scipy in /usr/local/lib/python3.7/dist-packages (from plot_keras_history) (1.7.3)\n",
            "Collecting sanitize_ml_labels>=1.0.33\n",
            "  Downloading sanitize_ml_labels-1.0.43.tar.gz (321 kB)\n",
            "\u001b[K     |████████████████████████████████| 321 kB 5.1 MB/s \n",
            "\u001b[?25hCollecting compress_json\n",
            "  Downloading compress_json-1.0.7.tar.gz (5.4 kB)\n",
            "Requirement already satisfied: pyparsing!=2.0.4,!=2.1.2,!=2.1.6,>=2.0.1 in /usr/local/lib/python3.7/dist-packages (from matplotlib->plot_keras_history) (3.0.9)\n",
            "Requirement already satisfied: cycler>=0.10 in /usr/local/lib/python3.7/dist-packages (from matplotlib->plot_keras_history) (0.11.0)\n",
            "Requirement already satisfied: python-dateutil>=2.1 in /usr/local/lib/python3.7/dist-packages (from matplotlib->plot_keras_history) (2.8.2)\n",
            "Requirement already satisfied: kiwisolver>=1.0.1 in /usr/local/lib/python3.7/dist-packages (from matplotlib->plot_keras_history) (1.4.4)\n",
            "Requirement already satisfied: numpy>=1.11 in /usr/local/lib/python3.7/dist-packages (from matplotlib->plot_keras_history) (1.21.6)\n",
            "Requirement already satisfied: typing-extensions in /usr/local/lib/python3.7/dist-packages (from kiwisolver>=1.0.1->matplotlib->plot_keras_history) (4.1.1)\n",
            "Requirement already satisfied: six>=1.5 in /usr/local/lib/python3.7/dist-packages (from python-dateutil>=2.1->matplotlib->plot_keras_history) (1.15.0)\n",
            "Requirement already satisfied: pytz>=2017.3 in /usr/local/lib/python3.7/dist-packages (from pandas->plot_keras_history) (2022.1)\n",
            "Building wheels for collected packages: plot-keras-history, sanitize-ml-labels, compress-json\n",
            "  Building wheel for plot-keras-history (setup.py) ... \u001b[?25l\u001b[?25hdone\n",
            "  Created wheel for plot-keras-history: filename=plot_keras_history-1.1.36-py3-none-any.whl size=9236 sha256=bc1e0daa653a1ad7cb78dfb3910f1e2bf1907c4ccdd6cb969a87db5d54f1576c\n",
            "  Stored in directory: /root/.cache/pip/wheels/ca/73/ed/41022b42c1d9ce60a8a2ebb71f042c7f895673760404d39fd7\n",
            "  Building wheel for sanitize-ml-labels (setup.py) ... \u001b[?25l\u001b[?25hdone\n",
            "  Created wheel for sanitize-ml-labels: filename=sanitize_ml_labels-1.0.43-py3-none-any.whl size=319231 sha256=8451cb244a8bd9af0eaf258b6481cf2e37adeae118fa9a57bc00eaaf0a35bd9e\n",
            "  Stored in directory: /root/.cache/pip/wheels/71/d5/dd/d4893fffb9dcb9494de70478ab9728ae5d105f7d849a90e81a\n",
            "  Building wheel for compress-json (setup.py) ... \u001b[?25l\u001b[?25hdone\n",
            "  Created wheel for compress-json: filename=compress_json-1.0.7-py3-none-any.whl size=5233 sha256=61f5f5195505ebb8f3ad443a377a1daf2478bc8c1e4f2c8ab78395331d98ea8e\n",
            "  Stored in directory: /root/.cache/pip/wheels/6d/7e/13/0e370d719528969d430498ca952417324595d116776840b279\n",
            "Successfully built plot-keras-history sanitize-ml-labels compress-json\n",
            "Installing collected packages: compress-json, sanitize-ml-labels, plot-keras-history\n",
            "Successfully installed compress-json-1.0.7 plot-keras-history-1.1.36 sanitize-ml-labels-1.0.43\n"
          ]
        }
      ],
      "source": [
        "pip install plot_keras_history"
      ],
      "id": "9t4pE6pVC7mW"
    },
    {
      "cell_type": "code",
      "execution_count": null,
      "metadata": {
        "colab": {
          "base_uri": "https://localhost:8080/"
        },
        "id": "ov-OnhCQZ-GS",
        "outputId": "cd0c6966-a3cb-43fa-c950-175651d3e329"
      },
      "outputs": [
        {
          "output_type": "stream",
          "name": "stdout",
          "text": [
            "Looking in indexes: https://pypi.org/simple, https://us-python.pkg.dev/colab-wheels/public/simple/\n",
            "Collecting nlpaug\n",
            "  Downloading nlpaug-1.1.11-py3-none-any.whl (410 kB)\n",
            "\u001b[K     |████████████████████████████████| 410 kB 4.9 MB/s \n",
            "\u001b[?25hRequirement already satisfied: pandas>=1.2.0 in /usr/local/lib/python3.7/dist-packages (from nlpaug) (1.3.5)\n",
            "Requirement already satisfied: gdown>=4.0.0 in /usr/local/lib/python3.7/dist-packages (from nlpaug) (4.4.0)\n",
            "Requirement already satisfied: requests>=2.22.0 in /usr/local/lib/python3.7/dist-packages (from nlpaug) (2.23.0)\n",
            "Requirement already satisfied: numpy>=1.16.2 in /usr/local/lib/python3.7/dist-packages (from nlpaug) (1.21.6)\n",
            "Requirement already satisfied: filelock in /usr/local/lib/python3.7/dist-packages (from gdown>=4.0.0->nlpaug) (3.7.1)\n",
            "Requirement already satisfied: beautifulsoup4 in /usr/local/lib/python3.7/dist-packages (from gdown>=4.0.0->nlpaug) (4.6.3)\n",
            "Requirement already satisfied: tqdm in /usr/local/lib/python3.7/dist-packages (from gdown>=4.0.0->nlpaug) (4.64.0)\n",
            "Requirement already satisfied: six in /usr/local/lib/python3.7/dist-packages (from gdown>=4.0.0->nlpaug) (1.15.0)\n",
            "Requirement already satisfied: python-dateutil>=2.7.3 in /usr/local/lib/python3.7/dist-packages (from pandas>=1.2.0->nlpaug) (2.8.2)\n",
            "Requirement already satisfied: pytz>=2017.3 in /usr/local/lib/python3.7/dist-packages (from pandas>=1.2.0->nlpaug) (2022.1)\n",
            "Requirement already satisfied: certifi>=2017.4.17 in /usr/local/lib/python3.7/dist-packages (from requests>=2.22.0->nlpaug) (2022.6.15)\n",
            "Requirement already satisfied: idna<3,>=2.5 in /usr/local/lib/python3.7/dist-packages (from requests>=2.22.0->nlpaug) (2.10)\n",
            "Requirement already satisfied: chardet<4,>=3.0.2 in /usr/local/lib/python3.7/dist-packages (from requests>=2.22.0->nlpaug) (3.0.4)\n",
            "Requirement already satisfied: urllib3!=1.25.0,!=1.25.1,<1.26,>=1.21.1 in /usr/local/lib/python3.7/dist-packages (from requests>=2.22.0->nlpaug) (1.24.3)\n",
            "Requirement already satisfied: PySocks!=1.5.7,>=1.5.6 in /usr/local/lib/python3.7/dist-packages (from requests>=2.22.0->nlpaug) (1.7.1)\n",
            "Installing collected packages: nlpaug\n",
            "Successfully installed nlpaug-1.1.11\n"
          ]
        }
      ],
      "source": [
        "pip install nlpaug"
      ],
      "id": "ov-OnhCQZ-GS"
    },
    {
      "cell_type": "code",
      "execution_count": null,
      "metadata": {
        "colab": {
          "base_uri": "https://localhost:8080/",
          "height": 1000
        },
        "id": "l9xiI4YQB3Ip",
        "outputId": "dc8ca5fc-bcc3-446a-8a64-d5ecdff9de24"
      },
      "outputs": [
        {
          "output_type": "stream",
          "name": "stdout",
          "text": [
            "Looking in indexes: https://pypi.org/simple, https://us-python.pkg.dev/colab-wheels/public/simple/\n",
            "Collecting datasets\n",
            "  Downloading datasets-2.4.0-py3-none-any.whl (365 kB)\n",
            "\u001b[K     |████████████████████████████████| 365 kB 5.1 MB/s \n",
            "\u001b[?25hRequirement already satisfied: numpy>=1.17 in /usr/local/lib/python3.7/dist-packages (from datasets) (1.21.6)\n",
            "Requirement already satisfied: packaging in /usr/local/lib/python3.7/dist-packages (from datasets) (21.3)\n",
            "Requirement already satisfied: aiohttp in /usr/local/lib/python3.7/dist-packages (from datasets) (3.8.1)\n",
            "Requirement already satisfied: importlib-metadata in /usr/local/lib/python3.7/dist-packages (from datasets) (4.12.0)\n",
            "Collecting fsspec[http]>=2021.11.1\n",
            "  Downloading fsspec-2022.7.1-py3-none-any.whl (141 kB)\n",
            "\u001b[K     |████████████████████████████████| 141 kB 78.3 MB/s \n",
            "\u001b[?25hRequirement already satisfied: pyarrow>=6.0.0 in /usr/local/lib/python3.7/dist-packages (from datasets) (6.0.1)\n",
            "Requirement already satisfied: requests>=2.19.0 in /usr/local/lib/python3.7/dist-packages (from datasets) (2.23.0)\n",
            "Requirement already satisfied: huggingface-hub<1.0.0,>=0.1.0 in /usr/local/lib/python3.7/dist-packages (from datasets) (0.8.1)\n",
            "Collecting multiprocess\n",
            "  Downloading multiprocess-0.70.13-py37-none-any.whl (115 kB)\n",
            "\u001b[K     |████████████████████████████████| 115 kB 79.2 MB/s \n",
            "\u001b[?25hRequirement already satisfied: tqdm>=4.62.1 in /usr/local/lib/python3.7/dist-packages (from datasets) (4.64.0)\n",
            "Requirement already satisfied: pandas in /usr/local/lib/python3.7/dist-packages (from datasets) (1.3.5)\n",
            "Requirement already satisfied: dill<0.3.6 in /usr/local/lib/python3.7/dist-packages (from datasets) (0.3.5.1)\n",
            "Collecting responses<0.19\n",
            "  Downloading responses-0.18.0-py3-none-any.whl (38 kB)\n",
            "Collecting xxhash\n",
            "  Downloading xxhash-3.0.0-cp37-cp37m-manylinux_2_17_x86_64.manylinux2014_x86_64.whl (212 kB)\n",
            "\u001b[K     |████████████████████████████████| 212 kB 78.9 MB/s \n",
            "\u001b[?25hRequirement already satisfied: typing-extensions>=3.7.4.3 in /usr/local/lib/python3.7/dist-packages (from huggingface-hub<1.0.0,>=0.1.0->datasets) (4.1.1)\n",
            "Requirement already satisfied: pyyaml>=5.1 in /usr/local/lib/python3.7/dist-packages (from huggingface-hub<1.0.0,>=0.1.0->datasets) (6.0)\n",
            "Requirement already satisfied: filelock in /usr/local/lib/python3.7/dist-packages (from huggingface-hub<1.0.0,>=0.1.0->datasets) (3.7.1)\n",
            "Requirement already satisfied: pyparsing!=3.0.5,>=2.0.2 in /usr/local/lib/python3.7/dist-packages (from packaging->datasets) (3.0.9)\n",
            "Requirement already satisfied: certifi>=2017.4.17 in /usr/local/lib/python3.7/dist-packages (from requests>=2.19.0->datasets) (2022.6.15)\n",
            "Requirement already satisfied: urllib3!=1.25.0,!=1.25.1,<1.26,>=1.21.1 in /usr/local/lib/python3.7/dist-packages (from requests>=2.19.0->datasets) (1.24.3)\n",
            "Requirement already satisfied: chardet<4,>=3.0.2 in /usr/local/lib/python3.7/dist-packages (from requests>=2.19.0->datasets) (3.0.4)\n",
            "Requirement already satisfied: idna<3,>=2.5 in /usr/local/lib/python3.7/dist-packages (from requests>=2.19.0->datasets) (2.10)\n",
            "Collecting urllib3!=1.25.0,!=1.25.1,<1.26,>=1.21.1\n",
            "  Downloading urllib3-1.25.11-py2.py3-none-any.whl (127 kB)\n",
            "\u001b[K     |████████████████████████████████| 127 kB 78.7 MB/s \n",
            "\u001b[?25hRequirement already satisfied: asynctest==0.13.0 in /usr/local/lib/python3.7/dist-packages (from aiohttp->datasets) (0.13.0)\n",
            "Requirement already satisfied: attrs>=17.3.0 in /usr/local/lib/python3.7/dist-packages (from aiohttp->datasets) (22.1.0)\n",
            "Requirement already satisfied: aiosignal>=1.1.2 in /usr/local/lib/python3.7/dist-packages (from aiohttp->datasets) (1.2.0)\n",
            "Requirement already satisfied: frozenlist>=1.1.1 in /usr/local/lib/python3.7/dist-packages (from aiohttp->datasets) (1.3.0)\n",
            "Requirement already satisfied: yarl<2.0,>=1.0 in /usr/local/lib/python3.7/dist-packages (from aiohttp->datasets) (1.8.1)\n",
            "Requirement already satisfied: async-timeout<5.0,>=4.0.0a3 in /usr/local/lib/python3.7/dist-packages (from aiohttp->datasets) (4.0.2)\n",
            "Requirement already satisfied: charset-normalizer<3.0,>=2.0 in /usr/local/lib/python3.7/dist-packages (from aiohttp->datasets) (2.1.0)\n",
            "Requirement already satisfied: multidict<7.0,>=4.5 in /usr/local/lib/python3.7/dist-packages (from aiohttp->datasets) (6.0.2)\n",
            "Requirement already satisfied: zipp>=0.5 in /usr/local/lib/python3.7/dist-packages (from importlib-metadata->datasets) (3.8.1)\n",
            "Requirement already satisfied: python-dateutil>=2.7.3 in /usr/local/lib/python3.7/dist-packages (from pandas->datasets) (2.8.2)\n",
            "Requirement already satisfied: pytz>=2017.3 in /usr/local/lib/python3.7/dist-packages (from pandas->datasets) (2022.1)\n",
            "Requirement already satisfied: six>=1.5 in /usr/local/lib/python3.7/dist-packages (from python-dateutil>=2.7.3->pandas->datasets) (1.15.0)\n",
            "Installing collected packages: urllib3, fsspec, xxhash, responses, multiprocess, datasets\n",
            "  Attempting uninstall: urllib3\n",
            "    Found existing installation: urllib3 1.24.3\n",
            "    Uninstalling urllib3-1.24.3:\n",
            "      Successfully uninstalled urllib3-1.24.3\n",
            "Successfully installed datasets-2.4.0 fsspec-2022.7.1 multiprocess-0.70.13 responses-0.18.0 urllib3-1.25.11 xxhash-3.0.0\n"
          ]
        },
        {
          "output_type": "display_data",
          "data": {
            "application/vnd.colab-display-data+json": {
              "pip_warning": {
                "packages": [
                  "urllib3"
                ]
              }
            }
          },
          "metadata": {}
        }
      ],
      "source": [
        "pip install datasets"
      ],
      "id": "l9xiI4YQB3Ip"
    },
    {
      "cell_type": "code",
      "execution_count": null,
      "metadata": {
        "colab": {
          "base_uri": "https://localhost:8080/"
        },
        "id": "afefGrEpCsFU",
        "outputId": "fc1a5672-54a2-4ad7-ee8f-89a05ab1ecdf"
      },
      "outputs": [
        {
          "output_type": "stream",
          "name": "stderr",
          "text": [
            "[nltk_data] Downloading package wordnet to /root/nltk_data...\n",
            "[nltk_data] Downloading package omw-1.4 to /root/nltk_data...\n",
            "[nltk_data] Downloading package averaged_perceptron_tagger to\n",
            "[nltk_data]     /root/nltk_data...\n",
            "[nltk_data]   Unzipping taggers/averaged_perceptron_tagger.zip.\n"
          ]
        },
        {
          "output_type": "execute_result",
          "data": {
            "text/plain": [
              "True"
            ]
          },
          "metadata": {},
          "execution_count": 9
        }
      ],
      "source": [
        "import pickle\n",
        "import csv\n",
        "from transformers import BertTokenizer\n",
        "import numpy as np\n",
        "from emot.emo_unicode import UNICODE_EMOJI, UNICODE_EMOJI_ALIAS, EMOTICONS_EMO\n",
        "from flashtext import KeywordProcessor\n",
        "import re\n",
        "import emoji\n",
        "from sklearn import model_selection\n",
        "import pandas as pd\n",
        "import keras\n",
        "from keras.layers import Lambda, GlobalAveragePooling1D, Dense, Embedding, Concatenate, Flatten\n",
        "from keras import backend as K\n",
        "from keras.models import Sequential\n",
        "import matplotlib.pyplot as plt\n",
        "from keras.layers import LSTM, RNN, Dropout, Input, LeakyReLU, Bidirectional,Conv1D, GlobalMaxPooling1D\n",
        "from keras.layers.core import Dense\n",
        "from keras.models import Model\n",
        "from sklearn.metrics import classification_report, accuracy_score, confusion_matrix, ConfusionMatrixDisplay\n",
        "from sklearn.model_selection import StratifiedKFold , KFold ,RepeatedKFold, cross_val_score\n",
        "import nlpaug\n",
        "import nlpaug.augmenter.word as naw\n",
        "import nltk\n",
        "import seaborn as sns\n",
        "import matplotlib.pyplot as plt\n",
        "import random\n",
        "import datasets as ds\n",
        "from sklearn.metrics import f1_score\n",
        "from transformers import TFDistilBertModel, DistilBertConfig, TFDistilBertForSequenceClassification\n",
        "import tensorflow as tf\n",
        "\n",
        "nltk.download('wordnet')\n",
        "nltk.download('omw-1.4')\n",
        "nltk.download('averaged_perceptron_tagger')\n"
      ],
      "id": "afefGrEpCsFU"
    },
    {
      "cell_type": "markdown",
      "metadata": {
        "id": "15552356"
      },
      "source": [
        "## Model Start"
      ],
      "id": "15552356"
    },
    {
      "cell_type": "code",
      "execution_count": null,
      "metadata": {
        "id": "d0c3d89d"
      },
      "outputs": [],
      "source": [
        "PRE_TRAINED_MODEL_NAME = 'bert-base-uncased'\n",
        "MAX_LEN = 200"
      ],
      "id": "d0c3d89d"
    },
    {
      "cell_type": "code",
      "execution_count": null,
      "metadata": {
        "id": "4f2d990b",
        "colab": {
          "base_uri": "https://localhost:8080/",
          "height": 113,
          "referenced_widgets": [
            "c8c8089a80074d98a051b2363bd5f076",
            "0d913452c1bf4869abb898518dcaf343",
            "177a766ad96f4257a767535075ed8684",
            "72e20a07c1444f94b04c7ddda2ea11a0",
            "77a3f0c293ff41fe909b221b60c5b459",
            "c7b826827a12448196c6186a3716cca3",
            "727b0ae132a74776b9cb6f0f94538cca",
            "29bf0214bc5e45e6b36f38dd954318ae",
            "b06abea49523430d8d23b8cce7987c4e",
            "ea259a254a2a49b48695d540de4b3948",
            "acb10e3f076949798cb1cfff2805e961",
            "e079f09b56f340babd6f65a1a888b07d",
            "b7620f4f800a4b598da3741597074b32",
            "0774d80799e2443a88ea8eb613f86a17",
            "781c9ff930aa4e75b5dcf7e312a14689",
            "2208504ec8864c6bb3e4528e6adaea69",
            "1b6a0484437a43be8c4a3352c1e3c4cb",
            "30d1a1200bd54edfa676b0b0a1acb618",
            "2dc3614c33d7441396d8463935ba9304",
            "8e9b9b2a749640cfb55d90b1cd6852a7",
            "b44e04b8ba014904a34fe55b83a2c3e1",
            "5d1dd223728e4191b9c6dc4c2dbca869",
            "830b107b26d94845b8fc0b69f6c4b3f6",
            "5afca69bbf2e44299734316658ebc10c",
            "e3eec0606c58455aa146c403d9dd9753",
            "a6c447e3efe2447b9dca6bd548217f22",
            "9fee3ef8e5c040c4a7e4ca5a32bc0934",
            "2592bef588ca442a90eceb15f66595b2",
            "a19ab415678c4c64929b9e7e20803985",
            "89d3d77a3d5645d892dc5fef6e7cf871",
            "60036d273e634804931db0e410adfa68",
            "9bb0e81ee3464d238be90aefe7b913ff",
            "2801c4c624dd49e5838beb0248e2b307"
          ]
        },
        "outputId": "3bc302c5-9f71-465c-d350-164af73ed9b6"
      },
      "outputs": [
        {
          "output_type": "display_data",
          "data": {
            "text/plain": [
              "Downloading vocab.txt:   0%|          | 0.00/226k [00:00<?, ?B/s]"
            ],
            "application/vnd.jupyter.widget-view+json": {
              "version_major": 2,
              "version_minor": 0,
              "model_id": "c8c8089a80074d98a051b2363bd5f076"
            }
          },
          "metadata": {}
        },
        {
          "output_type": "display_data",
          "data": {
            "text/plain": [
              "Downloading tokenizer_config.json:   0%|          | 0.00/28.0 [00:00<?, ?B/s]"
            ],
            "application/vnd.jupyter.widget-view+json": {
              "version_major": 2,
              "version_minor": 0,
              "model_id": "e079f09b56f340babd6f65a1a888b07d"
            }
          },
          "metadata": {}
        },
        {
          "output_type": "display_data",
          "data": {
            "text/plain": [
              "Downloading config.json:   0%|          | 0.00/570 [00:00<?, ?B/s]"
            ],
            "application/vnd.jupyter.widget-view+json": {
              "version_major": 2,
              "version_minor": 0,
              "model_id": "830b107b26d94845b8fc0b69f6c4b3f6"
            }
          },
          "metadata": {}
        }
      ],
      "source": [
        "# Defining DistilBERT tokonizer\n",
        "tokenizer = BertTokenizer.from_pretrained(PRE_TRAINED_MODEL_NAME, add_special_tokens=True,\n",
        "                                                max_length=MAX_LEN, pad_to_max_length=True)\n",
        "\n",
        "def tokenize(sentences, tokenizer, pad_length=MAX_LEN, pad_to_max_length=True ):\n",
        "    if type(sentences) == str:\n",
        "        inputs = tokenizer.encode_plus(sentences, add_special_tokens=True, max_length=pad_length, pad_to_max_length=pad_to_max_length, \n",
        "                                             return_attention_mask=True, return_token_type_ids=True)\n",
        "        return np.asarray(inputs['input_ids'], dtype='int32'), np.asarray(inputs['attention_mask'], dtype='int32'), np.asarray(inputs['token_type_ids'], dtype='int32')\n",
        "    input_ids, input_masks, input_segments = [],[],[]\n",
        "    for sentence in sentences:\n",
        "        inputs = tokenizer.encode_plus(sentence, add_special_tokens=True, max_length=pad_length, pad_to_max_length=pad_to_max_length, \n",
        "                                             return_attention_mask=True, return_token_type_ids=True)\n",
        "        input_ids.append(inputs['input_ids'])\n",
        "        input_masks.append(inputs['attention_mask'])\n",
        "        input_segments.append(inputs['token_type_ids'])    \n",
        "        \n",
        "    return np.asarray(input_ids, dtype='int32'), np.asarray(input_masks, dtype='int32'), np.asarray(input_segments, dtype='int32')\n"
      ],
      "id": "4f2d990b"
    },
    {
      "cell_type": "markdown",
      "source": [
        "#Load HASOC 2019 Twitter and Facebook Data"
      ],
      "metadata": {
        "id": "Fj2142PYu3iu"
      },
      "id": "Fj2142PYu3iu"
    },
    {
      "cell_type": "code",
      "execution_count": null,
      "metadata": {
        "id": "d7add546"
      },
      "outputs": [],
      "source": [
        "corpus = []\n",
        "rawTrainingData = []\n",
        "rawTestData = []\n",
        "user_list = []\n",
        "\n",
        "def import_data(path):\n",
        "  tempTrainingData = []\n",
        "  tempTestData = []\n",
        "  \n",
        "\n",
        "  with open(path, 'r') as csvfile:\n",
        "    if path == '/content/english_dataset.tsv':\n",
        "      lineReader = csv.reader(csvfile, delimiter= '\\t', quotechar=\"\\\"\")\n",
        "      for row in lineReader:\n",
        "        if len(row) == 5:\n",
        "          user_list.extend(re.findall(\"[@]\\w+\", row[1]))\n",
        "          tempTrainingData.append([row[0],row[1],row[2]])\n",
        "      rawTrainingData.extend(tempTrainingData)    \n",
        "    else:\n",
        "      lineReader = csv.reader(csvfile, delimiter= '\\t', quotechar=\"\\\"\")\n",
        "      for row in lineReader:\n",
        "        user_list.extend(re.findall(\"[@]\\w+\", row[1]))\n",
        "        tempTestData.append([row[0],row[1],row[2]])\n",
        "      rawTestData.extend(tempTestData[1:])\n",
        "\n",
        "\n",
        "import_data('/content/english_dataset.tsv')\n",
        "import_data('/content/hasoc2019_en_test-2919.tsv')"
      ],
      "id": "d7add546"
    },
    {
      "cell_type": "markdown",
      "source": [
        "##Organise Data"
      ],
      "metadata": {
        "id": "QUOFndaxu63O"
      },
      "id": "QUOFndaxu63O"
    },
    {
      "cell_type": "code",
      "execution_count": null,
      "metadata": {
        "id": "386b75d1"
      },
      "outputs": [],
      "source": [
        "# Now we can download and preprocess the data \n",
        "#print(rawTrainingData[0])\n",
        "\n",
        "# I want to extract the text\n",
        "\n",
        "textTrainingData = []\n",
        "labeledTrainingData = []\n",
        "trainLabels = []\n",
        "\n",
        "for r in rawTrainingData:\n",
        "    textTrainingData.extend([r[1]])\n",
        "    labeledTrainingData.append([r[1], r[2]])\n",
        "    trainLabels.append([r[2]])\n",
        "\n",
        "\n",
        "textTestData = []\n",
        "labeledTestData = []\n",
        "testLabels = []\n",
        "\n",
        "for r in rawTestData:\n",
        "    textTestData.extend([r[1]])\n",
        "    labeledTestData.append([r[1], r[2]])\n",
        "    testLabels.append([r[2]])    \n",
        "   "
      ],
      "id": "386b75d1"
    },
    {
      "cell_type": "markdown",
      "source": [
        "# Preprocessing"
      ],
      "metadata": {
        "id": "wJURQygp2PQR"
      },
      "id": "wJURQygp2PQR"
    },
    {
      "cell_type": "markdown",
      "source": [
        "##Define Some functions for Function for Emoji\n"
      ],
      "metadata": {
        "id": "1qdKZkw2u-dz"
      },
      "id": "1qdKZkw2u-dz"
    },
    {
      "cell_type": "code",
      "execution_count": null,
      "metadata": {
        "id": "13af9f87"
      },
      "outputs": [],
      "source": [
        "# Here we can replace emojis with the descriptive keywords\n",
        "all_emoticons = {**UNICODE_EMOJI, **UNICODE_EMOJI_ALIAS, **EMOTICONS_EMO}\n",
        "all_emoticons = {k:v.replace(\":\",\"\").replace(\"_\",\" \").strip() for k,v in all_emoticons.items()}\n",
        "kp_all_emoticons = KeywordProcessor()\n",
        "for k, v in all_emoticons.items():\n",
        "    kp_all_emoticons.add_keyword(k, v)"
      ],
      "id": "13af9f87"
    },
    {
      "cell_type": "code",
      "execution_count": null,
      "metadata": {
        "id": "b60bdfa9"
      },
      "outputs": [],
      "source": [
        "# Function to add a space around emojis, otherwise they were not picked up\n",
        "\n",
        "def add_space_emoji(text):\n",
        "    result = ''\n",
        "    for char in text:\n",
        "        if char in UNICODE_EMOJI:\n",
        "            result += ' '\n",
        "        result += char\n",
        "        \n",
        "    return result.strip()     \n",
        "            \n",
        "\n",
        "text = add_space_emoji('hello')            "
      ],
      "id": "b60bdfa9"
    },
    {
      "cell_type": "markdown",
      "source": [
        "##Define preprocessing function"
      ],
      "metadata": {
        "id": "-LWZOaz6vEqR"
      },
      "id": "-LWZOaz6vEqR"
    },
    {
      "cell_type": "code",
      "execution_count": null,
      "metadata": {
        "id": "01eabd47"
      },
      "outputs": [],
      "source": [
        "# preprocess the data\n",
        "\n",
        "#Questions\n",
        "# HOW TO DEAL WITH HASHTAGS\n",
        "\n",
        "import re\n",
        "import wordninja as wn\n",
        "\n",
        "def preprocess(corpus):\n",
        "    data = []   \n",
        "    posts = [] \n",
        "    user_list = []\n",
        "    \n",
        "    emoticons = [':-)', ':)', '(:', '(-:', ':))', '((:', ':-D', ':D', 'X-D', 'XD', 'xD', 'xD', '<3', '</3', ':\\*',\n",
        "                 ';-)',\n",
        "                 ';)', ';-D', ';D', '(;', '(-;', ':-(', ':(', '(:', '(-:', ':,(', ':\\'(', ':\"(', ':((', ':D', '=D',\n",
        "                 '=)',\n",
        "                 '(=', '=(', ')=', '=-O', 'O-=', ':o', 'o:', 'O:', 'O:', ':-o', 'o-:', ':P', ':p', ':S', ':s', ':@',\n",
        "                 ':>',\n",
        "                 ':<', '^_^', '^.^', '>.>', 'T_T', 'T-T', '-.-', '*.*', '~.~', ':*', ':-*', 'xP', 'XP', 'XP', 'Xp',\n",
        "                 ':-|',\n",
        "                 ':->', ':-<', '$_$', '8-)', ':-P', ':-p', '=P', '=p', ':*)', '*-*', 'B-)', 'O.o', 'X-(', ')-X']\n",
        "    \n",
        "    for cor in corpus:\n",
        "      if cor[0] not in posts:\n",
        "        # GENERAL  \n",
        "        text = cor[0].lower() # remove uppercase items\n",
        "        users = []\n",
        "        if len(re.findall(\"[@]\\w+\", text)) != 0:\n",
        "            users.extend(re.findall(\"[@]\\w+\", text))\n",
        "            user_list.extend(re.findall(\"[@]\\w+\", text))\n",
        "        for user in users:\n",
        "            text = text.replace(user,'<user>') # now we replace users with User (65% racist tweets?)\n",
        "        #text = text.replace('@', '<user>')\n",
        "        urls = re.findall(r'(http[^\\s]+)', text)    \n",
        "        if len(urls) != 0:\n",
        "            for url in urls:\n",
        "                text = text.replace(url, \"<url>\") # now re replace URL with <url>\n",
        "        numbers = re.findall('[0-9]+', text)\n",
        "        for number in numbers:\n",
        "            text = text.replace(number, \"<number>\")\n",
        "        #text = add_space_emoji(text)\n",
        "        text = kp_all_emoticons.replace_keywords(text) # replace emojis with descriptions\n",
        "        text = text.replace('#', '<hashtag>')\n",
        "        text = re.sub(r\"([?.!,¿])\", r\" \", text)\n",
        "        text = re.sub(r'[\" \"]+', \" \", text)\n",
        "        data.append([text,cor[1]])\n",
        "        posts.append(cor[0])\n",
        "        \n",
        "        \n",
        "        \n",
        "    return data, user_list"
      ],
      "id": "01eabd47"
    },
    {
      "cell_type": "markdown",
      "source": [
        "Here we run the preprocessing funcitons and split the output into text and labels"
      ],
      "metadata": {
        "id": "PzrtGT9agEni"
      },
      "id": "PzrtGT9agEni"
    },
    {
      "cell_type": "code",
      "execution_count": null,
      "metadata": {
        "id": "17994a00"
      },
      "outputs": [],
      "source": [
        "preprocessed_traindata, train_accounts = preprocess(labeledTrainingData)\n",
        "preprocessed_testdata, test_accounts = preprocess(labeledTestData)\n",
        "\n",
        "\n",
        "\n",
        "train_text = [p[0] for p in preprocessed_traindata]\n",
        "train_labels = [p[1] for p in preprocessed_traindata]\n",
        "\n",
        "#train_text, val_text, train_labels, val_labels = model_selection.train_test_split(X_train, y_train, random_state = 2018, test_size = 0.2, stratify = trainLabels)\n",
        "\n",
        "test_text = [p[0] for p in preprocessed_testdata]\n",
        "test_labels = [p[1] for p in preprocessed_testdata]\n",
        "\n",
        "\n",
        "\n",
        "preTrainingData = list(zip(train_text, train_labels))  \n",
        "#preValData = list(zip(val_text, val_labels))                                                                            \n",
        "preTestData = list(zip(test_text, test_labels))"
      ],
      "id": "17994a00"
    },
    {
      "cell_type": "markdown",
      "source": [
        "Here we augment the data - since it decreased the performance of the model we did not use it. We return the input (preprocessed_data)"
      ],
      "metadata": {
        "id": "-ev3rBH2gOrn"
      },
      "id": "-ev3rBH2gOrn"
    },
    {
      "cell_type": "code",
      "execution_count": null,
      "metadata": {
        "id": "c1c40f8a"
      },
      "outputs": [],
      "source": [
        "aug = naw.SynonymAug(aug_src='wordnet',aug_max=3)\n",
        "\n",
        "def augment_data(preprocessed_data):\n",
        "\n",
        "  augmented_data = []\n",
        "\n",
        "  '''for d in preprocessed_data:\n",
        "    augmented_data.append([d[0], d[1]])\n",
        "    if d[1] != 'none':\n",
        "       augmented_text = aug.augment(d[0], n= 2)\n",
        "       for i in range(len(augmented_text)):\n",
        "          augmented_data.append([augmented_text[i],d[1]])\n",
        "  '''\n",
        "\n",
        "  counter = 0 \n",
        "  total_counter = 0\n",
        "\n",
        "  for d in preprocessed_data:\n",
        "    if d[1] == 'NOT':\n",
        "       counter += 1\n",
        "    if d[1] != 'NOT' or counter < 3000:\n",
        "       augmented_data.append([d[0], d[1]])\n",
        "    #  total_counter += 1\n",
        "    #if total_counter == 20000:\n",
        "      #break        \n",
        "\n",
        "  \n",
        "  \n",
        "      \n",
        "\n",
        "  return preprocessed_data"
      ],
      "id": "c1c40f8a"
    },
    {
      "cell_type": "code",
      "execution_count": null,
      "metadata": {
        "id": "HofhLHXlFAUR"
      },
      "outputs": [],
      "source": [
        "augmented_data = augment_data(preTrainingData)"
      ],
      "id": "HofhLHXlFAUR"
    },
    {
      "cell_type": "code",
      "execution_count": null,
      "metadata": {
        "colab": {
          "base_uri": "https://localhost:8080/"
        },
        "id": "sNJw0ilrmqs0",
        "outputId": "89be3d24-dbd7-444d-d889-76f1e2a92824"
      },
      "outputs": [
        {
          "output_type": "execute_result",
          "data": {
            "text/plain": [
              "5829"
            ]
          },
          "metadata": {},
          "execution_count": 20
        }
      ],
      "source": [
        "len(augmented_data)"
      ],
      "id": "sNJw0ilrmqs0"
    },
    {
      "cell_type": "markdown",
      "source": [
        "#Study Data imbalances\n",
        "\n",
        "##Training Data"
      ],
      "metadata": {
        "id": "gKAyotwogaHN"
      },
      "id": "gKAyotwogaHN"
    },
    {
      "cell_type": "code",
      "execution_count": null,
      "metadata": {
        "colab": {
          "base_uri": "https://localhost:8080/",
          "height": 266
        },
        "id": "llDMrUDTFSc9",
        "outputId": "2f3698df-75cf-4189-c81c-cc4cb253a8ff"
      },
      "outputs": [
        {
          "output_type": "display_data",
          "data": {
            "text/plain": [
              "<Figure size 432x288 with 1 Axes>"
            ],
            "image/png": "[encoded data removed]"
          },
          "metadata": {
            "needs_background": "light"
          }
        }
      ],
      "source": [
        "# Structuring the training data\n",
        "\n",
        "textTrainingData = []\n",
        "trainingLabels = []\n",
        "\n",
        "for obj in augmented_data:\n",
        "  textTrainingData.append(obj[0])\n",
        "  trainingLabels.append(obj[1])\n",
        "\n",
        "keys, counts = np.unique(trainingLabels, return_counts = True)\n",
        "plt.bar(keys, counts)\n",
        "plt.show()"
      ],
      "id": "llDMrUDTFSc9"
    },
    {
      "cell_type": "markdown",
      "source": [
        "##Test Data"
      ],
      "metadata": {
        "id": "6IAEcHaBvQm6"
      },
      "id": "6IAEcHaBvQm6"
    },
    {
      "cell_type": "code",
      "execution_count": null,
      "metadata": {
        "colab": {
          "base_uri": "https://localhost:8080/",
          "height": 265
        },
        "id": "991PnBxmL6UZ",
        "outputId": "cba5a961-35f2-4dd3-f845-3e0a2656efbc"
      },
      "outputs": [
        {
          "output_type": "display_data",
          "data": {
            "text/plain": [
              "<Figure size 432x288 with 1 Axes>"
            ],
            "image/png": "[encoded data removed]"
          },
          "metadata": {
            "needs_background": "light"
          }
        }
      ],
      "source": [
        "\n",
        "# Structuring the validation data\n",
        "\n",
        "textTestData = []\n",
        "testLabels = []\n",
        "\n",
        "for obj in preTestData:\n",
        "  textTestData.append(obj[0])\n",
        "  testLabels.append(obj[1])\n",
        "\n",
        "keys, counts = np.unique(testLabels, return_counts = True)\n",
        "plt.bar(keys, counts)\n",
        "plt.show()  "
      ],
      "id": "991PnBxmL6UZ"
    },
    {
      "cell_type": "markdown",
      "source": [
        "##Edit the Labels to One Hot Vectors\n",
        "\n",
        "Here we change the label to one-hot vectors."
      ],
      "metadata": {
        "id": "GeCLtlMPgftP"
      },
      "id": "GeCLtlMPgftP"
    },
    {
      "cell_type": "code",
      "execution_count": null,
      "metadata": {
        "id": "c0f93785"
      },
      "outputs": [],
      "source": [
        "\n",
        "def label_2_int(dataset):\n",
        "    y = []\n",
        "    for example in dataset:\n",
        "        if example[1] in ['NOT','2']:\n",
        "            y.append([1,0])\n",
        "        else:\n",
        "            y.append([0,1])\n",
        "    return y    \n",
        "\n",
        "train_labels = label_2_int(augmented_data)\n",
        "#val_labels = label_2_int(preValData)\n",
        "test_labels = label_2_int(preTestData)"
      ],
      "id": "c0f93785"
    },
    {
      "cell_type": "code",
      "execution_count": null,
      "metadata": {
        "colab": {
          "base_uri": "https://localhost:8080/"
        },
        "id": "0fbc2887",
        "outputId": "a93a55d9-d938-478c-fd1d-1b9364fa723f"
      },
      "outputs": [
        {
          "output_type": "stream",
          "name": "stdout",
          "text": [
            "5829\n",
            "1153\n"
          ]
        }
      ],
      "source": [
        "print(len(train_labels))\n",
        "print(len(test_labels))"
      ],
      "id": "0fbc2887"
    },
    {
      "cell_type": "code",
      "execution_count": null,
      "metadata": {
        "id": "zL-_Dv1CMmjW"
      },
      "outputs": [],
      "source": [
        "def label_counter(label):\n",
        "  counter = 0\n",
        "  for t in label:\n",
        "    if np.argmax(t) != 0:\n",
        "      counter += 1\n",
        "  return counter"
      ],
      "id": "zL-_Dv1CMmjW"
    },
    {
      "cell_type": "code",
      "execution_count": null,
      "metadata": {
        "colab": {
          "base_uri": "https://localhost:8080/"
        },
        "id": "SvHPqnYB0hDU",
        "outputId": "f3fc89d0-2249-4e34-b772-20ac63f5a701"
      },
      "outputs": [
        {
          "output_type": "stream",
          "name": "stdout",
          "text": [
            "288\n"
          ]
        }
      ],
      "source": [
        "\n",
        "label_counter(train_labels)\n",
        "#print(label_counter(val_labels))\n",
        "print(label_counter(test_labels))\n"
      ],
      "id": "SvHPqnYB0hDU"
    },
    {
      "cell_type": "markdown",
      "source": [
        "#Tokenization"
      ],
      "metadata": {
        "id": "SYoBid1Ego63"
      },
      "id": "SYoBid1Ego63"
    },
    {
      "cell_type": "code",
      "execution_count": null,
      "metadata": {
        "colab": {
          "base_uri": "https://localhost:8080/"
        },
        "id": "0ae598d8",
        "outputId": "91d922e9-5c96-413f-9ab5-d0568e007029"
      },
      "outputs": [
        {
          "output_type": "stream",
          "name": "stderr",
          "text": [
            "Truncation was not explicitly activated but `max_length` is provided a specific value, please use `truncation=True` to explicitly truncate examples to max length. Defaulting to 'longest_first' truncation strategy. If you encode pairs of sequences (GLUE-style) with the tokenizer you can select this strategy more precisely by providing a specific strategy to `truncation`.\n",
            "/usr/local/lib/python3.7/dist-packages/transformers/tokenization_utils_base.py:2329: FutureWarning: The `pad_to_max_length` argument is deprecated and will be removed in a future version, use `padding=True` or `padding='longest'` to pad to the longest sequence in the batch, or use `padding='max_length'` to pad to a max length. In this case, you can give a specific length with `max_length` (e.g. `max_length=45`) or leave max_length to None to pad to the maximal input size of the model (e.g. 512 for Bert).\n",
            "  FutureWarning,\n"
          ]
        }
      ],
      "source": [
        "train_ids, train_masks, train_segment = tokenize(textTrainingData, tokenizer)\n",
        "test_ids, test_masks, test_segment = tokenize(textTestData, tokenizer)"
      ],
      "id": "0ae598d8"
    },
    {
      "cell_type": "code",
      "execution_count": null,
      "metadata": {
        "id": "24733310"
      },
      "outputs": [],
      "source": [
        "train_df = pd.DataFrame(list(zip(train_ids, train_masks)), columns = ['input_ids', 'attention_masks'])\n",
        "test_df = pd.DataFrame(list(zip(test_ids, test_masks)), columns = ['input_ids', 'attention_masks'])"
      ],
      "id": "24733310"
    },
    {
      "cell_type": "code",
      "execution_count": null,
      "metadata": {
        "id": "1b4bd5b8"
      },
      "outputs": [],
      "source": [
        "import torch\n",
        "import torch.nn as nn\n",
        "\n",
        "# for train set\n",
        "train_seq = np.array(train_df['input_ids'].tolist())\n",
        "train_mask = np.array(train_df['attention_masks'].tolist())\n",
        "train_y = np.array(train_labels)\n",
        "\n",
        "\n",
        "# for test set\n",
        "test_seq = np.array(test_df['input_ids'].tolist())\n",
        "test_mask = np.array(test_df['attention_masks'].tolist())\n",
        "test_y = np.array(test_labels)"
      ],
      "id": "1b4bd5b8"
    },
    {
      "cell_type": "code",
      "execution_count": null,
      "metadata": {
        "colab": {
          "base_uri": "https://localhost:8080/"
        },
        "id": "9da24bec",
        "outputId": "eb63a387-5040-43ef-b4ac-664c4d53b661"
      },
      "outputs": [
        {
          "output_type": "stream",
          "name": "stdout",
          "text": [
            "2251\n"
          ]
        }
      ],
      "source": [
        "print(label_counter(train_y))"
      ],
      "id": "9da24bec"
    },
    {
      "cell_type": "markdown",
      "source": [
        "#Load the Youtube and Reddit ETHOS Data"
      ],
      "metadata": {
        "id": "bSHXYmTpgx-E"
      },
      "id": "bSHXYmTpgx-E"
    },
    {
      "cell_type": "code",
      "execution_count": null,
      "metadata": {
        "colab": {
          "base_uri": "https://localhost:8080/",
          "height": 233,
          "referenced_widgets": [
            "a65ed6a12d3a4b31955ac019af042c7f",
            "4add94c7daf44e39b78f101dc18113e5",
            "8dd70dfe4bfb471bb9a04468830bfa52",
            "4e9efac164a34ec489cbcb3ab567406b",
            "075dd5bf29df42ff9b8206d8e1917f98",
            "6c8c924b20f2422dbf0816f27dc2571c",
            "4b63f1deff074c2ca5adec4073bce675",
            "47f67e6220034c30b1878a388380518c",
            "76a564ffa3af48ad94b421fc3422f356",
            "dd9098b1af0948b4a53495a9546bc2eb",
            "5c219aa045fc44768feef5b11521478b",
            "43ec75f068494dbda03358ee27fe52b4",
            "f4fdca158752431fa70a38e11f329c22",
            "263293e2686146c5944e8238d83465f4",
            "6f8004d0b8734913b0b4628ff08754aa",
            "7ead6909b5834183ae0e3fd2f385cad2",
            "1a3e2a49ea334546a6b6b3c9733d93ab",
            "4f58083886df47199092b9123df81d2b",
            "d0932bb2c7a347dc823cf67d523cb32b",
            "253621d7d28d4db9b0e0bc531c1d3767",
            "65f9f929a9da4e52aabf8b84ef18e83c",
            "85f73acaf7424c5da762d50835cb4be8",
            "990b90ee8e684c8f8ce80d2ef65581e2",
            "ff31339f822146f3b839aefca447ae1e",
            "20723f57ec4f4c21bb37b2e762ba438e",
            "c7038ad59dd448099de70915979c76a5",
            "15adda9b1f464c488af089063d7b9b97",
            "6465b79d9c8a433584d3bf5cd9c1ebd9",
            "40ab5e8908ab4b9fbabed314db67dd4c",
            "284326f0d9854c6b9f95d71209a7225c",
            "e36c4297dbdc476b9b9d21e0212ff12d",
            "7299e3db8f494e2eb72420ff90f40e5a",
            "4aa784aca1124bcd9d610575fce4a736",
            "f4f134399c6b47e8a254b8cb25a73e03",
            "5360c3163796446b83624da0951a8ac0",
            "01db3600614544cfacae68209fadf14c",
            "31d932b332c54f70bb117ec257638aed",
            "b076a5b2c1ef4024af4b2a869c2ec5af",
            "159acee5803844b6a9acd8ddd207720a",
            "cefcef1a516b4910bc2e80cdeab3bbbe",
            "609a24d286f0404c9d774156a7afc3b0",
            "75afbe777d244773b9eed9fe64ff8631",
            "b9accdfb003d4dbd98f25c8e368ec0fe",
            "a4ccd0c6acc6477c9eef8d381b0d162a",
            "5a6042a12dbb4cccb4be723bdebb362c",
            "7c094fe1e56f4d7db4c19e25544a14fa",
            "f6f9122724c9430988587469f0bef177",
            "1cb4e66416d04425b712d785cfde23da",
            "7db5d19905a74afe9ce40d223eed557c",
            "36e75b2a1eb14dc2bb8967a8b80352c3",
            "5abd059709524501943444c4b5f65da5",
            "cd159d0f33be4fad89ad8f678a7be053",
            "fd9a7a19017641d2925112483629ab06",
            "a39df4e3f3124b8a9287bc1d09ceb38a",
            "d68fb3e03d6f45c6952e34899ad39ad4",
            "0734dcf259284c24834ce1a085955978",
            "84694a55ec7d4bf1bd2b8f7b5648464e",
            "437d8d0d18734c31bef038c0a5c7cc11",
            "bd33dbca482d4744bd1de86fae073ffa",
            "f7371df9912e453abd9a9d8f894cee35",
            "63cab649963d458da5bf031a3e8a04c0",
            "c84fbcfcf2604df3a59d9e8440213630",
            "add12bfc81194aa9894006277308f5b7",
            "54e6c1d71e2c451a8fa12f2709437c88",
            "8cf4ef226a7d410f83d2d1c033c3bcd7",
            "b187e1af70e54fb89aca1c328afe28e3"
          ]
        },
        "id": "ecJiQCCALTVc",
        "outputId": "d038f01d-1a41-4ee7-f481-ee3e1f2e3671"
      },
      "outputs": [
        {
          "output_type": "display_data",
          "data": {
            "text/plain": [
              "Downloading builder script:   0%|          | 0.00/1.85k [00:00<?, ?B/s]"
            ],
            "application/vnd.jupyter.widget-view+json": {
              "version_major": 2,
              "version_minor": 0,
              "model_id": "a65ed6a12d3a4b31955ac019af042c7f"
            }
          },
          "metadata": {}
        },
        {
          "output_type": "display_data",
          "data": {
            "text/plain": [
              "Downloading metadata:   0%|          | 0.00/940 [00:00<?, ?B/s]"
            ],
            "application/vnd.jupyter.widget-view+json": {
              "version_major": 2,
              "version_minor": 0,
              "model_id": "43ec75f068494dbda03358ee27fe52b4"
            }
          },
          "metadata": {}
        },
        {
          "output_type": "stream",
          "name": "stdout",
          "text": [
            "Downloading and preparing dataset ethos/binary (download: 121.01 KiB, generated: 121.90 KiB, post-processed: Unknown size, total: 242.91 KiB) to /root/.cache/huggingface/datasets/ethos/binary/1.0.0/898d3d005459ee3ff80dbeec2f169c6b7ea13de31a08458193e27dec3dd9ae38...\n"
          ]
        },
        {
          "output_type": "display_data",
          "data": {
            "text/plain": [
              "Downloading data files:   0%|          | 0/1 [00:00<?, ?it/s]"
            ],
            "application/vnd.jupyter.widget-view+json": {
              "version_major": 2,
              "version_minor": 0,
              "model_id": "990b90ee8e684c8f8ce80d2ef65581e2"
            }
          },
          "metadata": {}
        },
        {
          "output_type": "display_data",
          "data": {
            "text/plain": [
              "Downloading data:   0%|          | 0.00/50.3k [00:00<?, ?B/s]"
            ],
            "application/vnd.jupyter.widget-view+json": {
              "version_major": 2,
              "version_minor": 0,
              "model_id": "f4f134399c6b47e8a254b8cb25a73e03"
            }
          },
          "metadata": {}
        },
        {
          "output_type": "display_data",
          "data": {
            "text/plain": [
              "Extracting data files:   0%|          | 0/1 [00:00<?, ?it/s]"
            ],
            "application/vnd.jupyter.widget-view+json": {
              "version_major": 2,
              "version_minor": 0,
              "model_id": "5a6042a12dbb4cccb4be723bdebb362c"
            }
          },
          "metadata": {}
        },
        {
          "output_type": "display_data",
          "data": {
            "text/plain": [
              "Generating train split:   0%|          | 0/998 [00:00<?, ? examples/s]"
            ],
            "application/vnd.jupyter.widget-view+json": {
              "version_major": 2,
              "version_minor": 0,
              "model_id": "0734dcf259284c24834ce1a085955978"
            }
          },
          "metadata": {}
        },
        {
          "output_type": "stream",
          "name": "stdout",
          "text": [
            "Dataset ethos downloaded and prepared to /root/.cache/huggingface/datasets/ethos/binary/1.0.0/898d3d005459ee3ff80dbeec2f169c6b7ea13de31a08458193e27dec3dd9ae38. Subsequent calls will reuse this data.\n"
          ]
        }
      ],
      "source": [
        "ethos = ds.load_dataset('ethos','binary', split = 'train')\n",
        "\n",
        "ethos_data = []\n",
        "ethos_labels = []\n",
        "ethos_text = []\n",
        "\n",
        "\n",
        "for i in range(len(ethos['label'])):\n",
        "  ethos_data.append([ethos['text'][i], ethos['label'][i]])\n",
        "  ethos_labels.append([ethos['label'][i]])\n",
        "  ethos_text.append([ethos['text'][i]])"
      ],
      "id": "ecJiQCCALTVc"
    },
    {
      "cell_type": "markdown",
      "source": [
        "##Convert the ETHOS Labels to One Hot Vectors"
      ],
      "metadata": {
        "id": "pyTaZH9iv76d"
      },
      "id": "pyTaZH9iv76d"
    },
    {
      "cell_type": "code",
      "execution_count": null,
      "metadata": {
        "id": "cKF63xhRROQv"
      },
      "outputs": [],
      "source": [
        "def ethos_label2int(data):\n",
        "  ethos_labels = []\n",
        "  for d in data:\n",
        "    if d[1] == 0:\n",
        "      ethos_labels.append([1,0])\n",
        "    else:\n",
        "      ethos_labels.append([0,1])\n",
        "\n",
        "  return ethos_labels\n",
        "\n",
        "ethosLabels = ethos_label2int(ethos_data)"
      ],
      "id": "cKF63xhRROQv"
    },
    {
      "cell_type": "markdown",
      "source": [
        "##Tokenize ETHOS Data"
      ],
      "metadata": {
        "id": "X3QX0xkKwBsH"
      },
      "id": "X3QX0xkKwBsH"
    },
    {
      "cell_type": "code",
      "execution_count": null,
      "metadata": {
        "colab": {
          "base_uri": "https://localhost:8080/"
        },
        "id": "-3KI0YgOROTB",
        "outputId": "1717b6d8-3699-4686-c21e-bae1de80d679"
      },
      "outputs": [
        {
          "output_type": "stream",
          "name": "stderr",
          "text": [
            "/usr/local/lib/python3.7/dist-packages/transformers/tokenization_utils_base.py:2329: FutureWarning: The `pad_to_max_length` argument is deprecated and will be removed in a future version, use `padding=True` or `padding='longest'` to pad to the longest sequence in the batch, or use `padding='max_length'` to pad to a max length. In this case, you can give a specific length with `max_length` (e.g. `max_length=45`) or leave max_length to None to pad to the maximal input size of the model (e.g. 512 for Bert).\n",
            "  FutureWarning,\n"
          ]
        }
      ],
      "source": [
        "def bert_token_preparation_ethos(textData, yData):\n",
        "\n",
        "  ethos_list = []\n",
        "\n",
        "  for sentence in ethos_text:\n",
        "    for sen in sentence:\n",
        "      ethos_list.append(sen)\n",
        "  \n",
        "  ids, masks, segment = tokenize(ethos_list, tokenizer)\n",
        "  \n",
        "  seq = np.array(ids)\n",
        "  mask = np.array(masks)\n",
        "  ydata = np.array(yData)\n",
        "\n",
        "  return seq, mask, ydata\n",
        "\n",
        "seq_ethos, mask_ethos, y_ethos = bert_token_preparation_ethos(ethos_text,ethosLabels)  "
      ],
      "id": "-3KI0YgOROTB"
    },
    {
      "cell_type": "code",
      "execution_count": null,
      "metadata": {
        "id": "L0lejSe5A1YY"
      },
      "outputs": [],
      "source": [
        "ethos_df = pd.DataFrame(list(zip(seq_ethos, mask_ethos)), columns = ['input_ids', 'input_masks'])"
      ],
      "id": "L0lejSe5A1YY"
    },
    {
      "cell_type": "code",
      "execution_count": null,
      "metadata": {
        "id": "WNq5o5F9Rb_S"
      },
      "outputs": [],
      "source": [
        "def model_inputs(x,y):\n",
        "  input_ids = np.array(x['input_ids'].tolist())\n",
        "  input_masks = np.array(x['input_masks'].tolist())\n",
        "  y = np.array(y)\n",
        "  return input_ids, input_masks, y\n",
        "\n",
        "all_ids_be, all_mask_be, all_y_be = model_inputs(ethos_df, ethosLabels)"
      ],
      "id": "WNq5o5F9Rb_S"
    },
    {
      "cell_type": "markdown",
      "source": [
        "Function to evaluate performance"
      ],
      "metadata": {
        "id": "IORkpP-ligKQ"
      },
      "id": "IORkpP-ligKQ"
    },
    {
      "cell_type": "code",
      "execution_count": null,
      "metadata": {
        "id": "mWzMpAP8RcBb"
      },
      "outputs": [],
      "source": [
        "from sklearn.metrics import make_scorer\n",
        "def performance_eval(truth, predictions):\n",
        "    tp, tn, fn, fp = 0.0,0.0,0.0,0.0\n",
        "    for l,m in enumerate(truth):        \n",
        "        if m==predictions[l] and m==1:\n",
        "            tp+=1\n",
        "        if m==predictions[l] and m==0:\n",
        "            tn+=1\n",
        "        if m!=predictions[l] and m==1:\n",
        "            fn+=1\n",
        "        if m!=predictions[l] and m==0:\n",
        "            fp+=1\n",
        "            #precision, recall, specificity, f1 score: \n",
        "    return tp, tn, fp, fn"
      ],
      "id": "mWzMpAP8RcBb"
    },
    {
      "cell_type": "markdown",
      "source": [
        "#Model Starts"
      ],
      "metadata": {
        "id": "r3jRbwgvS2gn"
      },
      "id": "r3jRbwgvS2gn"
    },
    {
      "cell_type": "markdown",
      "source": [],
      "metadata": {
        "id": "YHdXf7tajddL"
      },
      "id": "YHdXf7tajddL"
    },
    {
      "cell_type": "markdown",
      "source": [
        "##Model 1"
      ],
      "metadata": {
        "id": "4-0SZk5LdEQc"
      },
      "id": "4-0SZk5LdEQc"
    },
    {
      "cell_type": "code",
      "execution_count": null,
      "metadata": {
        "colab": {
          "base_uri": "https://localhost:8080/",
          "height": 569,
          "referenced_widgets": [
            "d643ae0aec1749f4a6529001681d74cc",
            "d7fa05174ade488dad04a98317c0c38f",
            "d6b914d78dc94a2084b95c11c5bdb76e",
            "a73d07f1e73a460fb652407f88fc29a7",
            "885c81b9d5f54c4bb3cdcb0d2de61383",
            "3038e3fda554456bbae2b70f380a5b7d",
            "8bf4686851e34fac935f1457df03902d",
            "1859c01a19d8492da872a89f3a8de528",
            "8549965ac2574c7e96a3eda5ecb0968e",
            "44e4a3dd305b4b2f9a992d6df1329c6f",
            "498c81e8473e40d4ae9333de348d94d1"
          ]
        },
        "id": "NIXQaEEx4b2c",
        "outputId": "283229aa-e7fc-40c9-bfc6-14262364e342"
      },
      "outputs": [
        {
          "output_type": "stream",
          "name": "stderr",
          "text": [
            "WARNING:absl:`tf.distribute.experimental.TPUStrategy` is deprecated, please use  the non experimental symbol `tf.distribute.TPUStrategy` instead.\n"
          ]
        },
        {
          "output_type": "display_data",
          "data": {
            "text/plain": [
              "Downloading tf_model.h5:   0%|          | 0.00/347M [00:00<?, ?B/s]"
            ],
            "application/vnd.jupyter.widget-view+json": {
              "version_major": 2,
              "version_minor": 0,
              "model_id": "d643ae0aec1749f4a6529001681d74cc"
            }
          },
          "metadata": {}
        },
        {
          "output_type": "stream",
          "name": "stderr",
          "text": [
            "Some layers from the model checkpoint at distilbert-base-uncased were not used when initializing TFDistilBertForSequenceClassification: ['activation_13', 'vocab_projector', 'vocab_transform', 'vocab_layer_norm']\n",
            "- This IS expected if you are initializing TFDistilBertForSequenceClassification from the checkpoint of a model trained on another task or with another architecture (e.g. initializing a BertForSequenceClassification model from a BertForPreTraining model).\n",
            "- This IS NOT expected if you are initializing TFDistilBertForSequenceClassification from the checkpoint of a model that you expect to be exactly identical (initializing a BertForSequenceClassification model from a BertForSequenceClassification model).\n",
            "Some layers of TFDistilBertForSequenceClassification were not initialized from the model checkpoint at distilbert-base-uncased and are newly initialized: ['pre_classifier', 'classifier', 'dropout_19']\n",
            "You should probably TRAIN this model on a down-stream task to be able to use it for predictions and inference.\n"
          ]
        },
        {
          "output_type": "stream",
          "name": "stdout",
          "text": [
            "Model: \"model\"\n",
            "__________________________________________________________________________________________________\n",
            " Layer (type)                   Output Shape         Param #     Connected to                     \n",
            "==================================================================================================\n",
            " input_token (InputLayer)       [(None, 200)]        0           []                               \n",
            "                                                                                                  \n",
            " masked_token (InputLayer)      [(None, 200)]        0           []                               \n",
            "                                                                                                  \n",
            " tf_distil_bert_for_sequence_cl  TFSequenceClassifie  66955010   ['input_token[0][0]',            \n",
            " assification (TFDistilBertForS  rOutput(loss=None,               'masked_token[0][0]']           \n",
            " equenceClassification)         logits=(None, 2),                                                 \n",
            "                                 hidden_states=None                                               \n",
            "                                , attentions=None)                                                \n",
            "                                                                                                  \n",
            "==================================================================================================\n",
            "Total params: 66,955,010\n",
            "Trainable params: 592,130\n",
            "Non-trainable params: 66,362,880\n",
            "__________________________________________________________________________________________________\n",
            "None\n"
          ]
        },
        {
          "output_type": "stream",
          "name": "stderr",
          "text": [
            "/usr/local/lib/python3.7/dist-packages/keras/optimizer_v2/adam.py:105: UserWarning: The `lr` argument is deprecated, use `learning_rate` instead.\n",
            "  super(Adam, self).__init__(name, **kwargs)\n"
          ]
        }
      ],
      "source": [
        "# your code goes here\n",
        "\n",
        "\n",
        "def BERTSTATIC():\n",
        "      transformer_model = TFDistilBertForSequenceClassification.from_pretrained('distilbert-base-uncased', config = DistilBertConfig(num_labels = 2))\n",
        "      transformer_model.layers[0].trainable = False\n",
        "      input_ids = tf.keras.layers.Input(shape=(MAX_LEN,), name='input_token', dtype='int32')\n",
        "      input_masks_ids = tf.keras.layers.Input(shape=(MAX_LEN,), name='masked_token', dtype='int32')\n",
        "      X = transformer_model(input_ids, input_masks_ids)\n",
        "      model = tf.keras.Model(inputs=[input_ids, input_masks_ids], outputs = X)\n",
        "      return model\n",
        "\n",
        "use_tpu = True\n",
        "if use_tpu:\n",
        "      # Create distribution strategy\n",
        "      tpu = tf.distribute.cluster_resolver.TPUClusterResolver()\n",
        "      tf.config.experimental_connect_to_cluster(tpu)\n",
        "      tf.tpu.experimental.initialize_tpu_system(tpu)\n",
        "      strategy = tf.distribute.experimental.TPUStrategy(tpu)\n",
        "\n",
        "    # Create model\n",
        "      with strategy.scope():\n",
        "        bertstatic = BERTSTATIC() \n",
        "        optimizer = tf.keras.optimizers.Adam(lr=2e-5)\n",
        "        bertstatic.compile(optimizer=optimizer, loss='binary_crossentropy', metrics=['accuracy'])\n",
        "\n",
        "\n",
        "print(bertstatic.summary())\n"
      ],
      "id": "NIXQaEEx4b2c"
    },
    {
      "cell_type": "code",
      "execution_count": null,
      "metadata": {
        "id": "8JVFnoxwDr6T"
      },
      "outputs": [],
      "source": [],
      "id": "8JVFnoxwDr6T"
    },
    {
      "cell_type": "markdown",
      "source": [
        "This is the training function for the bert models with dynamic and static embeddings. To change between them, you must change the is_frozen_embeddings tag in the function parameters in `baseline_kfold()`"
      ],
      "metadata": {
        "id": "6oY7Yjy7wrsW"
      },
      "id": "6oY7Yjy7wrsW"
    },
    {
      "cell_type": "code",
      "execution_count": null,
      "metadata": {
        "id": "ql1mG3Cz4b5Q"
      },
      "outputs": [],
      "source": [
        "def static_kfold(train_seq, train_mask, train_y, is_ethos = False, is_frozen_embeddings = True):\n",
        "  acc_per_fold = []\n",
        "  loss_per_fold = []\n",
        "  weighted_f1_list = []\n",
        "  macro_f1_list = []\n",
        "  \n",
        "  if is_frozen_embeddings:\n",
        "    epochs = 10\n",
        "  elif is_ethos:\n",
        "    epochs = 5\n",
        "    n_split = 5\n",
        "  else:\n",
        "    epochs = 3  \n",
        "\n",
        "  if is_frozen_embeddings:\n",
        "    learning_rate = 0.001\n",
        "  else:\n",
        "    learning_rate = 2e-5  \n",
        "\n",
        "  n_split = 10\n",
        "  kfold = StratifiedKFold(n_splits = n_split, shuffle = True, random_state = 42)\n",
        "\n",
        "  fold_no = 1\n",
        "\n",
        "  for train_idx, val_idx in kfold.split(np.zeros(len(train_y)),[np.argmax(i) for i in train_y]):\n",
        "    train_temp_seq = np.array([train_seq[i] for i in train_idx])\n",
        "    train_temp_mask = np.array([train_mask[i] for i in train_idx])\n",
        "    training_y = np.array([train_y[i] for i in train_idx])\n",
        "   \n",
        "    val_temp_seq = np.array([train_seq[i] for i in val_idx])\n",
        "    val_temp_mask = np.array([train_mask[i] for i in val_idx])\n",
        "    validation_y = np.array([train_y[i] for i in val_idx])\n",
        "\n",
        "\n",
        "  # Create model\n",
        "    with strategy.scope():\n",
        "        new_model = BERTSTATIC() #Change to new_model = BERTBASELINE() for Model 2\n",
        "        new_model.compile(optimizer=tf.keras.optimizers.Adam(lr=learning_rate), loss='binary_crossentropy', metrics=['accuracy'])\t\n",
        "\n",
        "    checkpoint = tf.keras.callbacks.ModelCheckpoint('checkpoint_'+str(fold_no)+'.h5', monitor= 'val_loss', \n",
        "                                                 verbose = 0, save_best_only = True, mode = 'min')\t\n",
        "\n",
        "  \t\t\t\n",
        "\n",
        "    #new_model.compile(optimizer=tf.keras.optimizers.Adam(lr=2e-5), loss='categorical_crossentropy', metrics=['accuracy'])\n",
        "    print('------------------------------------------------------------------------')\n",
        "    print(f'Training for fold {fold_no} ...')\n",
        "  \n",
        "    print(checkpoint)\n",
        "\n",
        "    new_model.fit([train_temp_seq, train_temp_mask],training_y,\n",
        "                    epochs= epochs,\n",
        "                    batch_size= 32,\n",
        "                    callbacks = [checkpoint],\n",
        "                    validation_data=([val_temp_seq, val_temp_mask],validation_y),\n",
        "                    verbose=1)\n",
        "  \n",
        "\n",
        "\n",
        "\n",
        "    new_model.load_weights('checkpoint_'+str(fold_no)+'.h5')\n",
        "  \n",
        "    scores = new_model.evaluate([val_temp_seq, val_temp_mask], validation_y, verbose = 1)\n",
        "    predictions = new_model.predict([val_temp_seq, val_temp_mask])\n",
        "       \n",
        "  \n",
        "    print(f'Score for fold {fold_no}: {new_model.metrics_names[0]} of {scores[0]}; {new_model.metrics_names[1]} of {scores[1]*100}%')\n",
        "    acc_per_fold.append(scores[1] * 100) \n",
        "    loss_per_fold.append(scores[0])\n",
        "    #for i in range(len(predictions)):\n",
        "    #  if np.argmax(predictions[i]) != validation_y[i]:\n",
        "    #    print('Prediction: ', predictions[i], 'Actual: ', validation_y[i])\n",
        "\n",
        "    weighted_f1 = f1_score(np.argmax(validation_y, axis = 1), np.argmax(predictions['logits'], axis = 1), average = 'weighted')\n",
        "    macro_f1 = f1_score(np.argmax(validation_y, axis = 1), np.argmax(predictions['logits'], axis = 1), average = 'macro')\n",
        "    \n",
        "    weighted_f1_list.append(weighted_f1)\n",
        "    macro_f1_list.append(macro_f1)\n",
        "\n",
        "    fold_no += 1\n",
        "\n",
        "  max_i = np.argmax(acc_per_fold)+1\n",
        "\n",
        "  bertstatic.load_weights('checkpoint_'+str(max_i)+'.h5')\n",
        "\n",
        "  f1_w = sum(weighted_f1_list)/len(weighted_f1_list)\n",
        "  f1_m = sum(macro_f1_list)/len(macro_f1_list)\n",
        "\n",
        "  print('Weighted F1 Score: {}, Macro F1 Score: {}'.format(f1_w, f1_m))\n",
        "\n",
        "  return bertstatic\n",
        "\n",
        "\n",
        "\n",
        "  "
      ],
      "id": "ql1mG3Cz4b5Q"
    },
    {
      "cell_type": "code",
      "execution_count": null,
      "metadata": {
        "id": "uv90tkNDDvRS"
      },
      "outputs": [],
      "source": [
        "#static_kfold(train_seq, train_mask, train_y, is_frozen_embeddings = True)"
      ],
      "id": "uv90tkNDDvRS"
    },
    {
      "cell_type": "markdown",
      "source": [
        "Load the weights of the optimum model here for either static or dynamic embeddings. (Due to file size, I could not upload the optimum models shown in the report)"
      ],
      "metadata": {
        "id": "MQk6dHcVyzre"
      },
      "id": "MQk6dHcVyzre"
    },
    {
      "cell_type": "code",
      "execution_count": null,
      "metadata": {
        "id": "L63MTVmbwEQg"
      },
      "outputs": [],
      "source": [
        "bertstatic.load_weights('checkpoint_static_MAX.h5')"
      ],
      "id": "L63MTVmbwEQg"
    },
    {
      "cell_type": "code",
      "execution_count": null,
      "metadata": {
        "id": "XACZaZus4b7b"
      },
      "outputs": [],
      "source": [
        "from sklearn.metrics import confusion_matrix\n",
        "import seaborn as sns\n",
        "\n",
        "\n",
        "def model_eval_bertbase(model,x,y):\n",
        "  soft_predictions = model.predict(x)\n",
        "  eval = model.evaluate(x,y)\n",
        "  if model == bertstatic or model == bertbaseline:\n",
        "    predictions = np.argmax(soft_predictions['logits'], axis = 1)\n",
        "  else:\n",
        "    predictions = np.argmax(soft_predictions, axis = 1)\n",
        "  y_true = np.argmax(y, axis = 1)\n",
        "  print(classification_report(y_true, predictions))\n",
        "  cf_matrix = confusion_matrix(y_true, predictions)\n",
        "  print(cf_matrix)\n",
        "  print(sns.heatmap(cf_matrix, annot=True))\n",
        "  precision = round(cf_matrix[1][1]/(cf_matrix[0][1]+cf_matrix[1][1]),4)\n",
        "  recall = round(cf_matrix[1][1]/sum(cf_matrix[1]),4)\n",
        "  specificity = round(cf_matrix[0][0]/(cf_matrix[0][0]+cf_matrix[0][1]),4)\n",
        "  print('Precision: {}, Recall: {}, Specificity: {}'.format(precision, recall, specificity))\n",
        "\n"
      ],
      "id": "XACZaZus4b7b"
    },
    {
      "cell_type": "markdown",
      "source": [
        "##Model 1 Results on Twitter and Facebook"
      ],
      "metadata": {
        "id": "axfPPRz0zHcC"
      },
      "id": "axfPPRz0zHcC"
    },
    {
      "cell_type": "code",
      "execution_count": null,
      "metadata": {
        "id": "LXga4LTG4b9x",
        "colab": {
          "base_uri": "https://localhost:8080/",
          "height": 515
        },
        "outputId": "b14b7080-1333-47aa-eb32-e0a24ee089d2"
      },
      "outputs": [
        {
          "output_type": "stream",
          "name": "stdout",
          "text": [
            "37/37 [==============================] - 13s 109ms/step - loss: 0.4741 - accuracy: 0.7936\n",
            "              precision    recall  f1-score   support\n",
            "\n",
            "           0       0.85      0.88      0.87       865\n",
            "           1       0.60      0.53      0.56       288\n",
            "\n",
            "    accuracy                           0.79      1153\n",
            "   macro avg       0.72      0.70      0.71      1153\n",
            "weighted avg       0.79      0.79      0.79      1153\n",
            "\n",
            "[[763 102]\n",
            " [136 152]]\n",
            "AxesSubplot(0.125,0.125;0.62x0.755)\n",
            "Precision: 0.5984, Recall: 0.5278, Specificity: 0.8821\n"
          ]
        },
        {
          "output_type": "display_data",
          "data": {
            "text/plain": [
              "<Figure size 432x288 with 2 Axes>"
            ],
            "image/png": "[encoded data removed]"
          },
          "metadata": {
            "needs_background": "light"
          }
        }
      ],
      "source": [
        "model_eval_bertbase(bertstatic,[test_seq, test_mask], test_y)"
      ],
      "id": "LXga4LTG4b9x"
    },
    {
      "cell_type": "markdown",
      "source": [
        "The following function allows you to highlight the errors in the report"
      ],
      "metadata": {
        "id": "IfgA8S5IzRT2"
      },
      "id": "IfgA8S5IzRT2"
    },
    {
      "cell_type": "code",
      "execution_count": null,
      "metadata": {
        "id": "V9iz6O4GJ5ZD"
      },
      "outputs": [],
      "source": [
        "def error_report(model, x, y, is_baseline = False):\n",
        "  soft_pred = model.predict(x)\n",
        "  eval = model.evaluate(x,y)\n",
        "  if is_baseline == True:\n",
        "    pred = np.argmax(soft_pred['logits'], axis = 1)\n",
        "  else:\n",
        "    pred = np.argmax(soft_pred, axis = 1)\n",
        "  y_true = np.argmax(y, axis = 1)  \n",
        "  for i in range(len(pred)):\n",
        "    if pred[i] != y_true[i] and pred[i] == 0:\n",
        "      print(\"Tweet: {}, Prediction: {}, Actual Label: {}\".format(textTestData[i], pred[i], y_true[i]))\n",
        "\n"
      ],
      "id": "V9iz6O4GJ5ZD"
    },
    {
      "cell_type": "markdown",
      "metadata": {
        "id": "CGkWzAwSRx6_"
      },
      "source": [
        "##We can now test the model on ETHOS using TL1 (Without further training)"
      ],
      "id": "CGkWzAwSRx6_"
    },
    {
      "cell_type": "code",
      "execution_count": null,
      "metadata": {
        "colab": {
          "base_uri": "https://localhost:8080/",
          "height": 515
        },
        "id": "1ope5CKA4b_k",
        "outputId": "aaedbd8e-06e7-4af7-b9ff-cb1478e71035"
      },
      "outputs": [
        {
          "output_type": "stream",
          "name": "stdout",
          "text": [
            "32/32 [==============================] - 1s 23ms/step - loss: 0.7156 - accuracy: 0.6693\n",
            "              precision    recall  f1-score   support\n",
            "\n",
            "           0       0.70      0.73      0.71       565\n",
            "           1       0.63      0.59      0.61       433\n",
            "\n",
            "    accuracy                           0.67       998\n",
            "   macro avg       0.66      0.66      0.66       998\n",
            "weighted avg       0.67      0.67      0.67       998\n",
            "\n",
            "[[412 153]\n",
            " [177 256]]\n",
            "AxesSubplot(0.125,0.125;0.62x0.755)\n",
            "Precision: 0.6259, Recall: 0.5912, Specificity: 0.7292\n"
          ]
        },
        {
          "output_type": "display_data",
          "data": {
            "text/plain": [
              "<Figure size 432x288 with 2 Axes>"
            ],
            "image/png": "[encoded data removed]"
          },
          "metadata": {
            "needs_background": "light"
          }
        }
      ],
      "source": [
        "model_eval_bertbase(bertstatic, [all_ids_be, all_mask_be], all_y_be)"
      ],
      "id": "1ope5CKA4b_k"
    },
    {
      "cell_type": "markdown",
      "metadata": {
        "id": "REcgym66R2rs"
      },
      "source": [
        "##We can now train and test the model on the ETHOS data (TL2)\n",
        "\n",
        "Make sure is_frozen_embeddings is tagged correctly depending on whether you want to have static or dynamic embeddings"
      ],
      "id": "REcgym66R2rs"
    },
    {
      "cell_type": "code",
      "source": [
        "static_kfold(all_ids_be, all_mask_be, all_y_be, is_ethos = True, is_frozen_embeddings = True)"
      ],
      "metadata": {
        "colab": {
          "base_uri": "https://localhost:8080/"
        },
        "id": "A6KvjiFLiZ28",
        "outputId": "b6176ae0-e8bd-4331-cc16-16cb87768fc3"
      },
      "id": "A6KvjiFLiZ28",
      "execution_count": null,
      "outputs": [
        {
          "output_type": "stream",
          "name": "stderr",
          "text": [
            "Some layers from the model checkpoint at distilbert-base-uncased were not used when initializing TFDistilBertForSequenceClassification: ['activation_13', 'vocab_projector', 'vocab_transform', 'vocab_layer_norm']\n",
            "- This IS expected if you are initializing TFDistilBertForSequenceClassification from the checkpoint of a model trained on another task or with another architecture (e.g. initializing a BertForSequenceClassification model from a BertForPreTraining model).\n",
            "- This IS NOT expected if you are initializing TFDistilBertForSequenceClassification from the checkpoint of a model that you expect to be exactly identical (initializing a BertForSequenceClassification model from a BertForSequenceClassification model).\n",
            "Some layers of TFDistilBertForSequenceClassification were not initialized from the model checkpoint at distilbert-base-uncased and are newly initialized: ['dropout_39', 'pre_classifier', 'classifier']\n",
            "You should probably TRAIN this model on a down-stream task to be able to use it for predictions and inference.\n",
            "/usr/local/lib/python3.7/dist-packages/keras/optimizer_v2/adam.py:105: UserWarning: The `lr` argument is deprecated, use `learning_rate` instead.\n",
            "  super(Adam, self).__init__(name, **kwargs)\n"
          ]
        },
        {
          "output_type": "stream",
          "name": "stdout",
          "text": [
            "------------------------------------------------------------------------\n",
            "Training for fold 1 ...\n",
            "<keras.callbacks.ModelCheckpoint object at 0x7f9b27c35610>\n",
            "Epoch 1/10\n",
            "29/29 [==============================] - 31s 564ms/step - loss: 0.9543 - accuracy: 0.6269 - val_loss: 0.5970 - val_accuracy: 0.7200\n",
            "Epoch 2/10\n",
            "29/29 [==============================] - 2s 85ms/step - loss: 0.5692 - accuracy: 0.6938 - val_loss: 0.5422 - val_accuracy: 0.7300\n",
            "Epoch 3/10\n",
            "29/29 [==============================] - 2s 82ms/step - loss: 0.5463 - accuracy: 0.7305 - val_loss: 0.4744 - val_accuracy: 0.7500\n",
            "Epoch 4/10\n",
            "29/29 [==============================] - 1s 43ms/step - loss: 0.6015 - accuracy: 0.7094 - val_loss: 0.5234 - val_accuracy: 0.7600\n",
            "Epoch 5/10\n",
            "29/29 [==============================] - 1s 44ms/step - loss: 0.6204 - accuracy: 0.7272 - val_loss: 0.7489 - val_accuracy: 0.7300\n",
            "Epoch 6/10\n",
            "29/29 [==============================] - 1s 44ms/step - loss: 0.6871 - accuracy: 0.7283 - val_loss: 0.5826 - val_accuracy: 0.7200\n",
            "Epoch 7/10\n",
            "29/29 [==============================] - 1s 44ms/step - loss: 0.5532 - accuracy: 0.7171 - val_loss: 0.5187 - val_accuracy: 0.7600\n",
            "Epoch 8/10\n",
            "29/29 [==============================] - 1s 44ms/step - loss: 0.4932 - accuracy: 0.7617 - val_loss: 0.4860 - val_accuracy: 0.7300\n",
            "Epoch 9/10\n",
            "29/29 [==============================] - 1s 44ms/step - loss: 0.5263 - accuracy: 0.7639 - val_loss: 0.6410 - val_accuracy: 0.7600\n",
            "Epoch 10/10\n",
            "29/29 [==============================] - 1s 44ms/step - loss: 0.4937 - accuracy: 0.7628 - val_loss: 0.6315 - val_accuracy: 0.7700\n",
            "4/4 [==============================] - 1s 23ms/step - loss: 0.4744 - accuracy: 0.7500\n",
            "Score for fold 1: loss of 0.47438231110572815; accuracy of 75.0%\n"
          ]
        },
        {
          "output_type": "stream",
          "name": "stderr",
          "text": [
            "Some layers from the model checkpoint at distilbert-base-uncased were not used when initializing TFDistilBertForSequenceClassification: ['activation_13', 'vocab_projector', 'vocab_transform', 'vocab_layer_norm']\n",
            "- This IS expected if you are initializing TFDistilBertForSequenceClassification from the checkpoint of a model trained on another task or with another architecture (e.g. initializing a BertForSequenceClassification model from a BertForPreTraining model).\n",
            "- This IS NOT expected if you are initializing TFDistilBertForSequenceClassification from the checkpoint of a model that you expect to be exactly identical (initializing a BertForSequenceClassification model from a BertForSequenceClassification model).\n",
            "Some layers of TFDistilBertForSequenceClassification were not initialized from the model checkpoint at distilbert-base-uncased and are newly initialized: ['pre_classifier', 'classifier', 'dropout_59']\n",
            "You should probably TRAIN this model on a down-stream task to be able to use it for predictions and inference.\n",
            "/usr/local/lib/python3.7/dist-packages/keras/optimizer_v2/adam.py:105: UserWarning: The `lr` argument is deprecated, use `learning_rate` instead.\n",
            "  super(Adam, self).__init__(name, **kwargs)\n"
          ]
        },
        {
          "output_type": "stream",
          "name": "stdout",
          "text": [
            "------------------------------------------------------------------------\n",
            "Training for fold 2 ...\n",
            "<keras.callbacks.ModelCheckpoint object at 0x7f9b2571c0d0>\n",
            "Epoch 1/10\n",
            "29/29 [==============================] - 31s 577ms/step - loss: 6.5362 - accuracy: 0.5657 - val_loss: 6.7668 - val_accuracy: 0.5600\n",
            "Epoch 2/10\n",
            "29/29 [==============================] - 1s 44ms/step - loss: 6.6620 - accuracy: 0.5668 - val_loss: 6.7668 - val_accuracy: 0.5600\n",
            "Epoch 3/10\n",
            "29/29 [==============================] - 1s 44ms/step - loss: 6.6620 - accuracy: 0.5668 - val_loss: 6.7668 - val_accuracy: 0.5600\n",
            "Epoch 4/10\n",
            "29/29 [==============================] - 1s 43ms/step - loss: 6.6620 - accuracy: 0.5668 - val_loss: 6.7668 - val_accuracy: 0.5600\n",
            "Epoch 5/10\n",
            "29/29 [==============================] - 1s 44ms/step - loss: 6.6620 - accuracy: 0.5668 - val_loss: 6.7668 - val_accuracy: 0.5600\n",
            "Epoch 6/10\n",
            "29/29 [==============================] - 1s 44ms/step - loss: 6.6620 - accuracy: 0.5668 - val_loss: 6.7668 - val_accuracy: 0.5600\n",
            "Epoch 7/10\n",
            "29/29 [==============================] - 2s 80ms/step - loss: 6.6620 - accuracy: 0.5668 - val_loss: 6.7668 - val_accuracy: 0.5600\n",
            "Epoch 8/10\n",
            "29/29 [==============================] - 1s 45ms/step - loss: 6.6620 - accuracy: 0.5668 - val_loss: 6.7668 - val_accuracy: 0.5600\n",
            "Epoch 9/10\n",
            "29/29 [==============================] - 1s 44ms/step - loss: 6.6620 - accuracy: 0.5668 - val_loss: 6.7668 - val_accuracy: 0.5600\n",
            "Epoch 10/10\n",
            "29/29 [==============================] - 1s 45ms/step - loss: 6.6620 - accuracy: 0.5668 - val_loss: 6.7668 - val_accuracy: 0.5600\n",
            "4/4 [==============================] - 1s 25ms/step - loss: 6.7668 - accuracy: 0.5600\n",
            "Score for fold 2: loss of 6.76678991317749; accuracy of 56.00000023841858%\n"
          ]
        },
        {
          "output_type": "stream",
          "name": "stderr",
          "text": [
            "Some layers from the model checkpoint at distilbert-base-uncased were not used when initializing TFDistilBertForSequenceClassification: ['activation_13', 'vocab_projector', 'vocab_transform', 'vocab_layer_norm']\n",
            "- This IS expected if you are initializing TFDistilBertForSequenceClassification from the checkpoint of a model trained on another task or with another architecture (e.g. initializing a BertForSequenceClassification model from a BertForPreTraining model).\n",
            "- This IS NOT expected if you are initializing TFDistilBertForSequenceClassification from the checkpoint of a model that you expect to be exactly identical (initializing a BertForSequenceClassification model from a BertForSequenceClassification model).\n",
            "Some layers of TFDistilBertForSequenceClassification were not initialized from the model checkpoint at distilbert-base-uncased and are newly initialized: ['dropout_79', 'pre_classifier', 'classifier']\n",
            "You should probably TRAIN this model on a down-stream task to be able to use it for predictions and inference.\n",
            "/usr/local/lib/python3.7/dist-packages/keras/optimizer_v2/adam.py:105: UserWarning: The `lr` argument is deprecated, use `learning_rate` instead.\n",
            "  super(Adam, self).__init__(name, **kwargs)\n"
          ]
        },
        {
          "output_type": "stream",
          "name": "stdout",
          "text": [
            "------------------------------------------------------------------------\n",
            "Training for fold 3 ...\n",
            "<keras.callbacks.ModelCheckpoint object at 0x7f9b259ecad0>\n",
            "Epoch 1/10\n",
            "29/29 [==============================] - 31s 581ms/step - loss: 4.7534 - accuracy: 0.4332 - val_loss: 4.6008 - val_accuracy: 0.4400\n",
            "Epoch 2/10\n",
            "29/29 [==============================] - 2s 87ms/step - loss: 4.6658 - accuracy: 0.4332 - val_loss: 4.5970 - val_accuracy: 0.4500\n",
            "Epoch 3/10\n",
            "29/29 [==============================] - 2s 86ms/step - loss: 2.4436 - accuracy: 0.5479 - val_loss: 0.6325 - val_accuracy: 0.7600\n",
            "Epoch 4/10\n",
            "29/29 [==============================] - 1s 45ms/step - loss: 0.6017 - accuracy: 0.7149 - val_loss: 0.7201 - val_accuracy: 0.7500\n",
            "Epoch 5/10\n",
            "29/29 [==============================] - 2s 84ms/step - loss: 0.6213 - accuracy: 0.7149 - val_loss: 0.5754 - val_accuracy: 0.7700\n",
            "Epoch 6/10\n",
            "29/29 [==============================] - 2s 85ms/step - loss: 0.5646 - accuracy: 0.7428 - val_loss: 0.5575 - val_accuracy: 0.7600\n",
            "Epoch 7/10\n",
            "29/29 [==============================] - 1s 45ms/step - loss: 0.5653 - accuracy: 0.7171 - val_loss: 0.6424 - val_accuracy: 0.7400\n",
            "Epoch 8/10\n",
            "29/29 [==============================] - 1s 45ms/step - loss: 0.5447 - accuracy: 0.7383 - val_loss: 0.5975 - val_accuracy: 0.7600\n",
            "Epoch 9/10\n",
            "29/29 [==============================] - 1s 44ms/step - loss: 0.5292 - accuracy: 0.7606 - val_loss: 0.5783 - val_accuracy: 0.7100\n",
            "Epoch 10/10\n",
            "29/29 [==============================] - 1s 44ms/step - loss: 0.5449 - accuracy: 0.7361 - val_loss: 0.5824 - val_accuracy: 0.7100\n",
            "4/4 [==============================] - 1s 25ms/step - loss: 0.5575 - accuracy: 0.7600\n",
            "Score for fold 3: loss of 0.5574526786804199; accuracy of 75.99999904632568%\n"
          ]
        },
        {
          "output_type": "stream",
          "name": "stderr",
          "text": [
            "Some layers from the model checkpoint at distilbert-base-uncased were not used when initializing TFDistilBertForSequenceClassification: ['activation_13', 'vocab_projector', 'vocab_transform', 'vocab_layer_norm']\n",
            "- This IS expected if you are initializing TFDistilBertForSequenceClassification from the checkpoint of a model trained on another task or with another architecture (e.g. initializing a BertForSequenceClassification model from a BertForPreTraining model).\n",
            "- This IS NOT expected if you are initializing TFDistilBertForSequenceClassification from the checkpoint of a model that you expect to be exactly identical (initializing a BertForSequenceClassification model from a BertForSequenceClassification model).\n",
            "Some layers of TFDistilBertForSequenceClassification were not initialized from the model checkpoint at distilbert-base-uncased and are newly initialized: ['dropout_99', 'pre_classifier', 'classifier']\n",
            "You should probably TRAIN this model on a down-stream task to be able to use it for predictions and inference.\n",
            "/usr/local/lib/python3.7/dist-packages/keras/optimizer_v2/adam.py:105: UserWarning: The `lr` argument is deprecated, use `learning_rate` instead.\n",
            "  super(Adam, self).__init__(name, **kwargs)\n"
          ]
        },
        {
          "output_type": "stream",
          "name": "stdout",
          "text": [
            "------------------------------------------------------------------------\n",
            "Training for fold 4 ...\n",
            "<keras.callbacks.ModelCheckpoint object at 0x7f9b25916a10>\n",
            "Epoch 1/10\n",
            "29/29 [==============================] - 31s 580ms/step - loss: 3.5963 - accuracy: 0.5668 - val_loss: 3.6389 - val_accuracy: 0.5700\n",
            "Epoch 2/10\n",
            "29/29 [==============================] - 2s 87ms/step - loss: 3.6287 - accuracy: 0.5657 - val_loss: 3.5496 - val_accuracy: 0.5700\n",
            "Epoch 3/10\n",
            "29/29 [==============================] - 1s 45ms/step - loss: 3.6295 - accuracy: 0.5657 - val_loss: 3.5731 - val_accuracy: 0.5700\n",
            "Epoch 4/10\n",
            "29/29 [==============================] - 2s 87ms/step - loss: 3.2458 - accuracy: 0.5880 - val_loss: 3.1499 - val_accuracy: 0.6600\n",
            "Epoch 5/10\n",
            "29/29 [==============================] - 1s 45ms/step - loss: 3.8084 - accuracy: 0.5735 - val_loss: 3.6368 - val_accuracy: 0.5700\n",
            "Epoch 6/10\n",
            "29/29 [==============================] - 1s 45ms/step - loss: 3.6756 - accuracy: 0.5657 - val_loss: 3.6016 - val_accuracy: 0.5700\n",
            "Epoch 7/10\n",
            "29/29 [==============================] - 1s 44ms/step - loss: 3.6654 - accuracy: 0.5657 - val_loss: 3.7535 - val_accuracy: 0.5700\n",
            "Epoch 8/10\n",
            "29/29 [==============================] - 1s 44ms/step - loss: 3.6478 - accuracy: 0.5657 - val_loss: 3.5808 - val_accuracy: 0.5700\n",
            "Epoch 9/10\n",
            "29/29 [==============================] - 1s 45ms/step - loss: 3.6183 - accuracy: 0.5657 - val_loss: 3.5739 - val_accuracy: 0.5700\n",
            "Epoch 10/10\n",
            "29/29 [==============================] - 1s 43ms/step - loss: 3.6358 - accuracy: 0.5657 - val_loss: 3.5639 - val_accuracy: 0.5700\n",
            "4/4 [==============================] - 1s 24ms/step - loss: 3.1499 - accuracy: 0.6600\n",
            "Score for fold 4: loss of 3.1499156951904297; accuracy of 65.99999666213989%\n"
          ]
        },
        {
          "output_type": "stream",
          "name": "stderr",
          "text": [
            "Some layers from the model checkpoint at distilbert-base-uncased were not used when initializing TFDistilBertForSequenceClassification: ['activation_13', 'vocab_projector', 'vocab_transform', 'vocab_layer_norm']\n",
            "- This IS expected if you are initializing TFDistilBertForSequenceClassification from the checkpoint of a model trained on another task or with another architecture (e.g. initializing a BertForSequenceClassification model from a BertForPreTraining model).\n",
            "- This IS NOT expected if you are initializing TFDistilBertForSequenceClassification from the checkpoint of a model that you expect to be exactly identical (initializing a BertForSequenceClassification model from a BertForSequenceClassification model).\n",
            "Some layers of TFDistilBertForSequenceClassification were not initialized from the model checkpoint at distilbert-base-uncased and are newly initialized: ['pre_classifier', 'classifier', 'dropout_119']\n",
            "You should probably TRAIN this model on a down-stream task to be able to use it for predictions and inference.\n",
            "/usr/local/lib/python3.7/dist-packages/keras/optimizer_v2/adam.py:105: UserWarning: The `lr` argument is deprecated, use `learning_rate` instead.\n",
            "  super(Adam, self).__init__(name, **kwargs)\n"
          ]
        },
        {
          "output_type": "stream",
          "name": "stdout",
          "text": [
            "------------------------------------------------------------------------\n",
            "Training for fold 5 ...\n",
            "<keras.callbacks.ModelCheckpoint object at 0x7f9b247acfd0>\n",
            "Epoch 1/10\n",
            "29/29 [==============================] - 33s 586ms/step - loss: 3.5907 - accuracy: 0.5523 - val_loss: 3.5973 - val_accuracy: 0.5700\n",
            "Epoch 2/10\n",
            "29/29 [==============================] - 1s 44ms/step - loss: 3.6929 - accuracy: 0.5657 - val_loss: 3.6386 - val_accuracy: 0.5700\n",
            "Epoch 3/10\n",
            "29/29 [==============================] - 1s 46ms/step - loss: 3.6329 - accuracy: 0.5657 - val_loss: 3.8906 - val_accuracy: 0.5700\n",
            "Epoch 4/10\n",
            "29/29 [==============================] - 3s 88ms/step - loss: 3.6365 - accuracy: 0.5657 - val_loss: 3.5442 - val_accuracy: 0.5700\n",
            "Epoch 5/10\n",
            "29/29 [==============================] - 2s 85ms/step - loss: 3.5929 - accuracy: 0.5657 - val_loss: 3.5428 - val_accuracy: 0.5700\n",
            "Epoch 6/10\n",
            "29/29 [==============================] - 1s 46ms/step - loss: 3.5833 - accuracy: 0.5657 - val_loss: 3.7730 - val_accuracy: 0.5700\n",
            "Epoch 7/10\n",
            "29/29 [==============================] - 3s 87ms/step - loss: 2.5885 - accuracy: 0.6102 - val_loss: 0.7518 - val_accuracy: 0.7400\n",
            "Epoch 8/10\n",
            "29/29 [==============================] - 2s 83ms/step - loss: 0.6242 - accuracy: 0.7094 - val_loss: 0.5204 - val_accuracy: 0.7100\n",
            "Epoch 9/10\n",
            "29/29 [==============================] - 1s 45ms/step - loss: 0.5659 - accuracy: 0.7327 - val_loss: 0.6176 - val_accuracy: 0.7100\n",
            "Epoch 10/10\n",
            "29/29 [==============================] - 2s 85ms/step - loss: 0.5250 - accuracy: 0.7472 - val_loss: 0.4953 - val_accuracy: 0.7500\n",
            "4/4 [==============================] - 1s 25ms/step - loss: 0.4953 - accuracy: 0.7500\n",
            "Score for fold 5: loss of 0.49534738063812256; accuracy of 75.0%\n"
          ]
        },
        {
          "output_type": "stream",
          "name": "stderr",
          "text": [
            "Some layers from the model checkpoint at distilbert-base-uncased were not used when initializing TFDistilBertForSequenceClassification: ['activation_13', 'vocab_projector', 'vocab_transform', 'vocab_layer_norm']\n",
            "- This IS expected if you are initializing TFDistilBertForSequenceClassification from the checkpoint of a model trained on another task or with another architecture (e.g. initializing a BertForSequenceClassification model from a BertForPreTraining model).\n",
            "- This IS NOT expected if you are initializing TFDistilBertForSequenceClassification from the checkpoint of a model that you expect to be exactly identical (initializing a BertForSequenceClassification model from a BertForSequenceClassification model).\n",
            "Some layers of TFDistilBertForSequenceClassification were not initialized from the model checkpoint at distilbert-base-uncased and are newly initialized: ['pre_classifier', 'classifier', 'dropout_139']\n",
            "You should probably TRAIN this model on a down-stream task to be able to use it for predictions and inference.\n",
            "/usr/local/lib/python3.7/dist-packages/keras/optimizer_v2/adam.py:105: UserWarning: The `lr` argument is deprecated, use `learning_rate` instead.\n",
            "  super(Adam, self).__init__(name, **kwargs)\n"
          ]
        },
        {
          "output_type": "stream",
          "name": "stdout",
          "text": [
            "------------------------------------------------------------------------\n",
            "Training for fold 6 ...\n",
            "<keras.callbacks.ModelCheckpoint object at 0x7f9b22bb0290>\n",
            "Epoch 1/10\n",
            "29/29 [==============================] - 33s 593ms/step - loss: 3.5718 - accuracy: 0.5646 - val_loss: 3.5812 - val_accuracy: 0.5700\n",
            "Epoch 2/10\n",
            "29/29 [==============================] - 3s 88ms/step - loss: 3.6273 - accuracy: 0.5657 - val_loss: 3.5496 - val_accuracy: 0.5700\n",
            "Epoch 3/10\n",
            "29/29 [==============================] - 1s 44ms/step - loss: 3.6141 - accuracy: 0.5657 - val_loss: 3.6150 - val_accuracy: 0.5700\n",
            "Epoch 4/10\n",
            "29/29 [==============================] - 1s 44ms/step - loss: 3.6285 - accuracy: 0.5657 - val_loss: 3.6506 - val_accuracy: 0.5700\n",
            "Epoch 5/10\n",
            "29/29 [==============================] - 1s 43ms/step - loss: 3.5933 - accuracy: 0.5657 - val_loss: 3.8035 - val_accuracy: 0.5700\n",
            "Epoch 6/10\n",
            "29/29 [==============================] - 1s 44ms/step - loss: 3.6307 - accuracy: 0.5657 - val_loss: 3.5529 - val_accuracy: 0.5700\n",
            "Epoch 7/10\n",
            "29/29 [==============================] - 1s 45ms/step - loss: 3.9646 - accuracy: 0.5702 - val_loss: 6.1250 - val_accuracy: 0.5700\n",
            "Epoch 8/10\n",
            "29/29 [==============================] - 1s 45ms/step - loss: 4.1670 - accuracy: 0.5657 - val_loss: 4.5734 - val_accuracy: 0.5700\n",
            "Epoch 9/10\n",
            "29/29 [==============================] - 1s 45ms/step - loss: 4.0421 - accuracy: 0.5657 - val_loss: 6.6130 - val_accuracy: 0.5700\n",
            "Epoch 10/10\n",
            "29/29 [==============================] - 1s 46ms/step - loss: 4.2353 - accuracy: 0.5657 - val_loss: 3.6182 - val_accuracy: 0.5700\n",
            "4/4 [==============================] - 1s 25ms/step - loss: 3.5496 - accuracy: 0.5700\n",
            "Score for fold 6: loss of 3.5495715141296387; accuracy of 56.99999928474426%\n"
          ]
        },
        {
          "output_type": "stream",
          "name": "stderr",
          "text": [
            "Some layers from the model checkpoint at distilbert-base-uncased were not used when initializing TFDistilBertForSequenceClassification: ['activation_13', 'vocab_projector', 'vocab_transform', 'vocab_layer_norm']\n",
            "- This IS expected if you are initializing TFDistilBertForSequenceClassification from the checkpoint of a model trained on another task or with another architecture (e.g. initializing a BertForSequenceClassification model from a BertForPreTraining model).\n",
            "- This IS NOT expected if you are initializing TFDistilBertForSequenceClassification from the checkpoint of a model that you expect to be exactly identical (initializing a BertForSequenceClassification model from a BertForSequenceClassification model).\n",
            "Some layers of TFDistilBertForSequenceClassification were not initialized from the model checkpoint at distilbert-base-uncased and are newly initialized: ['pre_classifier', 'classifier', 'dropout_159']\n",
            "You should probably TRAIN this model on a down-stream task to be able to use it for predictions and inference.\n",
            "/usr/local/lib/python3.7/dist-packages/keras/optimizer_v2/adam.py:105: UserWarning: The `lr` argument is deprecated, use `learning_rate` instead.\n",
            "  super(Adam, self).__init__(name, **kwargs)\n"
          ]
        },
        {
          "output_type": "stream",
          "name": "stdout",
          "text": [
            "------------------------------------------------------------------------\n",
            "Training for fold 7 ...\n",
            "<keras.callbacks.ModelCheckpoint object at 0x7f9b2604b850>\n",
            "Epoch 1/10\n",
            "29/29 [==============================] - 32s 594ms/step - loss: 0.7382 - accuracy: 0.6425 - val_loss: 0.5794 - val_accuracy: 0.6600\n",
            "Epoch 2/10\n",
            "29/29 [==============================] - 1s 44ms/step - loss: 0.5525 - accuracy: 0.7316 - val_loss: 0.8355 - val_accuracy: 0.6500\n",
            "Epoch 3/10\n",
            "29/29 [==============================] - 3s 122ms/step - loss: 0.6922 - accuracy: 0.6615 - val_loss: 0.5506 - val_accuracy: 0.7300\n",
            "Epoch 4/10\n",
            "29/29 [==============================] - 1s 46ms/step - loss: 0.5768 - accuracy: 0.7138 - val_loss: 0.5685 - val_accuracy: 0.6900\n",
            "Epoch 5/10\n",
            "29/29 [==============================] - 2s 85ms/step - loss: 0.5165 - accuracy: 0.7517 - val_loss: 0.5055 - val_accuracy: 0.7500\n",
            "Epoch 6/10\n",
            "29/29 [==============================] - 1s 46ms/step - loss: 0.6122 - accuracy: 0.7405 - val_loss: 0.5480 - val_accuracy: 0.7100\n",
            "Epoch 7/10\n",
            "29/29 [==============================] - 1s 45ms/step - loss: 0.5279 - accuracy: 0.7361 - val_loss: 0.5267 - val_accuracy: 0.7100\n",
            "Epoch 8/10\n",
            "29/29 [==============================] - 3s 89ms/step - loss: 0.5388 - accuracy: 0.7539 - val_loss: 0.4931 - val_accuracy: 0.7400\n",
            "Epoch 9/10\n",
            "29/29 [==============================] - 1s 44ms/step - loss: 0.4896 - accuracy: 0.7584 - val_loss: 0.5554 - val_accuracy: 0.7600\n",
            "Epoch 10/10\n",
            "29/29 [==============================] - 1s 45ms/step - loss: 0.4890 - accuracy: 0.7584 - val_loss: 0.5129 - val_accuracy: 0.7200\n",
            "4/4 [==============================] - 1s 25ms/step - loss: 0.4931 - accuracy: 0.7400\n",
            "Score for fold 7: loss of 0.49313244223594666; accuracy of 74.00000095367432%\n"
          ]
        },
        {
          "output_type": "stream",
          "name": "stderr",
          "text": [
            "Some layers from the model checkpoint at distilbert-base-uncased were not used when initializing TFDistilBertForSequenceClassification: ['activation_13', 'vocab_projector', 'vocab_transform', 'vocab_layer_norm']\n",
            "- This IS expected if you are initializing TFDistilBertForSequenceClassification from the checkpoint of a model trained on another task or with another architecture (e.g. initializing a BertForSequenceClassification model from a BertForPreTraining model).\n",
            "- This IS NOT expected if you are initializing TFDistilBertForSequenceClassification from the checkpoint of a model that you expect to be exactly identical (initializing a BertForSequenceClassification model from a BertForSequenceClassification model).\n",
            "Some layers of TFDistilBertForSequenceClassification were not initialized from the model checkpoint at distilbert-base-uncased and are newly initialized: ['pre_classifier', 'classifier', 'dropout_179']\n",
            "You should probably TRAIN this model on a down-stream task to be able to use it for predictions and inference.\n",
            "/usr/local/lib/python3.7/dist-packages/keras/optimizer_v2/adam.py:105: UserWarning: The `lr` argument is deprecated, use `learning_rate` instead.\n",
            "  super(Adam, self).__init__(name, **kwargs)\n"
          ]
        },
        {
          "output_type": "stream",
          "name": "stdout",
          "text": [
            "------------------------------------------------------------------------\n",
            "Training for fold 8 ...\n",
            "<keras.callbacks.ModelCheckpoint object at 0x7f9b25987890>\n",
            "Epoch 1/10\n",
            "29/29 [==============================] - 32s 589ms/step - loss: 0.9121 - accuracy: 0.6102 - val_loss: 0.6202 - val_accuracy: 0.6700\n",
            "Epoch 2/10\n",
            "29/29 [==============================] - 1s 44ms/step - loss: 0.6126 - accuracy: 0.6882 - val_loss: 0.6295 - val_accuracy: 0.7000\n",
            "Epoch 3/10\n",
            "29/29 [==============================] - 1s 45ms/step - loss: 0.5486 - accuracy: 0.7350 - val_loss: 1.0937 - val_accuracy: 0.6300\n",
            "Epoch 4/10\n",
            "29/29 [==============================] - 1s 45ms/step - loss: 0.7308 - accuracy: 0.6837 - val_loss: 0.7058 - val_accuracy: 0.6100\n",
            "Epoch 5/10\n",
            "29/29 [==============================] - 1s 45ms/step - loss: 0.5598 - accuracy: 0.7316 - val_loss: 0.6402 - val_accuracy: 0.7200\n",
            "Epoch 6/10\n",
            "29/29 [==============================] - 1s 44ms/step - loss: 0.5248 - accuracy: 0.7439 - val_loss: 1.0452 - val_accuracy: 0.6300\n",
            "Epoch 7/10\n",
            "29/29 [==============================] - 1s 45ms/step - loss: 0.4894 - accuracy: 0.7450 - val_loss: 0.7108 - val_accuracy: 0.6800\n",
            "Epoch 8/10\n",
            "29/29 [==============================] - 1s 48ms/step - loss: 0.5041 - accuracy: 0.7617 - val_loss: 0.7979 - val_accuracy: 0.6800\n",
            "Epoch 9/10\n",
            "29/29 [==============================] - 1s 46ms/step - loss: 0.4780 - accuracy: 0.7762 - val_loss: 0.7760 - val_accuracy: 0.6800\n",
            "Epoch 10/10\n",
            "29/29 [==============================] - 1s 46ms/step - loss: 0.5924 - accuracy: 0.7539 - val_loss: 0.6637 - val_accuracy: 0.7000\n",
            "4/4 [==============================] - 1s 24ms/step - loss: 0.6202 - accuracy: 0.6700\n",
            "Score for fold 8: loss of 0.6202332377433777; accuracy of 66.99999570846558%\n"
          ]
        },
        {
          "output_type": "stream",
          "name": "stderr",
          "text": [
            "Some layers from the model checkpoint at distilbert-base-uncased were not used when initializing TFDistilBertForSequenceClassification: ['activation_13', 'vocab_projector', 'vocab_transform', 'vocab_layer_norm']\n",
            "- This IS expected if you are initializing TFDistilBertForSequenceClassification from the checkpoint of a model trained on another task or with another architecture (e.g. initializing a BertForSequenceClassification model from a BertForPreTraining model).\n",
            "- This IS NOT expected if you are initializing TFDistilBertForSequenceClassification from the checkpoint of a model that you expect to be exactly identical (initializing a BertForSequenceClassification model from a BertForSequenceClassification model).\n",
            "Some layers of TFDistilBertForSequenceClassification were not initialized from the model checkpoint at distilbert-base-uncased and are newly initialized: ['pre_classifier', 'classifier', 'dropout_199']\n",
            "You should probably TRAIN this model on a down-stream task to be able to use it for predictions and inference.\n",
            "/usr/local/lib/python3.7/dist-packages/keras/optimizer_v2/adam.py:105: UserWarning: The `lr` argument is deprecated, use `learning_rate` instead.\n",
            "  super(Adam, self).__init__(name, **kwargs)\n"
          ]
        },
        {
          "output_type": "stream",
          "name": "stdout",
          "text": [
            "------------------------------------------------------------------------\n",
            "Training for fold 9 ...\n",
            "<keras.callbacks.ModelCheckpoint object at 0x7f9b23b30d50>\n",
            "Epoch 1/10\n",
            "29/29 [==============================] - 32s 591ms/step - loss: 1.2615 - accuracy: 0.5951 - val_loss: 0.6099 - val_accuracy: 0.6566\n",
            "Epoch 2/10\n",
            "29/29 [==============================] - 3s 88ms/step - loss: 0.6044 - accuracy: 0.6852 - val_loss: 0.5504 - val_accuracy: 0.7071\n",
            "Epoch 3/10\n",
            "29/29 [==============================] - 2s 83ms/step - loss: 0.5552 - accuracy: 0.7330 - val_loss: 0.5406 - val_accuracy: 0.6566\n",
            "Epoch 4/10\n",
            "29/29 [==============================] - 1s 47ms/step - loss: 0.5333 - accuracy: 0.7430 - val_loss: 0.6578 - val_accuracy: 0.7273\n",
            "Epoch 5/10\n",
            "29/29 [==============================] - 3s 109ms/step - loss: 0.5629 - accuracy: 0.7130 - val_loss: 0.5243 - val_accuracy: 0.7273\n",
            "Epoch 6/10\n",
            "29/29 [==============================] - 1s 45ms/step - loss: 0.5007 - accuracy: 0.7508 - val_loss: 0.5810 - val_accuracy: 0.7576\n",
            "Epoch 7/10\n",
            "29/29 [==============================] - 1s 45ms/step - loss: 0.4919 - accuracy: 0.7542 - val_loss: 0.9226 - val_accuracy: 0.7475\n",
            "Epoch 8/10\n",
            "29/29 [==============================] - 1s 45ms/step - loss: 0.5797 - accuracy: 0.7564 - val_loss: 0.5939 - val_accuracy: 0.7475\n",
            "Epoch 9/10\n",
            "29/29 [==============================] - 1s 45ms/step - loss: 0.5035 - accuracy: 0.7786 - val_loss: 0.6339 - val_accuracy: 0.7576\n",
            "Epoch 10/10\n",
            "29/29 [==============================] - 1s 44ms/step - loss: 0.4659 - accuracy: 0.7909 - val_loss: 0.8275 - val_accuracy: 0.7677\n",
            "4/4 [==============================] - 1s 25ms/step - loss: 0.5243 - accuracy: 0.7273\n",
            "Score for fold 9: loss of 0.5243499279022217; accuracy of 72.72727489471436%\n"
          ]
        },
        {
          "output_type": "stream",
          "name": "stderr",
          "text": [
            "Some layers from the model checkpoint at distilbert-base-uncased were not used when initializing TFDistilBertForSequenceClassification: ['activation_13', 'vocab_projector', 'vocab_transform', 'vocab_layer_norm']\n",
            "- This IS expected if you are initializing TFDistilBertForSequenceClassification from the checkpoint of a model trained on another task or with another architecture (e.g. initializing a BertForSequenceClassification model from a BertForPreTraining model).\n",
            "- This IS NOT expected if you are initializing TFDistilBertForSequenceClassification from the checkpoint of a model that you expect to be exactly identical (initializing a BertForSequenceClassification model from a BertForSequenceClassification model).\n",
            "Some layers of TFDistilBertForSequenceClassification were not initialized from the model checkpoint at distilbert-base-uncased and are newly initialized: ['pre_classifier', 'dropout_219', 'classifier']\n",
            "You should probably TRAIN this model on a down-stream task to be able to use it for predictions and inference.\n",
            "/usr/local/lib/python3.7/dist-packages/keras/optimizer_v2/adam.py:105: UserWarning: The `lr` argument is deprecated, use `learning_rate` instead.\n",
            "  super(Adam, self).__init__(name, **kwargs)\n"
          ]
        },
        {
          "output_type": "stream",
          "name": "stdout",
          "text": [
            "------------------------------------------------------------------------\n",
            "Training for fold 10 ...\n",
            "<keras.callbacks.ModelCheckpoint object at 0x7f9b23ed4e90>\n",
            "Epoch 1/10\n",
            "29/29 [==============================] - 33s 596ms/step - loss: 3.8862 - accuracy: 0.5662 - val_loss: 3.6545 - val_accuracy: 0.5657\n",
            "Epoch 2/10\n",
            "29/29 [==============================] - 1s 46ms/step - loss: 3.6451 - accuracy: 0.5662 - val_loss: 3.8333 - val_accuracy: 0.5657\n",
            "Epoch 3/10\n",
            "29/29 [==============================] - 2s 87ms/step - loss: 3.6431 - accuracy: 0.5662 - val_loss: 3.6197 - val_accuracy: 0.5657\n",
            "Epoch 4/10\n",
            "29/29 [==============================] - 1s 45ms/step - loss: 3.5994 - accuracy: 0.5662 - val_loss: 3.7115 - val_accuracy: 0.5657\n",
            "Epoch 5/10\n",
            "29/29 [==============================] - 1s 44ms/step - loss: 3.6305 - accuracy: 0.5662 - val_loss: 3.7285 - val_accuracy: 0.5657\n",
            "Epoch 6/10\n",
            "29/29 [==============================] - 1s 44ms/step - loss: 3.7624 - accuracy: 0.5662 - val_loss: 3.6207 - val_accuracy: 0.5657\n",
            "Epoch 7/10\n",
            "29/29 [==============================] - 2s 87ms/step - loss: 3.6030 - accuracy: 0.5662 - val_loss: 3.6065 - val_accuracy: 0.5657\n",
            "Epoch 8/10\n",
            "29/29 [==============================] - 2s 84ms/step - loss: 3.5859 - accuracy: 0.5662 - val_loss: 3.6020 - val_accuracy: 0.5657\n",
            "Epoch 9/10\n",
            "29/29 [==============================] - 1s 46ms/step - loss: 3.6124 - accuracy: 0.5662 - val_loss: 3.6345 - val_accuracy: 0.5657\n",
            "Epoch 10/10\n",
            "29/29 [==============================] - 3s 88ms/step - loss: 3.5886 - accuracy: 0.5662 - val_loss: 3.5987 - val_accuracy: 0.5657\n",
            "4/4 [==============================] - 1s 27ms/step - loss: 3.5987 - accuracy: 0.5657\n",
            "Score for fold 10: loss of 3.5986688137054443; accuracy of 56.565654277801514%\n",
            "Weighted F1 Score: 0.6192573551787185, Macro F1 Score: 0.598930269591188\n"
          ]
        },
        {
          "output_type": "execute_result",
          "data": {
            "text/plain": [
              "<keras.engine.functional.Functional at 0x7f9b3ea30650>"
            ]
          },
          "metadata": {},
          "execution_count": 44
        }
      ]
    },
    {
      "cell_type": "markdown",
      "source": [
        "#Model 2"
      ],
      "metadata": {
        "id": "HPtnZX8MfGeo"
      },
      "id": "HPtnZX8MfGeo"
    },
    {
      "cell_type": "code",
      "source": [
        "# your code goes here\n",
        "\n",
        "\n",
        "def BERTBASELINE():\n",
        "      transformer_model = TFDistilBertForSequenceClassification.from_pretrained('distilbert-base-uncased', config = DistilBertConfig(num_labels = 2))\n",
        "      input_ids = tf.keras.layers.Input(shape=(MAX_LEN,), name='input_token', dtype='int32')\n",
        "      input_masks_ids = tf.keras.layers.Input(shape=(MAX_LEN,), name='masked_token', dtype='int32')\n",
        "      X = transformer_model(input_ids, input_masks_ids)\n",
        "      model = tf.keras.Model(inputs=[input_ids, input_masks_ids], outputs = X)\n",
        "      return model\n",
        "\n",
        "use_tpu = True\n",
        "if use_tpu:\n",
        "      # Create distribution strategy\n",
        "      tpu = tf.distribute.cluster_resolver.TPUClusterResolver()\n",
        "      tf.config.experimental_connect_to_cluster(tpu)\n",
        "      tf.tpu.experimental.initialize_tpu_system(tpu)\n",
        "      strategy = tf.distribute.experimental.TPUStrategy(tpu)\n",
        "\n",
        "    # Create model\n",
        "      with strategy.scope():\n",
        "        bertbaseline = BERTBASELINE() \n",
        "        optimizer = tf.keras.optimizers.Adam(lr=2e-5)\n",
        "        bertbaseline.compile(optimizer=optimizer, loss='binary_crossentropy', metrics=['accuracy'])\n",
        "\n",
        "\n",
        "print(bertbaseline.summary())\n"
      ],
      "metadata": {
        "colab": {
          "base_uri": "https://localhost:8080/"
        },
        "id": "j7cMPhLwfE20",
        "outputId": "913302e2-9522-44fc-a55c-9e308e69782c"
      },
      "id": "j7cMPhLwfE20",
      "execution_count": null,
      "outputs": [
        {
          "output_type": "stream",
          "name": "stderr",
          "text": [
            "WARNING:tensorflow:TPU system grpc://10.89.90.210:8470 has already been initialized. Reinitializing the TPU can cause previously created variables on TPU to be lost.\n",
            "WARNING:absl:`tf.distribute.experimental.TPUStrategy` is deprecated, please use  the non experimental symbol `tf.distribute.TPUStrategy` instead.\n",
            "Some layers from the model checkpoint at distilbert-base-uncased were not used when initializing TFDistilBertForSequenceClassification: ['activation_13', 'vocab_projector', 'vocab_transform', 'vocab_layer_norm']\n",
            "- This IS expected if you are initializing TFDistilBertForSequenceClassification from the checkpoint of a model trained on another task or with another architecture (e.g. initializing a BertForSequenceClassification model from a BertForPreTraining model).\n",
            "- This IS NOT expected if you are initializing TFDistilBertForSequenceClassification from the checkpoint of a model that you expect to be exactly identical (initializing a BertForSequenceClassification model from a BertForSequenceClassification model).\n",
            "Some layers of TFDistilBertForSequenceClassification were not initialized from the model checkpoint at distilbert-base-uncased and are newly initialized: ['pre_classifier', 'classifier', 'dropout_239']\n",
            "You should probably TRAIN this model on a down-stream task to be able to use it for predictions and inference.\n"
          ]
        },
        {
          "output_type": "stream",
          "name": "stdout",
          "text": [
            "Model: \"model_11\"\n",
            "__________________________________________________________________________________________________\n",
            " Layer (type)                   Output Shape         Param #     Connected to                     \n",
            "==================================================================================================\n",
            " input_token (InputLayer)       [(None, 200)]        0           []                               \n",
            "                                                                                                  \n",
            " masked_token (InputLayer)      [(None, 200)]        0           []                               \n",
            "                                                                                                  \n",
            " tf_distil_bert_for_sequence_cl  TFSequenceClassifie  66955010   ['input_token[0][0]',            \n",
            " assification_11 (TFDistilBertF  rOutput(loss=None,               'masked_token[0][0]']           \n",
            " orSequenceClassification)      logits=(None, 2),                                                 \n",
            "                                 hidden_states=None                                               \n",
            "                                , attentions=None)                                                \n",
            "                                                                                                  \n",
            "==================================================================================================\n",
            "Total params: 66,955,010\n",
            "Trainable params: 66,955,010\n",
            "Non-trainable params: 0\n",
            "__________________________________________________________________________________________________\n",
            "None\n"
          ]
        },
        {
          "output_type": "stream",
          "name": "stderr",
          "text": [
            "/usr/local/lib/python3.7/dist-packages/keras/optimizer_v2/adam.py:105: UserWarning: The `lr` argument is deprecated, use `learning_rate` instead.\n",
            "  super(Adam, self).__init__(name, **kwargs)\n"
          ]
        }
      ]
    },
    {
      "cell_type": "code",
      "source": [
        "def baseline_kfold(train_seq, train_mask, train_y, is_ethos = False, is_frozen_embeddings = True):\n",
        "  acc_per_fold = []\n",
        "  loss_per_fold = []\n",
        "  weighted_f1_list = []\n",
        "  macro_f1_list = []\n",
        "  \n",
        "  if is_frozen_embeddings:\n",
        "    epochs = 10\n",
        "  elif is_ethos:\n",
        "    epochs = 5\n",
        "    n_split = 5\n",
        "  else:\n",
        "    epochs = 3  \n",
        "\n",
        "  if is_frozen_embeddings:\n",
        "    learning_rate = 0.001\n",
        "  else:\n",
        "    learning_rate = 2e-5  \n",
        "\n",
        "  n_split = 10\n",
        "  kfold = StratifiedKFold(n_splits = n_split, shuffle = True, random_state = 42)\n",
        "\n",
        "  fold_no = 1\n",
        "\n",
        "  for train_idx, val_idx in kfold.split(np.zeros(len(train_y)),[np.argmax(i) for i in train_y]):\n",
        "    train_temp_seq = np.array([train_seq[i] for i in train_idx])\n",
        "    train_temp_mask = np.array([train_mask[i] for i in train_idx])\n",
        "    training_y = np.array([train_y[i] for i in train_idx])\n",
        "   \n",
        "    val_temp_seq = np.array([train_seq[i] for i in val_idx])\n",
        "    val_temp_mask = np.array([train_mask[i] for i in val_idx])\n",
        "    validation_y = np.array([train_y[i] for i in val_idx])\n",
        "\n",
        "\n",
        "  # Create model\n",
        "    with strategy.scope():\n",
        "        new_model = BERTBASELINE() \n",
        "        new_model.compile(optimizer=tf.keras.optimizers.Adam(lr=learning_rate), loss='binary_crossentropy', metrics=['accuracy'])\t\n",
        "\n",
        "    checkpoint = tf.keras.callbacks.ModelCheckpoint('checkpoint_'+str(fold_no)+'.h5', monitor= 'val_loss', \n",
        "                                                 verbose = 0, save_best_only = True, mode = 'min')\t\n",
        "\n",
        "  \t\t\t\n",
        "\n",
        "    #new_model.compile(optimizer=tf.keras.optimizers.Adam(lr=2e-5), loss='categorical_crossentropy', metrics=['accuracy'])\n",
        "    print('------------------------------------------------------------------------')\n",
        "    print(f'Training for fold {fold_no} ...')\n",
        "  \n",
        "    print(checkpoint)\n",
        "\n",
        "    new_model.fit([train_temp_seq, train_temp_mask],training_y,\n",
        "                    epochs= epochs,\n",
        "                    batch_size= 32,\n",
        "                    callbacks = [checkpoint],\n",
        "                    validation_data=([val_temp_seq, val_temp_mask],validation_y),\n",
        "                    verbose=1)\n",
        "  \n",
        "\n",
        "\n",
        "\n",
        "    new_model.load_weights('checkpoint_'+str(fold_no)+'.h5')\n",
        "  \n",
        "    scores = new_model.evaluate([val_temp_seq, val_temp_mask], validation_y, verbose = 1)\n",
        "    predictions = new_model.predict([val_temp_seq, val_temp_mask])\n",
        "       \n",
        "  \n",
        "    print(f'Score for fold {fold_no}: {new_model.metrics_names[0]} of {scores[0]}; {new_model.metrics_names[1]} of {scores[1]*100}%')\n",
        "    acc_per_fold.append(scores[1] * 100) \n",
        "    loss_per_fold.append(scores[0])\n",
        "    #for i in range(len(predictions)):\n",
        "    #  if np.argmax(predictions[i]) != validation_y[i]:\n",
        "    #    print('Prediction: ', predictions[i], 'Actual: ', validation_y[i])\n",
        "\n",
        "    weighted_f1 = f1_score(np.argmax(validation_y, axis = 1), np.argmax(predictions['logits'], axis = 1), average = 'weighted')\n",
        "    macro_f1 = f1_score(np.argmax(validation_y, axis = 1), np.argmax(predictions['logits'], axis = 1), average = 'macro')\n",
        "    \n",
        "    weighted_f1_list.append(weighted_f1)\n",
        "    macro_f1_list.append(macro_f1)\n",
        "\n",
        "    fold_no += 1\n",
        "\n",
        "  max_i = np.argmax(acc_per_fold)+1\n",
        "\n",
        "  bertbaseline.load_weights('checkpoint_'+str(max_i)+'.h5')\n",
        "\n",
        "  f1_w = sum(weighted_f1_list)/len(weighted_f1_list)\n",
        "  f1_m = sum(macro_f1_list)/len(macro_f1_list)\n",
        "\n",
        "  print('Weighted F1 Score: {}, Macro F1 Score: {}'.format(f1_w, f1_m))\n",
        "\n",
        "  return bertbaseline\n",
        "\n",
        "\n",
        "\n",
        "  "
      ],
      "metadata": {
        "id": "eL-8k6btfDud"
      },
      "id": "eL-8k6btfDud",
      "execution_count": null,
      "outputs": []
    },
    {
      "cell_type": "code",
      "source": [
        "bertbaseline.load_weights('checkpoint_bertbaseline_MAX.h5')"
      ],
      "metadata": {
        "id": "zhQ4UUFVfDxK"
      },
      "id": "zhQ4UUFVfDxK",
      "execution_count": null,
      "outputs": []
    },
    {
      "cell_type": "markdown",
      "source": [
        "##Model 2 Results on Twitter and Facebook\n",
        "\n"
      ],
      "metadata": {
        "id": "5Uql8PSi33Lu"
      },
      "id": "5Uql8PSi33Lu"
    },
    {
      "cell_type": "code",
      "source": [
        "model_eval_bertbase(bertbaseline,[test_seq, test_mask], test_y)"
      ],
      "metadata": {
        "colab": {
          "base_uri": "https://localhost:8080/",
          "height": 515
        },
        "id": "OqbiwZy-fDze",
        "outputId": "8a5bc5c6-25e6-4ed5-ee9a-ee55a2a6258c"
      },
      "id": "OqbiwZy-fDze",
      "execution_count": null,
      "outputs": [
        {
          "output_type": "stream",
          "name": "stdout",
          "text": [
            "37/37 [==============================] - 13s 117ms/step - loss: 0.4553 - accuracy: 0.8456\n",
            "              precision    recall  f1-score   support\n",
            "\n",
            "           0       0.86      0.95      0.90       865\n",
            "           1       0.78      0.53      0.63       288\n",
            "\n",
            "    accuracy                           0.85      1153\n",
            "   macro avg       0.82      0.74      0.77      1153\n",
            "weighted avg       0.84      0.85      0.84      1153\n",
            "\n",
            "[[821  44]\n",
            " [134 154]]\n",
            "AxesSubplot(0.125,0.125;0.62x0.755)\n",
            "Precision: 0.7778, Recall: 0.5347, Specificity: 0.9491\n"
          ]
        },
        {
          "output_type": "display_data",
          "data": {
            "text/plain": [
              "<Figure size 432x288 with 2 Axes>"
            ],
            "image/png": "[encoded data removed]"
          },
          "metadata": {
            "needs_background": "light"
          }
        }
      ]
    },
    {
      "cell_type": "markdown",
      "source": [
        "#Now test Model 2 with TL 1"
      ],
      "metadata": {
        "id": "OPCQC_xjf0mV"
      },
      "id": "OPCQC_xjf0mV"
    },
    {
      "cell_type": "code",
      "source": [
        "model_eval_bertbase(bertbaseline, [all_ids_be, all_mask_be], all_y_be)"
      ],
      "metadata": {
        "colab": {
          "base_uri": "https://localhost:8080/",
          "height": 515
        },
        "id": "ELJW0xGufD1y",
        "outputId": "9c250d83-5e85-4735-b0c9-7ecdd6d766a6"
      },
      "id": "ELJW0xGufD1y",
      "execution_count": null,
      "outputs": [
        {
          "output_type": "stream",
          "name": "stdout",
          "text": [
            "32/32 [==============================] - 1s 23ms/step - loss: 0.7125 - accuracy: 0.6713\n",
            "              precision    recall  f1-score   support\n",
            "\n",
            "           0       0.68      0.79      0.73       565\n",
            "           1       0.65      0.51      0.58       433\n",
            "\n",
            "    accuracy                           0.67       998\n",
            "   macro avg       0.67      0.65      0.65       998\n",
            "weighted avg       0.67      0.67      0.66       998\n",
            "\n",
            "[[448 117]\n",
            " [211 222]]\n",
            "AxesSubplot(0.125,0.125;0.62x0.755)\n",
            "Precision: 0.6549, Recall: 0.5127, Specificity: 0.7929\n"
          ]
        },
        {
          "output_type": "display_data",
          "data": {
            "text/plain": [
              "<Figure size 432x288 with 2 Axes>"
            ],
            "image/png": "[encoded data removed]"
          },
          "metadata": {
            "needs_background": "light"
          }
        }
      ]
    },
    {
      "cell_type": "markdown",
      "source": [
        "#Now Test Model 2 With TL2"
      ],
      "metadata": {
        "id": "e8-IQeD2f7vw"
      },
      "id": "e8-IQeD2f7vw"
    },
    {
      "cell_type": "code",
      "source": [
        "baseline_kfold(all_ids_be, all_mask_be, all_y_be, is_ethos = True, is_frozen_embeddings = False)"
      ],
      "metadata": {
        "colab": {
          "base_uri": "https://localhost:8080/"
        },
        "id": "ZKLZjNvXf7HE",
        "outputId": "83f65179-21e1-4354-fae8-8c2fdfe6c6ac"
      },
      "id": "ZKLZjNvXf7HE",
      "execution_count": null,
      "outputs": [
        {
          "output_type": "stream",
          "name": "stderr",
          "text": [
            "Some layers from the model checkpoint at distilbert-base-uncased were not used when initializing TFDistilBertForSequenceClassification: ['activation_13', 'vocab_projector', 'vocab_transform', 'vocab_layer_norm']\n",
            "- This IS expected if you are initializing TFDistilBertForSequenceClassification from the checkpoint of a model trained on another task or with another architecture (e.g. initializing a BertForSequenceClassification model from a BertForPreTraining model).\n",
            "- This IS NOT expected if you are initializing TFDistilBertForSequenceClassification from the checkpoint of a model that you expect to be exactly identical (initializing a BertForSequenceClassification model from a BertForSequenceClassification model).\n",
            "Some layers of TFDistilBertForSequenceClassification were not initialized from the model checkpoint at distilbert-base-uncased and are newly initialized: ['dropout_259', 'pre_classifier', 'classifier']\n",
            "You should probably TRAIN this model on a down-stream task to be able to use it for predictions and inference.\n",
            "/usr/local/lib/python3.7/dist-packages/keras/optimizer_v2/adam.py:105: UserWarning: The `lr` argument is deprecated, use `learning_rate` instead.\n",
            "  super(Adam, self).__init__(name, **kwargs)\n"
          ]
        },
        {
          "output_type": "stream",
          "name": "stdout",
          "text": [
            "------------------------------------------------------------------------\n",
            "Training for fold 1 ...\n",
            "<keras.callbacks.ModelCheckpoint object at 0x7f9b26243350>\n",
            "Epoch 1/5\n",
            "29/29 [==============================] - 99s 2s/step - loss: 4.0731 - accuracy: 0.4354 - val_loss: 0.7121 - val_accuracy: 0.4400\n",
            "Epoch 2/5\n",
            "29/29 [==============================] - 5s 190ms/step - loss: 0.6717 - accuracy: 0.5969 - val_loss: 0.6464 - val_accuracy: 0.6100\n",
            "Epoch 3/5\n",
            "29/29 [==============================] - 5s 186ms/step - loss: 0.6209 - accuracy: 0.6849 - val_loss: 0.5796 - val_accuracy: 0.6900\n",
            "Epoch 4/5\n",
            "29/29 [==============================] - 2s 77ms/step - loss: 0.5213 - accuracy: 0.7595 - val_loss: 0.7352 - val_accuracy: 0.7400\n",
            "Epoch 5/5\n",
            "29/29 [==============================] - 5s 191ms/step - loss: 0.4635 - accuracy: 0.7884 - val_loss: 0.4968 - val_accuracy: 0.7600\n",
            "4/4 [==============================] - 1s 26ms/step - loss: 0.4968 - accuracy: 0.7600\n",
            "Score for fold 1: loss of 0.49683675169944763; accuracy of 75.99999904632568%\n"
          ]
        },
        {
          "output_type": "stream",
          "name": "stderr",
          "text": [
            "Some layers from the model checkpoint at distilbert-base-uncased were not used when initializing TFDistilBertForSequenceClassification: ['activation_13', 'vocab_projector', 'vocab_transform', 'vocab_layer_norm']\n",
            "- This IS expected if you are initializing TFDistilBertForSequenceClassification from the checkpoint of a model trained on another task or with another architecture (e.g. initializing a BertForSequenceClassification model from a BertForPreTraining model).\n",
            "- This IS NOT expected if you are initializing TFDistilBertForSequenceClassification from the checkpoint of a model that you expect to be exactly identical (initializing a BertForSequenceClassification model from a BertForSequenceClassification model).\n",
            "Some layers of TFDistilBertForSequenceClassification were not initialized from the model checkpoint at distilbert-base-uncased and are newly initialized: ['pre_classifier', 'classifier', 'dropout_279']\n",
            "You should probably TRAIN this model on a down-stream task to be able to use it for predictions and inference.\n",
            "/usr/local/lib/python3.7/dist-packages/keras/optimizer_v2/adam.py:105: UserWarning: The `lr` argument is deprecated, use `learning_rate` instead.\n",
            "  super(Adam, self).__init__(name, **kwargs)\n"
          ]
        },
        {
          "output_type": "stream",
          "name": "stdout",
          "text": [
            "------------------------------------------------------------------------\n",
            "Training for fold 2 ...\n",
            "<keras.callbacks.ModelCheckpoint object at 0x7f9b24884a50>\n",
            "Epoch 1/5\n",
            "29/29 [==============================] - 100s 2s/step - loss: 0.9195 - accuracy: 0.5646 - val_loss: 0.6681 - val_accuracy: 0.6400\n",
            "Epoch 2/5\n",
            "29/29 [==============================] - 5s 187ms/step - loss: 0.5978 - accuracy: 0.6971 - val_loss: 0.5578 - val_accuracy: 0.7300\n",
            "Epoch 3/5\n",
            "29/29 [==============================] - 5s 188ms/step - loss: 0.4399 - accuracy: 0.8040 - val_loss: 0.5437 - val_accuracy: 0.7400\n",
            "Epoch 4/5\n",
            "29/29 [==============================] - 2s 77ms/step - loss: 0.2534 - accuracy: 0.8998 - val_loss: 1.0358 - val_accuracy: 0.7100\n",
            "Epoch 5/5\n",
            "29/29 [==============================] - 2s 77ms/step - loss: 0.1181 - accuracy: 0.9644 - val_loss: 1.6958 - val_accuracy: 0.7600\n",
            "4/4 [==============================] - 1s 27ms/step - loss: 0.5437 - accuracy: 0.7400\n",
            "Score for fold 2: loss of 0.543716311454773; accuracy of 74.00000095367432%\n"
          ]
        },
        {
          "output_type": "stream",
          "name": "stderr",
          "text": [
            "Some layers from the model checkpoint at distilbert-base-uncased were not used when initializing TFDistilBertForSequenceClassification: ['activation_13', 'vocab_projector', 'vocab_transform', 'vocab_layer_norm']\n",
            "- This IS expected if you are initializing TFDistilBertForSequenceClassification from the checkpoint of a model trained on another task or with another architecture (e.g. initializing a BertForSequenceClassification model from a BertForPreTraining model).\n",
            "- This IS NOT expected if you are initializing TFDistilBertForSequenceClassification from the checkpoint of a model that you expect to be exactly identical (initializing a BertForSequenceClassification model from a BertForSequenceClassification model).\n",
            "Some layers of TFDistilBertForSequenceClassification were not initialized from the model checkpoint at distilbert-base-uncased and are newly initialized: ['pre_classifier', 'classifier', 'dropout_299']\n",
            "You should probably TRAIN this model on a down-stream task to be able to use it for predictions and inference.\n",
            "/usr/local/lib/python3.7/dist-packages/keras/optimizer_v2/adam.py:105: UserWarning: The `lr` argument is deprecated, use `learning_rate` instead.\n",
            "  super(Adam, self).__init__(name, **kwargs)\n"
          ]
        },
        {
          "output_type": "stream",
          "name": "stdout",
          "text": [
            "------------------------------------------------------------------------\n",
            "Training for fold 3 ...\n",
            "<keras.callbacks.ModelCheckpoint object at 0x7f9b22d89090>\n",
            "Epoch 1/5\n",
            "29/29 [==============================] - 101s 2s/step - loss: 0.9661 - accuracy: 0.5223 - val_loss: 0.6832 - val_accuracy: 0.6200\n",
            "Epoch 2/5\n",
            "29/29 [==============================] - 5s 183ms/step - loss: 0.6574 - accuracy: 0.6281 - val_loss: 0.6207 - val_accuracy: 0.7200\n",
            "Epoch 3/5\n",
            "29/29 [==============================] - 5s 191ms/step - loss: 0.5765 - accuracy: 0.7138 - val_loss: 0.5162 - val_accuracy: 0.7800\n",
            "Epoch 4/5\n",
            "29/29 [==============================] - 2s 76ms/step - loss: 0.4605 - accuracy: 0.8096 - val_loss: 1.5114 - val_accuracy: 0.6100\n",
            "Epoch 5/5\n",
            "29/29 [==============================] - 2s 76ms/step - loss: 0.4529 - accuracy: 0.8151 - val_loss: 0.6129 - val_accuracy: 0.7300\n",
            "4/4 [==============================] - 1s 26ms/step - loss: 0.5162 - accuracy: 0.7800\n",
            "Score for fold 3: loss of 0.5161696672439575; accuracy of 77.99999713897705%\n"
          ]
        },
        {
          "output_type": "stream",
          "name": "stderr",
          "text": [
            "Some layers from the model checkpoint at distilbert-base-uncased were not used when initializing TFDistilBertForSequenceClassification: ['activation_13', 'vocab_projector', 'vocab_transform', 'vocab_layer_norm']\n",
            "- This IS expected if you are initializing TFDistilBertForSequenceClassification from the checkpoint of a model trained on another task or with another architecture (e.g. initializing a BertForSequenceClassification model from a BertForPreTraining model).\n",
            "- This IS NOT expected if you are initializing TFDistilBertForSequenceClassification from the checkpoint of a model that you expect to be exactly identical (initializing a BertForSequenceClassification model from a BertForSequenceClassification model).\n",
            "Some layers of TFDistilBertForSequenceClassification were not initialized from the model checkpoint at distilbert-base-uncased and are newly initialized: ['dropout_319', 'pre_classifier', 'classifier']\n",
            "You should probably TRAIN this model on a down-stream task to be able to use it for predictions and inference.\n",
            "/usr/local/lib/python3.7/dist-packages/keras/optimizer_v2/adam.py:105: UserWarning: The `lr` argument is deprecated, use `learning_rate` instead.\n",
            "  super(Adam, self).__init__(name, **kwargs)\n"
          ]
        },
        {
          "output_type": "stream",
          "name": "stdout",
          "text": [
            "------------------------------------------------------------------------\n",
            "Training for fold 4 ...\n",
            "<keras.callbacks.ModelCheckpoint object at 0x7f9b277e7210>\n",
            "Epoch 1/5\n",
            "29/29 [==============================] - 102s 2s/step - loss: 1.1156 - accuracy: 0.5078 - val_loss: 0.6746 - val_accuracy: 0.5700\n",
            "Epoch 2/5\n",
            "29/29 [==============================] - 6s 195ms/step - loss: 0.6751 - accuracy: 0.5880 - val_loss: 0.6379 - val_accuracy: 0.6400\n",
            "Epoch 3/5\n",
            "29/29 [==============================] - 6s 196ms/step - loss: 0.6253 - accuracy: 0.6759 - val_loss: 0.5566 - val_accuracy: 0.8100\n",
            "Epoch 4/5\n",
            "29/29 [==============================] - 5s 194ms/step - loss: 0.5649 - accuracy: 0.7439 - val_loss: 0.5505 - val_accuracy: 0.8000\n",
            "Epoch 5/5\n",
            "29/29 [==============================] - 6s 195ms/step - loss: 0.3711 - accuracy: 0.8619 - val_loss: 0.4873 - val_accuracy: 0.8000\n",
            "4/4 [==============================] - 1s 27ms/step - loss: 0.4873 - accuracy: 0.8000\n",
            "Score for fold 4: loss of 0.48733317852020264; accuracy of 79.99999523162842%\n"
          ]
        },
        {
          "output_type": "stream",
          "name": "stderr",
          "text": [
            "Some layers from the model checkpoint at distilbert-base-uncased were not used when initializing TFDistilBertForSequenceClassification: ['activation_13', 'vocab_projector', 'vocab_transform', 'vocab_layer_norm']\n",
            "- This IS expected if you are initializing TFDistilBertForSequenceClassification from the checkpoint of a model trained on another task or with another architecture (e.g. initializing a BertForSequenceClassification model from a BertForPreTraining model).\n",
            "- This IS NOT expected if you are initializing TFDistilBertForSequenceClassification from the checkpoint of a model that you expect to be exactly identical (initializing a BertForSequenceClassification model from a BertForSequenceClassification model).\n",
            "Some layers of TFDistilBertForSequenceClassification were not initialized from the model checkpoint at distilbert-base-uncased and are newly initialized: ['pre_classifier', 'classifier', 'dropout_339']\n",
            "You should probably TRAIN this model on a down-stream task to be able to use it for predictions and inference.\n",
            "/usr/local/lib/python3.7/dist-packages/keras/optimizer_v2/adam.py:105: UserWarning: The `lr` argument is deprecated, use `learning_rate` instead.\n",
            "  super(Adam, self).__init__(name, **kwargs)\n"
          ]
        },
        {
          "output_type": "stream",
          "name": "stdout",
          "text": [
            "------------------------------------------------------------------------\n",
            "Training for fold 5 ...\n",
            "<keras.callbacks.ModelCheckpoint object at 0x7f9b2580d790>\n",
            "Epoch 1/5\n",
            "29/29 [==============================] - 102s 2s/step - loss: 1.0909 - accuracy: 0.5445 - val_loss: 0.6839 - val_accuracy: 0.6000\n",
            "Epoch 2/5\n",
            "29/29 [==============================] - 6s 204ms/step - loss: 0.6764 - accuracy: 0.5969 - val_loss: 0.6407 - val_accuracy: 0.6800\n",
            "Epoch 3/5\n",
            "29/29 [==============================] - 6s 210ms/step - loss: 0.6245 - accuracy: 0.6826 - val_loss: 0.5858 - val_accuracy: 0.7200\n",
            "Epoch 4/5\n",
            "29/29 [==============================] - 4s 144ms/step - loss: 0.5365 - accuracy: 0.7450 - val_loss: 0.6028 - val_accuracy: 0.7700\n",
            "Epoch 5/5\n",
            "29/29 [==============================] - 2s 83ms/step - loss: 0.4144 - accuracy: 0.8396 - val_loss: 0.6422 - val_accuracy: 0.8100\n",
            "4/4 [==============================] - 1s 26ms/step - loss: 0.5858 - accuracy: 0.7200\n",
            "Score for fold 5: loss of 0.5857983231544495; accuracy of 71.99999690055847%\n"
          ]
        },
        {
          "output_type": "stream",
          "name": "stderr",
          "text": [
            "Some layers from the model checkpoint at distilbert-base-uncased were not used when initializing TFDistilBertForSequenceClassification: ['activation_13', 'vocab_projector', 'vocab_transform', 'vocab_layer_norm']\n",
            "- This IS expected if you are initializing TFDistilBertForSequenceClassification from the checkpoint of a model trained on another task or with another architecture (e.g. initializing a BertForSequenceClassification model from a BertForPreTraining model).\n",
            "- This IS NOT expected if you are initializing TFDistilBertForSequenceClassification from the checkpoint of a model that you expect to be exactly identical (initializing a BertForSequenceClassification model from a BertForSequenceClassification model).\n",
            "Some layers of TFDistilBertForSequenceClassification were not initialized from the model checkpoint at distilbert-base-uncased and are newly initialized: ['pre_classifier', 'classifier', 'dropout_359']\n",
            "You should probably TRAIN this model on a down-stream task to be able to use it for predictions and inference.\n",
            "/usr/local/lib/python3.7/dist-packages/keras/optimizer_v2/adam.py:105: UserWarning: The `lr` argument is deprecated, use `learning_rate` instead.\n",
            "  super(Adam, self).__init__(name, **kwargs)\n"
          ]
        },
        {
          "output_type": "stream",
          "name": "stdout",
          "text": [
            "------------------------------------------------------------------------\n",
            "Training for fold 6 ...\n",
            "<keras.callbacks.ModelCheckpoint object at 0x7f9b238e2190>\n",
            "Epoch 1/5\n",
            "29/29 [==============================] - 103s 2s/step - loss: 1.0798 - accuracy: 0.6002 - val_loss: 0.6610 - val_accuracy: 0.6100\n",
            "Epoch 2/5\n",
            "29/29 [==============================] - 6s 210ms/step - loss: 0.6268 - accuracy: 0.6637 - val_loss: 0.5593 - val_accuracy: 0.7000\n",
            "Epoch 3/5\n",
            "29/29 [==============================] - 6s 211ms/step - loss: 0.5377 - accuracy: 0.7650 - val_loss: 0.4831 - val_accuracy: 0.7800\n",
            "Epoch 4/5\n",
            "29/29 [==============================] - 6s 212ms/step - loss: 0.4034 - accuracy: 0.8474 - val_loss: 0.4276 - val_accuracy: 0.7900\n",
            "Epoch 5/5\n",
            "29/29 [==============================] - 2s 84ms/step - loss: 0.2207 - accuracy: 0.9143 - val_loss: 0.5165 - val_accuracy: 0.8200\n",
            "4/4 [==============================] - 1s 26ms/step - loss: 0.4276 - accuracy: 0.7900\n",
            "Score for fold 6: loss of 0.42759424448013306; accuracy of 78.99999618530273%\n"
          ]
        },
        {
          "output_type": "stream",
          "name": "stderr",
          "text": [
            "Some layers from the model checkpoint at distilbert-base-uncased were not used when initializing TFDistilBertForSequenceClassification: ['activation_13', 'vocab_projector', 'vocab_transform', 'vocab_layer_norm']\n",
            "- This IS expected if you are initializing TFDistilBertForSequenceClassification from the checkpoint of a model trained on another task or with another architecture (e.g. initializing a BertForSequenceClassification model from a BertForPreTraining model).\n",
            "- This IS NOT expected if you are initializing TFDistilBertForSequenceClassification from the checkpoint of a model that you expect to be exactly identical (initializing a BertForSequenceClassification model from a BertForSequenceClassification model).\n",
            "Some layers of TFDistilBertForSequenceClassification were not initialized from the model checkpoint at distilbert-base-uncased and are newly initialized: ['pre_classifier', 'classifier', 'dropout_379']\n",
            "You should probably TRAIN this model on a down-stream task to be able to use it for predictions and inference.\n",
            "/usr/local/lib/python3.7/dist-packages/keras/optimizer_v2/adam.py:105: UserWarning: The `lr` argument is deprecated, use `learning_rate` instead.\n",
            "  super(Adam, self).__init__(name, **kwargs)\n"
          ]
        },
        {
          "output_type": "stream",
          "name": "stdout",
          "text": [
            "------------------------------------------------------------------------\n",
            "Training for fold 7 ...\n",
            "<keras.callbacks.ModelCheckpoint object at 0x7f9b1db1a990>\n",
            "Epoch 1/5\n",
            "29/29 [==============================] - 105s 2s/step - loss: 3.4282 - accuracy: 0.4555 - val_loss: 0.6765 - val_accuracy: 0.5600\n",
            "Epoch 2/5\n",
            "29/29 [==============================] - 6s 211ms/step - loss: 0.6748 - accuracy: 0.5780 - val_loss: 0.6435 - val_accuracy: 0.6600\n",
            "Epoch 3/5\n",
            "29/29 [==============================] - 6s 210ms/step - loss: 0.6228 - accuracy: 0.7071 - val_loss: 0.5948 - val_accuracy: 0.6500\n",
            "Epoch 4/5\n",
            "29/29 [==============================] - 6s 215ms/step - loss: 0.5378 - accuracy: 0.7416 - val_loss: 0.5150 - val_accuracy: 0.7100\n",
            "Epoch 5/5\n",
            "29/29 [==============================] - 2s 84ms/step - loss: 0.4348 - accuracy: 0.8118 - val_loss: 0.7281 - val_accuracy: 0.7600\n",
            "4/4 [==============================] - 1s 29ms/step - loss: 0.5150 - accuracy: 0.7100\n",
            "Score for fold 7: loss of 0.5150079131126404; accuracy of 70.99999785423279%\n"
          ]
        },
        {
          "output_type": "stream",
          "name": "stderr",
          "text": [
            "Some layers from the model checkpoint at distilbert-base-uncased were not used when initializing TFDistilBertForSequenceClassification: ['activation_13', 'vocab_projector', 'vocab_transform', 'vocab_layer_norm']\n",
            "- This IS expected if you are initializing TFDistilBertForSequenceClassification from the checkpoint of a model trained on another task or with another architecture (e.g. initializing a BertForSequenceClassification model from a BertForPreTraining model).\n",
            "- This IS NOT expected if you are initializing TFDistilBertForSequenceClassification from the checkpoint of a model that you expect to be exactly identical (initializing a BertForSequenceClassification model from a BertForSequenceClassification model).\n",
            "Some layers of TFDistilBertForSequenceClassification were not initialized from the model checkpoint at distilbert-base-uncased and are newly initialized: ['pre_classifier', 'classifier', 'dropout_399']\n",
            "You should probably TRAIN this model on a down-stream task to be able to use it for predictions and inference.\n",
            "/usr/local/lib/python3.7/dist-packages/keras/optimizer_v2/adam.py:105: UserWarning: The `lr` argument is deprecated, use `learning_rate` instead.\n",
            "  super(Adam, self).__init__(name, **kwargs)\n"
          ]
        },
        {
          "output_type": "stream",
          "name": "stdout",
          "text": [
            "------------------------------------------------------------------------\n",
            "Training for fold 8 ...\n",
            "<keras.callbacks.ModelCheckpoint object at 0x7f9b26571d90>\n",
            "Epoch 1/5\n",
            "29/29 [==============================] - 107s 2s/step - loss: 0.8075 - accuracy: 0.5791 - val_loss: 0.6418 - val_accuracy: 0.6300\n",
            "Epoch 2/5\n",
            "29/29 [==============================] - 6s 216ms/step - loss: 0.5684 - accuracy: 0.7238 - val_loss: 0.5280 - val_accuracy: 0.7100\n",
            "Epoch 3/5\n",
            "29/29 [==============================] - 2s 85ms/step - loss: 0.4376 - accuracy: 0.8441 - val_loss: 0.5682 - val_accuracy: 0.7400\n",
            "Epoch 4/5\n",
            "29/29 [==============================] - 2s 85ms/step - loss: 0.3266 - accuracy: 0.9098 - val_loss: 1.1165 - val_accuracy: 0.7400\n",
            "Epoch 5/5\n",
            "29/29 [==============================] - 2s 84ms/step - loss: 0.1370 - accuracy: 0.9666 - val_loss: 1.1286 - val_accuracy: 0.8100\n",
            "4/4 [==============================] - 1s 30ms/step - loss: 0.5280 - accuracy: 0.7100\n",
            "Score for fold 8: loss of 0.5280260443687439; accuracy of 70.99999785423279%\n"
          ]
        },
        {
          "output_type": "stream",
          "name": "stderr",
          "text": [
            "Some layers from the model checkpoint at distilbert-base-uncased were not used when initializing TFDistilBertForSequenceClassification: ['activation_13', 'vocab_projector', 'vocab_transform', 'vocab_layer_norm']\n",
            "- This IS expected if you are initializing TFDistilBertForSequenceClassification from the checkpoint of a model trained on another task or with another architecture (e.g. initializing a BertForSequenceClassification model from a BertForPreTraining model).\n",
            "- This IS NOT expected if you are initializing TFDistilBertForSequenceClassification from the checkpoint of a model that you expect to be exactly identical (initializing a BertForSequenceClassification model from a BertForSequenceClassification model).\n",
            "Some layers of TFDistilBertForSequenceClassification were not initialized from the model checkpoint at distilbert-base-uncased and are newly initialized: ['dropout_419', 'pre_classifier', 'classifier']\n",
            "You should probably TRAIN this model on a down-stream task to be able to use it for predictions and inference.\n",
            "/usr/local/lib/python3.7/dist-packages/keras/optimizer_v2/adam.py:105: UserWarning: The `lr` argument is deprecated, use `learning_rate` instead.\n",
            "  super(Adam, self).__init__(name, **kwargs)\n"
          ]
        },
        {
          "output_type": "stream",
          "name": "stdout",
          "text": [
            "------------------------------------------------------------------------\n",
            "Training for fold 9 ...\n",
            "<keras.callbacks.ModelCheckpoint object at 0x7f9b22f17c10>\n",
            "Epoch 1/5\n",
            "29/29 [==============================] - 105s 2s/step - loss: 0.8114 - accuracy: 0.5984 - val_loss: 0.6509 - val_accuracy: 0.5960\n",
            "Epoch 2/5\n",
            "29/29 [==============================] - 6s 203ms/step - loss: 0.6041 - accuracy: 0.7075 - val_loss: 0.5358 - val_accuracy: 0.7273\n",
            "Epoch 3/5\n",
            "29/29 [==============================] - 6s 200ms/step - loss: 0.4990 - accuracy: 0.7909 - val_loss: 0.5346 - val_accuracy: 0.7172\n",
            "Epoch 4/5\n",
            "29/29 [==============================] - 6s 206ms/step - loss: 0.4006 - accuracy: 0.8587 - val_loss: 0.5252 - val_accuracy: 0.7677\n",
            "Epoch 5/5\n",
            "29/29 [==============================] - 2s 82ms/step - loss: 0.2642 - accuracy: 0.9088 - val_loss: 1.1612 - val_accuracy: 0.7677\n",
            "4/4 [==============================] - 1s 28ms/step - loss: 0.5252 - accuracy: 0.7677\n",
            "Score for fold 9: loss of 0.5252198576927185; accuracy of 76.76767706871033%\n"
          ]
        },
        {
          "output_type": "stream",
          "name": "stderr",
          "text": [
            "Some layers from the model checkpoint at distilbert-base-uncased were not used when initializing TFDistilBertForSequenceClassification: ['activation_13', 'vocab_projector', 'vocab_transform', 'vocab_layer_norm']\n",
            "- This IS expected if you are initializing TFDistilBertForSequenceClassification from the checkpoint of a model trained on another task or with another architecture (e.g. initializing a BertForSequenceClassification model from a BertForPreTraining model).\n",
            "- This IS NOT expected if you are initializing TFDistilBertForSequenceClassification from the checkpoint of a model that you expect to be exactly identical (initializing a BertForSequenceClassification model from a BertForSequenceClassification model).\n",
            "Some layers of TFDistilBertForSequenceClassification were not initialized from the model checkpoint at distilbert-base-uncased and are newly initialized: ['dropout_439', 'pre_classifier', 'classifier']\n",
            "You should probably TRAIN this model on a down-stream task to be able to use it for predictions and inference.\n",
            "/usr/local/lib/python3.7/dist-packages/keras/optimizer_v2/adam.py:105: UserWarning: The `lr` argument is deprecated, use `learning_rate` instead.\n",
            "  super(Adam, self).__init__(name, **kwargs)\n"
          ]
        },
        {
          "output_type": "stream",
          "name": "stdout",
          "text": [
            "------------------------------------------------------------------------\n",
            "Training for fold 10 ...\n",
            "<keras.callbacks.ModelCheckpoint object at 0x7f9b25d168d0>\n",
            "Epoch 1/5\n",
            "29/29 [==============================] - 105s 2s/step - loss: 0.9287 - accuracy: 0.5195 - val_loss: 0.6858 - val_accuracy: 0.5657\n",
            "Epoch 2/5\n",
            "29/29 [==============================] - 6s 201ms/step - loss: 0.6593 - accuracy: 0.6296 - val_loss: 0.6304 - val_accuracy: 0.6768\n",
            "Epoch 3/5\n",
            "29/29 [==============================] - 6s 204ms/step - loss: 0.5550 - accuracy: 0.7408 - val_loss: 0.6282 - val_accuracy: 0.6263\n",
            "Epoch 4/5\n",
            "29/29 [==============================] - 2s 81ms/step - loss: 0.3586 - accuracy: 0.8476 - val_loss: 0.6728 - val_accuracy: 0.6667\n",
            "Epoch 5/5\n",
            "29/29 [==============================] - 2s 80ms/step - loss: 0.2187 - accuracy: 0.9188 - val_loss: 0.9054 - val_accuracy: 0.7071\n",
            "4/4 [==============================] - 1s 28ms/step - loss: 0.6282 - accuracy: 0.6263\n",
            "Score for fold 10: loss of 0.6282387375831604; accuracy of 62.62626051902771%\n",
            "Weighted F1 Score: 0.7388194130537974, Macro F1 Score: 0.7365686188699302\n"
          ]
        },
        {
          "output_type": "execute_result",
          "data": {
            "text/plain": [
              "<keras.engine.functional.Functional at 0x7f9b3dd4df50>"
            ]
          },
          "metadata": {},
          "execution_count": 50
        }
      ]
    },
    {
      "cell_type": "markdown",
      "metadata": {
        "id": "p3XtvoOH5T7u"
      },
      "source": [
        "#We can now train and test Model 3, where we add an BLSTM layer to the fine tuned embeddings"
      ],
      "id": "p3XtvoOH5T7u"
    },
    {
      "cell_type": "code",
      "execution_count": null,
      "metadata": {
        "id": "2828f454"
      },
      "outputs": [],
      "source": [
        "from transformers import TFDistilBertModel, DistilBertConfig, TFDistilBertForSequenceClassification\n",
        "import transformers\n",
        "\n",
        "def get_BERT_layer_bertmodel():\n",
        "    bert = 'distilbert-base-uncased'\n",
        "    #config = DistilBertConfig(max_positional_embeddings = MAX_LEN, hidden_act = 'relu', num_attention_heads = 16)\n",
        "    config = DistilBertConfig() #max_positional_embeddings = MAX_LEN, dropout=0.2, attention_dropout=0.2)\n",
        "    config.output_hidden_states = False\n",
        "    model = TFDistilBertModel.from_pretrained(bert, config = config)\n",
        "    #model.layers[0].requires_grad = False\n",
        "    return model"
      ],
      "id": "2828f454"
    },
    {
      "cell_type": "code",
      "execution_count": null,
      "metadata": {
        "id": "B3ln5tGTI1sb"
      },
      "outputs": [],
      "source": [
        "\n",
        "class GlobalAveragePooling1DMasked(GlobalAveragePooling1D):\n",
        "    def call(self, x, mask=None):\n",
        "        if mask != None:\n",
        "            return K.sum(x, axis=1) / K.sum(mask, axis=1)\n",
        "        else:\n",
        "            return super().call(x)"
      ],
      "id": "B3ln5tGTI1sb"
    },
    {
      "cell_type": "code",
      "source": [],
      "metadata": {
        "id": "jolXWnT60jGZ"
      },
      "id": "jolXWnT60jGZ",
      "execution_count": null,
      "outputs": []
    },
    {
      "cell_type": "markdown",
      "source": [
        "##Initialise the model"
      ],
      "metadata": {
        "id": "joj67Cfy0jWP"
      },
      "id": "joj67Cfy0jWP"
    },
    {
      "cell_type": "code",
      "execution_count": null,
      "metadata": {
        "colab": {
          "base_uri": "https://localhost:8080/"
        },
        "id": "c65bed09",
        "outputId": "dfbf32d2-4fc6-4130-942f-369c4e717394"
      },
      "outputs": [
        {
          "output_type": "stream",
          "name": "stderr",
          "text": [
            "WARNING:tensorflow:TPU system grpc://10.89.90.210:8470 has already been initialized. Reinitializing the TPU can cause previously created variables on TPU to be lost.\n",
            "WARNING:absl:`tf.distribute.experimental.TPUStrategy` is deprecated, please use  the non experimental symbol `tf.distribute.TPUStrategy` instead.\n",
            "Some layers from the model checkpoint at distilbert-base-uncased were not used when initializing TFDistilBertModel: ['activation_13', 'vocab_projector', 'vocab_transform', 'vocab_layer_norm']\n",
            "- This IS expected if you are initializing TFDistilBertModel from the checkpoint of a model trained on another task or with another architecture (e.g. initializing a BertForSequenceClassification model from a BertForPreTraining model).\n",
            "- This IS NOT expected if you are initializing TFDistilBertModel from the checkpoint of a model that you expect to be exactly identical (initializing a BertForSequenceClassification model from a BertForSequenceClassification model).\n",
            "All the layers of TFDistilBertModel were initialized from the model checkpoint at distilbert-base-uncased.\n",
            "If your task is similar to the task the model of the checkpoint was trained on, you can already use TFDistilBertModel for predictions without further training.\n",
            "/usr/local/lib/python3.7/dist-packages/keras/optimizer_v2/adam.py:105: UserWarning: The `lr` argument is deprecated, use `learning_rate` instead.\n",
            "  super(Adam, self).__init__(name, **kwargs)\n"
          ]
        }
      ],
      "source": [
        "# your code goes here\n",
        "import tensorflow as tf\n",
        "hdepth=16\n",
        "\n",
        "freeze_layer_count: int = 3\n",
        "\n",
        "\n",
        "def bertmodel():\n",
        "    input_ids_in = tf.keras.layers.Input(shape=(MAX_LEN,), name='input_token', dtype='int32') \n",
        "    input_masks_in = tf.keras.layers.Input(shape=(MAX_LEN,), name='masked_token', dtype='int32') \n",
        "    bert_embeddings = get_BERT_layer_bertmodel()\n",
        "    embedded_sent = bert_embeddings(input_ids_in, attention_mask=input_masks_in)[0]\n",
        "    ft = Bidirectional(LSTM(50, recurrent_dropout= 0.4,recurrent_regularizer = 'l2'))(embedded_sent)\n",
        "    label=Dense(2,activation='softmax',kernel_initializer='glorot_uniform')(ft)\n",
        "    model = Model(inputs=[input_ids_in,input_masks_in], outputs=[label],name='Model_BERT')\n",
        "    return model\n",
        "\n",
        "use_tpu = True\n",
        "if use_tpu:\n",
        "    # Create distribution strategy\n",
        "    tpu = tf.distribute.cluster_resolver.TPUClusterResolver()\n",
        "    tf.config.experimental_connect_to_cluster(tpu)\n",
        "    tf.tpu.experimental.initialize_tpu_system(tpu)\n",
        "    strategy = tf.distribute.experimental.TPUStrategy(tpu)\n",
        "\n",
        "    # Create model\n",
        "    with strategy.scope():\n",
        "        bert_model = bertmodel()\n",
        "        optimizer = tf.keras.optimizers.Adam(lr=2e-5)\n",
        "        bert_model.compile(optimizer=optimizer, loss='binary_crossentropy', metrics=['accuracy'])\n",
        "else:\n",
        "    bert_model = bertmodel()\n",
        "    optimizer = tf.keras.optimizers.Adam(lr=2e-5)\n",
        "    bert_model.compile(optimizer=optimizer, loss='binary_crossentropy', metrics=['accuracy'])\n",
        "\n",
        "\n"
      ],
      "id": "c65bed09"
    },
    {
      "cell_type": "code",
      "execution_count": null,
      "metadata": {
        "colab": {
          "base_uri": "https://localhost:8080/"
        },
        "id": "6VHLiVVIjXoJ",
        "outputId": "c3f25624-c655-4b18-d258-259a6c58d24b"
      },
      "outputs": [
        {
          "output_type": "stream",
          "name": "stdout",
          "text": [
            "Model: \"Model_BERT\"\n",
            "__________________________________________________________________________________________________\n",
            " Layer (type)                   Output Shape         Param #     Connected to                     \n",
            "==================================================================================================\n",
            " input_token (InputLayer)       [(None, 200)]        0           []                               \n",
            "                                                                                                  \n",
            " masked_token (InputLayer)      [(None, 200)]        0           []                               \n",
            "                                                                                                  \n",
            " tf_distil_bert_model (TFDistil  TFBaseModelOutput(l  66362880   ['input_token[0][0]',            \n",
            " BertModel)                     ast_hidden_state=(N               'masked_token[0][0]']           \n",
            "                                one, 200, 768),                                                   \n",
            "                                 hidden_states=None                                               \n",
            "                                , attentions=None)                                                \n",
            "                                                                                                  \n",
            " bidirectional (Bidirectional)  (None, 100)          327600      ['tf_distil_bert_model[0][0]']   \n",
            "                                                                                                  \n",
            " dense (Dense)                  (None, 2)            202         ['bidirectional[0][0]']          \n",
            "                                                                                                  \n",
            "==================================================================================================\n",
            "Total params: 66,690,682\n",
            "Trainable params: 66,690,682\n",
            "Non-trainable params: 0\n",
            "__________________________________________________________________________________________________\n"
          ]
        }
      ],
      "source": [
        "\n",
        "bert_model.summary()"
      ],
      "id": "6VHLiVVIjXoJ"
    },
    {
      "cell_type": "markdown",
      "source": [
        "##Define the training function"
      ],
      "metadata": {
        "id": "JEjxd3sl0mzD"
      },
      "id": "JEjxd3sl0mzD"
    },
    {
      "cell_type": "code",
      "execution_count": null,
      "metadata": {
        "id": "6rjQynLcuVOy"
      },
      "outputs": [],
      "source": [
        "def bertmodel_kfold(train_seq, train_mask, train_y, is_ethos = False, is_frozen_embeddings = False):\n",
        "  \n",
        "  acc_per_fold = []\n",
        "  loss_per_fold = []\n",
        "  weighted_f1_list = []\n",
        "  macro_f1_list = []\n",
        "\n",
        "  if is_frozen_embeddings == True:\n",
        "    epochs = 3\n",
        "  elif is_ethos:\n",
        "    epochs = 5\n",
        "    n_split = 5\n",
        "  else:\n",
        "    epochs = 3    \n",
        "\n",
        "  fold_no = 1\n",
        "\n",
        "  n_split = 10\n",
        "  kfold = StratifiedKFold(n_splits = n_split, shuffle = True, random_state = 42)\n",
        "\n",
        "  for train_idx, val_idx in kfold.split(np.zeros(len(train_y)),[np.argmax(i) for i in train_y]):\n",
        "    train_temp_seq = np.array([train_seq[i] for i in train_idx])\n",
        "    train_temp_mask = np.array([train_mask[i] for i in train_idx])\n",
        "    training_y = np.array([train_y[i] for i in train_idx])\n",
        "   \n",
        "    val_temp_seq = np.array([train_seq[i] for i in val_idx])\n",
        "    val_temp_mask = np.array([train_mask[i] for i in val_idx])\n",
        "    validation_y = np.array([train_y[i] for i in val_idx])\n",
        "\n",
        "\n",
        "    # Create model\n",
        "    with strategy.scope():\n",
        "        new_model = bertmodel()\n",
        "        new_model.compile(optimizer=tf.keras.optimizers.Adam(lr=2e-5), loss='binary_crossentropy', metrics=['accuracy'])\t\n",
        "        \n",
        "\n",
        "    checkpoint = tf.keras.callbacks.ModelCheckpoint('checkpoint_bertmodel_'+str(fold_no)+'.h5', monitor= 'val_loss', \n",
        "                                                 verbose = 0, save_best_only = True, mode = 'min')\t\n",
        "\n",
        "  \t\t\t\n",
        "\n",
        "    #new_model.compile(optimizer=tf.keras.optimizers.Adam(lr=2e-5), loss='categorical_crossentropy', metrics=['accuracy'])\n",
        "    print('------------------------------------------------------------------------')\n",
        "    print(f'Training for fold {fold_no} ...')\n",
        "  \n",
        "    print(checkpoint)\n",
        "\n",
        "    new_model.fit([train_temp_seq, train_temp_mask],training_y,\n",
        "                    epochs= epochs,\n",
        "                    batch_size= 32,\n",
        "                    callbacks = [checkpoint],\n",
        "                    validation_data=([val_temp_seq, val_temp_mask],validation_y),\n",
        "                    verbose=1)\n",
        "  \n",
        "\n",
        "    print(checkpoint)\n",
        "\n",
        "    new_model.load_weights('checkpoint_bertmodel_'+str(fold_no)+'.h5')\n",
        "  \n",
        "    scores = new_model.evaluate([val_temp_seq, val_temp_mask], validation_y, verbose = 1)\n",
        "    predictions = new_model.predict([val_temp_seq, val_temp_mask])\n",
        "\n",
        "    weighted_f1 = f1_score(np.argmax(validation_y, axis = 1), np.argmax(predictions, axis = 1), average = 'weighted')\n",
        "    macro_f1 = f1_score(np.argmax(validation_y, axis = 1), np.argmax(predictions, axis = 1), average = 'macro')\n",
        "    \n",
        "    weighted_f1_list.append(weighted_f1)\n",
        "    macro_f1_list.append(macro_f1)\n",
        "\n",
        "  \n",
        "    print(f'Score for fold {fold_no}: {new_model.metrics_names[0]} of {scores[0]}; {new_model.metrics_names[1]} of {scores[1]*100}%')\n",
        "    acc_per_fold.append(scores[1] * 100)\n",
        "    loss_per_fold.append(scores[0])\n",
        "    #for i in range(len(predictions)):\n",
        "    #  if np.argmax(predictions[i]) != validation_y[i]:\n",
        "    #    print('Prediction: ', predictions[i], 'Actual: ', validation_y[i])\n",
        "\n",
        "    \n",
        "    fold_no += 1\n",
        "\n",
        "  max_i = np.argmax(acc_per_fold)+1\n",
        "\n",
        "  bert_model.load_weights('checkpoint_bertmodel_'+str(max_i)+'.h5')\n",
        "\n",
        "  f1_w = sum(weighted_f1_list)/len(weighted_f1_list)\n",
        "  f1_m = sum(macro_f1_list)/len(macro_f1_list)  \n",
        "\n",
        "  print('Weighted F1 Score: {}, Macro F! Score: {}'.format(f1_w, f1_m))\n",
        "\n",
        "  print(max(f1_w, f1_m))\n",
        "\n",
        "  return bert_model\n",
        "\n",
        "\n",
        "\n",
        "  "
      ],
      "id": "6rjQynLcuVOy"
    },
    {
      "cell_type": "code",
      "execution_count": null,
      "metadata": {
        "id": "e7c4f8cb"
      },
      "outputs": [],
      "source": [
        "#bertmodel_kfold(train_seq, train_mask, train_y)"
      ],
      "id": "e7c4f8cb"
    },
    {
      "cell_type": "markdown",
      "source": [
        "##Model 3 Results on Twitter and Facebook\n"
      ],
      "metadata": {
        "id": "GlCrPhOu0seO"
      },
      "id": "GlCrPhOu0seO"
    },
    {
      "cell_type": "code",
      "execution_count": null,
      "metadata": {
        "colab": {
          "base_uri": "https://localhost:8080/",
          "height": 517
        },
        "id": "WGWEwNeAQjvE",
        "outputId": "da3ee413-57a1-4f4c-d811-d0e80f43d5c7"
      },
      "outputs": [
        {
          "output_type": "stream",
          "name": "stdout",
          "text": [
            "37/37 [==============================] - 16s 151ms/step - loss: 1.2865 - accuracy: 0.8413\n",
            "              precision    recall  f1-score   support\n",
            "\n",
            "           0       0.87      0.93      0.90       865\n",
            "           1       0.74      0.57      0.64       288\n",
            "\n",
            "    accuracy                           0.84      1153\n",
            "   macro avg       0.80      0.75      0.77      1153\n",
            "weighted avg       0.83      0.84      0.83      1153\n",
            "\n",
            "[[807  58]\n",
            " [125 163]]\n",
            "AxesSubplot(0.125,0.125;0.62x0.755)\n",
            "Precision: 0.7376, Recall: 0.566, Specificity: 0.9329\n"
          ]
        },
        {
          "output_type": "display_data",
          "data": {
            "text/plain": [
              "<Figure size 432x288 with 2 Axes>"
            ],
            "image/png": "[encoded data removed]"
          },
          "metadata": {
            "needs_background": "light"
          }
        }
      ],
      "source": [
        "bert_model.load_weights('checkpoint_bertmodel_MAX.h5')\n",
        "\n",
        "model_eval_bertbase(bert_model, [test_seq, test_mask], test_y)"
      ],
      "id": "WGWEwNeAQjvE"
    },
    {
      "cell_type": "markdown",
      "metadata": {
        "id": "oJJ96t4MRhLD"
      },
      "source": [
        "##Test Models on Ethos"
      ],
      "id": "oJJ96t4MRhLD"
    },
    {
      "cell_type": "markdown",
      "metadata": {
        "id": "gEGgmrdiEipp"
      },
      "source": [
        "##Test Model 3 on Ethos - Without training (TL1)\n",
        "\n",
        "Here you can see the results for Model 3 (TL1) as quoted in the report.\n"
      ],
      "id": "gEGgmrdiEipp"
    },
    {
      "cell_type": "code",
      "execution_count": null,
      "metadata": {
        "id": "m2ppVwXx4RDV",
        "colab": {
          "base_uri": "https://localhost:8080/",
          "height": 515
        },
        "outputId": "157d3829-55ba-4323-d0a4-c097ea56f9f3"
      },
      "outputs": [
        {
          "output_type": "stream",
          "name": "stdout",
          "text": [
            "32/32 [==============================] - 2s 35ms/step - loss: 1.5226 - accuracy: 0.6743\n",
            "              precision    recall  f1-score   support\n",
            "\n",
            "           0       0.69      0.78      0.73       565\n",
            "           1       0.65      0.53      0.59       433\n",
            "\n",
            "    accuracy                           0.67       998\n",
            "   macro avg       0.67      0.66      0.66       998\n",
            "weighted avg       0.67      0.67      0.67       998\n",
            "\n",
            "[[442 123]\n",
            " [202 231]]\n",
            "AxesSubplot(0.125,0.125;0.62x0.755)\n",
            "Precision: 0.6525, Recall: 0.5335, Specificity: 0.7823\n"
          ]
        },
        {
          "output_type": "display_data",
          "data": {
            "text/plain": [
              "<Figure size 432x288 with 2 Axes>"
            ],
            "image/png": "[encoded data removed]"
          },
          "metadata": {
            "needs_background": "light"
          }
        }
      ],
      "source": [
        "model_eval_bertbase(bert_model, [all_ids_be, all_mask_be], all_y_be)"
      ],
      "id": "m2ppVwXx4RDV"
    },
    {
      "cell_type": "markdown",
      "source": [
        "##Test Model 3 on Ethos - With training (TL2)"
      ],
      "metadata": {
        "id": "KnmUf5Lx0b-Y"
      },
      "id": "KnmUf5Lx0b-Y"
    },
    {
      "cell_type": "code",
      "source": [
        "bertmodel_kfold(all_ids_be, all_mask_be, all_y_be, is_ethos = True)"
      ],
      "metadata": {
        "id": "-HCt51FJKLTq",
        "colab": {
          "base_uri": "https://localhost:8080/"
        },
        "outputId": "983409b7-d89a-4209-b15f-7ed66eda008b"
      },
      "id": "-HCt51FJKLTq",
      "execution_count": null,
      "outputs": [
        {
          "output_type": "stream",
          "name": "stderr",
          "text": [
            "Some layers from the model checkpoint at distilbert-base-uncased were not used when initializing TFDistilBertModel: ['activation_13', 'vocab_projector', 'vocab_transform', 'vocab_layer_norm']\n",
            "- This IS expected if you are initializing TFDistilBertModel from the checkpoint of a model trained on another task or with another architecture (e.g. initializing a BertForSequenceClassification model from a BertForPreTraining model).\n",
            "- This IS NOT expected if you are initializing TFDistilBertModel from the checkpoint of a model that you expect to be exactly identical (initializing a BertForSequenceClassification model from a BertForSequenceClassification model).\n",
            "All the layers of TFDistilBertModel were initialized from the model checkpoint at distilbert-base-uncased.\n",
            "If your task is similar to the task the model of the checkpoint was trained on, you can already use TFDistilBertModel for predictions without further training.\n",
            "/usr/local/lib/python3.7/dist-packages/keras/optimizer_v2/adam.py:105: UserWarning: The `lr` argument is deprecated, use `learning_rate` instead.\n",
            "  super(Adam, self).__init__(name, **kwargs)\n"
          ]
        },
        {
          "output_type": "stream",
          "name": "stdout",
          "text": [
            "------------------------------------------------------------------------\n",
            "Training for fold 1 ...\n",
            "<keras.callbacks.ModelCheckpoint object at 0x7f9b25787310>\n",
            "Epoch 1/5\n",
            "29/29 [==============================] - 117s 2s/step - loss: 1.6305 - accuracy: 0.6526 - val_loss: 1.5664 - val_accuracy: 0.7300\n",
            "Epoch 2/5\n",
            "29/29 [==============================] - 8s 267ms/step - loss: 1.4695 - accuracy: 0.7873 - val_loss: 1.4375 - val_accuracy: 0.7400\n",
            "Epoch 3/5\n",
            "29/29 [==============================] - 8s 273ms/step - loss: 1.2675 - accuracy: 0.8953 - val_loss: 1.3898 - val_accuracy: 0.7900\n",
            "Epoch 4/5\n",
            "29/29 [==============================] - 4s 147ms/step - loss: 1.1093 - accuracy: 0.9588 - val_loss: 1.5335 - val_accuracy: 0.8000\n",
            "Epoch 5/5\n",
            "29/29 [==============================] - 4s 147ms/step - loss: 1.0394 - accuracy: 0.9722 - val_loss: 1.4452 - val_accuracy: 0.7900\n",
            "<keras.callbacks.ModelCheckpoint object at 0x7f9b25787310>\n",
            "4/4 [==============================] - 1s 36ms/step - loss: 1.3898 - accuracy: 0.7900\n",
            "Score for fold 1: loss of 1.3898403644561768; accuracy of 78.99999618530273%\n"
          ]
        },
        {
          "output_type": "stream",
          "name": "stderr",
          "text": [
            "Some layers from the model checkpoint at distilbert-base-uncased were not used when initializing TFDistilBertModel: ['activation_13', 'vocab_projector', 'vocab_transform', 'vocab_layer_norm']\n",
            "- This IS expected if you are initializing TFDistilBertModel from the checkpoint of a model trained on another task or with another architecture (e.g. initializing a BertForSequenceClassification model from a BertForPreTraining model).\n",
            "- This IS NOT expected if you are initializing TFDistilBertModel from the checkpoint of a model that you expect to be exactly identical (initializing a BertForSequenceClassification model from a BertForSequenceClassification model).\n",
            "All the layers of TFDistilBertModel were initialized from the model checkpoint at distilbert-base-uncased.\n",
            "If your task is similar to the task the model of the checkpoint was trained on, you can already use TFDistilBertModel for predictions without further training.\n",
            "/usr/local/lib/python3.7/dist-packages/keras/optimizer_v2/adam.py:105: UserWarning: The `lr` argument is deprecated, use `learning_rate` instead.\n",
            "  super(Adam, self).__init__(name, **kwargs)\n"
          ]
        },
        {
          "output_type": "stream",
          "name": "stdout",
          "text": [
            "------------------------------------------------------------------------\n",
            "Training for fold 2 ...\n",
            "<keras.callbacks.ModelCheckpoint object at 0x7f9b19eacad0>\n",
            "Epoch 1/5\n",
            "29/29 [==============================] - 118s 2s/step - loss: 1.6516 - accuracy: 0.6247 - val_loss: 1.5906 - val_accuracy: 0.7400\n",
            "Epoch 2/5\n",
            "29/29 [==============================] - 7s 261ms/step - loss: 1.4865 - accuracy: 0.7929 - val_loss: 1.4627 - val_accuracy: 0.7700\n",
            "Epoch 3/5\n",
            "29/29 [==============================] - 8s 266ms/step - loss: 1.2677 - accuracy: 0.8998 - val_loss: 1.4569 - val_accuracy: 0.8000\n",
            "Epoch 4/5\n",
            "29/29 [==============================] - 4s 144ms/step - loss: 1.0878 - accuracy: 0.9677 - val_loss: 1.4966 - val_accuracy: 0.7800\n",
            "Epoch 5/5\n",
            "29/29 [==============================] - 4s 145ms/step - loss: 1.0134 - accuracy: 0.9811 - val_loss: 1.5099 - val_accuracy: 0.7700\n",
            "<keras.callbacks.ModelCheckpoint object at 0x7f9b19eacad0>\n",
            "4/4 [==============================] - 1s 38ms/step - loss: 1.4569 - accuracy: 0.8000\n",
            "Score for fold 2: loss of 1.4569021463394165; accuracy of 79.99999523162842%\n"
          ]
        },
        {
          "output_type": "stream",
          "name": "stderr",
          "text": [
            "Some layers from the model checkpoint at distilbert-base-uncased were not used when initializing TFDistilBertModel: ['activation_13', 'vocab_projector', 'vocab_transform', 'vocab_layer_norm']\n",
            "- This IS expected if you are initializing TFDistilBertModel from the checkpoint of a model trained on another task or with another architecture (e.g. initializing a BertForSequenceClassification model from a BertForPreTraining model).\n",
            "- This IS NOT expected if you are initializing TFDistilBertModel from the checkpoint of a model that you expect to be exactly identical (initializing a BertForSequenceClassification model from a BertForSequenceClassification model).\n",
            "All the layers of TFDistilBertModel were initialized from the model checkpoint at distilbert-base-uncased.\n",
            "If your task is similar to the task the model of the checkpoint was trained on, you can already use TFDistilBertModel for predictions without further training.\n",
            "/usr/local/lib/python3.7/dist-packages/keras/optimizer_v2/adam.py:105: UserWarning: The `lr` argument is deprecated, use `learning_rate` instead.\n",
            "  super(Adam, self).__init__(name, **kwargs)\n"
          ]
        },
        {
          "output_type": "stream",
          "name": "stdout",
          "text": [
            "------------------------------------------------------------------------\n",
            "Training for fold 3 ...\n",
            "<keras.callbacks.ModelCheckpoint object at 0x7f9b18c05390>\n",
            "Epoch 1/5\n",
            "29/29 [==============================] - 119s 2s/step - loss: 1.6563 - accuracy: 0.5891 - val_loss: 1.5783 - val_accuracy: 0.6600\n",
            "Epoch 2/5\n",
            "29/29 [==============================] - 8s 265ms/step - loss: 1.5047 - accuracy: 0.7706 - val_loss: 1.4685 - val_accuracy: 0.7300\n",
            "Epoch 3/5\n",
            "29/29 [==============================] - 7s 260ms/step - loss: 1.3204 - accuracy: 0.8786 - val_loss: 1.4131 - val_accuracy: 0.8100\n",
            "Epoch 4/5\n",
            "29/29 [==============================] - 4s 145ms/step - loss: 1.1428 - accuracy: 0.9388 - val_loss: 1.4873 - val_accuracy: 0.8100\n",
            "Epoch 5/5\n",
            "29/29 [==============================] - 4s 144ms/step - loss: 1.0288 - accuracy: 0.9822 - val_loss: 1.4959 - val_accuracy: 0.8100\n",
            "<keras.callbacks.ModelCheckpoint object at 0x7f9b18c05390>\n",
            "4/4 [==============================] - 1s 36ms/step - loss: 1.4131 - accuracy: 0.8100\n",
            "Score for fold 3: loss of 1.4130589962005615; accuracy of 81.00000023841858%\n"
          ]
        },
        {
          "output_type": "stream",
          "name": "stderr",
          "text": [
            "Some layers from the model checkpoint at distilbert-base-uncased were not used when initializing TFDistilBertModel: ['activation_13', 'vocab_projector', 'vocab_transform', 'vocab_layer_norm']\n",
            "- This IS expected if you are initializing TFDistilBertModel from the checkpoint of a model trained on another task or with another architecture (e.g. initializing a BertForSequenceClassification model from a BertForPreTraining model).\n",
            "- This IS NOT expected if you are initializing TFDistilBertModel from the checkpoint of a model that you expect to be exactly identical (initializing a BertForSequenceClassification model from a BertForSequenceClassification model).\n",
            "All the layers of TFDistilBertModel were initialized from the model checkpoint at distilbert-base-uncased.\n",
            "If your task is similar to the task the model of the checkpoint was trained on, you can already use TFDistilBertModel for predictions without further training.\n",
            "/usr/local/lib/python3.7/dist-packages/keras/optimizer_v2/adam.py:105: UserWarning: The `lr` argument is deprecated, use `learning_rate` instead.\n",
            "  super(Adam, self).__init__(name, **kwargs)\n"
          ]
        },
        {
          "output_type": "stream",
          "name": "stdout",
          "text": [
            "------------------------------------------------------------------------\n",
            "Training for fold 4 ...\n",
            "<keras.callbacks.ModelCheckpoint object at 0x7f9b15cb8450>\n",
            "Epoch 1/5\n",
            "29/29 [==============================] - 117s 2s/step - loss: 1.6430 - accuracy: 0.6336 - val_loss: 1.5387 - val_accuracy: 0.8100\n",
            "Epoch 2/5\n",
            "29/29 [==============================] - 7s 262ms/step - loss: 1.4657 - accuracy: 0.7906 - val_loss: 1.3993 - val_accuracy: 0.8400\n",
            "Epoch 3/5\n",
            "29/29 [==============================] - 7s 259ms/step - loss: 1.2590 - accuracy: 0.8964 - val_loss: 1.3513 - val_accuracy: 0.8600\n",
            "Epoch 4/5\n",
            "29/29 [==============================] - 4s 144ms/step - loss: 1.0813 - accuracy: 0.9655 - val_loss: 1.4702 - val_accuracy: 0.8500\n",
            "Epoch 5/5\n",
            "29/29 [==============================] - 4s 144ms/step - loss: 0.9995 - accuracy: 0.9889 - val_loss: 1.4472 - val_accuracy: 0.8600\n",
            "<keras.callbacks.ModelCheckpoint object at 0x7f9b15cb8450>\n",
            "4/4 [==============================] - 1s 35ms/step - loss: 1.3513 - accuracy: 0.8600\n",
            "Score for fold 4: loss of 1.351259708404541; accuracy of 85.999995470047%\n"
          ]
        },
        {
          "output_type": "stream",
          "name": "stderr",
          "text": [
            "Some layers from the model checkpoint at distilbert-base-uncased were not used when initializing TFDistilBertModel: ['activation_13', 'vocab_projector', 'vocab_transform', 'vocab_layer_norm']\n",
            "- This IS expected if you are initializing TFDistilBertModel from the checkpoint of a model trained on another task or with another architecture (e.g. initializing a BertForSequenceClassification model from a BertForPreTraining model).\n",
            "- This IS NOT expected if you are initializing TFDistilBertModel from the checkpoint of a model that you expect to be exactly identical (initializing a BertForSequenceClassification model from a BertForSequenceClassification model).\n",
            "All the layers of TFDistilBertModel were initialized from the model checkpoint at distilbert-base-uncased.\n",
            "If your task is similar to the task the model of the checkpoint was trained on, you can already use TFDistilBertModel for predictions without further training.\n",
            "/usr/local/lib/python3.7/dist-packages/keras/optimizer_v2/adam.py:105: UserWarning: The `lr` argument is deprecated, use `learning_rate` instead.\n",
            "  super(Adam, self).__init__(name, **kwargs)\n"
          ]
        },
        {
          "output_type": "stream",
          "name": "stdout",
          "text": [
            "------------------------------------------------------------------------\n",
            "Training for fold 5 ...\n",
            "<keras.callbacks.ModelCheckpoint object at 0x7f9b1982ccd0>\n",
            "Epoch 1/5\n",
            "29/29 [==============================] - 120s 2s/step - loss: 1.6426 - accuracy: 0.6203 - val_loss: 1.5690 - val_accuracy: 0.7000\n",
            "Epoch 2/5\n",
            "29/29 [==============================] - 8s 265ms/step - loss: 1.4857 - accuracy: 0.7728 - val_loss: 1.4998 - val_accuracy: 0.7200\n",
            "Epoch 3/5\n",
            "29/29 [==============================] - 8s 264ms/step - loss: 1.3064 - accuracy: 0.8731 - val_loss: 1.3916 - val_accuracy: 0.8200\n",
            "Epoch 4/5\n",
            "29/29 [==============================] - 4s 145ms/step - loss: 1.1423 - accuracy: 0.9410 - val_loss: 1.4451 - val_accuracy: 0.8200\n",
            "Epoch 5/5\n",
            "29/29 [==============================] - 4s 145ms/step - loss: 1.0403 - accuracy: 0.9833 - val_loss: 1.4514 - val_accuracy: 0.8300\n",
            "<keras.callbacks.ModelCheckpoint object at 0x7f9b1982ccd0>\n",
            "4/4 [==============================] - 1s 36ms/step - loss: 1.3916 - accuracy: 0.8200\n",
            "Score for fold 5: loss of 1.3916096687316895; accuracy of 81.99999928474426%\n"
          ]
        },
        {
          "output_type": "stream",
          "name": "stderr",
          "text": [
            "Some layers from the model checkpoint at distilbert-base-uncased were not used when initializing TFDistilBertModel: ['activation_13', 'vocab_projector', 'vocab_transform', 'vocab_layer_norm']\n",
            "- This IS expected if you are initializing TFDistilBertModel from the checkpoint of a model trained on another task or with another architecture (e.g. initializing a BertForSequenceClassification model from a BertForPreTraining model).\n",
            "- This IS NOT expected if you are initializing TFDistilBertModel from the checkpoint of a model that you expect to be exactly identical (initializing a BertForSequenceClassification model from a BertForSequenceClassification model).\n",
            "All the layers of TFDistilBertModel were initialized from the model checkpoint at distilbert-base-uncased.\n",
            "If your task is similar to the task the model of the checkpoint was trained on, you can already use TFDistilBertModel for predictions without further training.\n",
            "/usr/local/lib/python3.7/dist-packages/keras/optimizer_v2/adam.py:105: UserWarning: The `lr` argument is deprecated, use `learning_rate` instead.\n",
            "  super(Adam, self).__init__(name, **kwargs)\n"
          ]
        },
        {
          "output_type": "stream",
          "name": "stdout",
          "text": [
            "------------------------------------------------------------------------\n",
            "Training for fold 6 ...\n",
            "<keras.callbacks.ModelCheckpoint object at 0x7f9b14831e90>\n",
            "Epoch 1/5\n",
            "29/29 [==============================] - 121s 2s/step - loss: 1.6370 - accuracy: 0.6392 - val_loss: 1.5711 - val_accuracy: 0.7300\n",
            "Epoch 2/5\n",
            "29/29 [==============================] - 8s 287ms/step - loss: 1.4510 - accuracy: 0.8007 - val_loss: 1.4671 - val_accuracy: 0.7400\n",
            "Epoch 3/5\n",
            "29/29 [==============================] - 8s 287ms/step - loss: 1.2525 - accuracy: 0.8964 - val_loss: 1.4256 - val_accuracy: 0.8500\n",
            "Epoch 4/5\n",
            "29/29 [==============================] - 4s 154ms/step - loss: 1.1044 - accuracy: 0.9543 - val_loss: 1.4681 - val_accuracy: 0.8100\n",
            "Epoch 5/5\n",
            "29/29 [==============================] - 4s 149ms/step - loss: 1.0021 - accuracy: 0.9922 - val_loss: 1.5065 - val_accuracy: 0.8300\n",
            "<keras.callbacks.ModelCheckpoint object at 0x7f9b14831e90>\n",
            "4/4 [==============================] - 1s 38ms/step - loss: 1.4256 - accuracy: 0.8500\n",
            "Score for fold 6: loss of 1.4255918264389038; accuracy of 84.99999642372131%\n"
          ]
        },
        {
          "output_type": "stream",
          "name": "stderr",
          "text": [
            "Some layers from the model checkpoint at distilbert-base-uncased were not used when initializing TFDistilBertModel: ['activation_13', 'vocab_projector', 'vocab_transform', 'vocab_layer_norm']\n",
            "- This IS expected if you are initializing TFDistilBertModel from the checkpoint of a model trained on another task or with another architecture (e.g. initializing a BertForSequenceClassification model from a BertForPreTraining model).\n",
            "- This IS NOT expected if you are initializing TFDistilBertModel from the checkpoint of a model that you expect to be exactly identical (initializing a BertForSequenceClassification model from a BertForSequenceClassification model).\n",
            "All the layers of TFDistilBertModel were initialized from the model checkpoint at distilbert-base-uncased.\n",
            "If your task is similar to the task the model of the checkpoint was trained on, you can already use TFDistilBertModel for predictions without further training.\n",
            "/usr/local/lib/python3.7/dist-packages/keras/optimizer_v2/adam.py:105: UserWarning: The `lr` argument is deprecated, use `learning_rate` instead.\n",
            "  super(Adam, self).__init__(name, **kwargs)\n"
          ]
        },
        {
          "output_type": "stream",
          "name": "stdout",
          "text": [
            "------------------------------------------------------------------------\n",
            "Training for fold 7 ...\n",
            "<keras.callbacks.ModelCheckpoint object at 0x7f9b19690350>\n",
            "Epoch 1/5\n",
            "29/29 [==============================] - 120s 2s/step - loss: 1.6475 - accuracy: 0.6236 - val_loss: 1.5558 - val_accuracy: 0.7100\n",
            "Epoch 2/5\n",
            "29/29 [==============================] - 10s 336ms/step - loss: 1.4701 - accuracy: 0.7784 - val_loss: 1.5392 - val_accuracy: 0.7100\n",
            "Epoch 3/5\n",
            "29/29 [==============================] - 8s 264ms/step - loss: 1.2669 - accuracy: 0.8987 - val_loss: 1.4409 - val_accuracy: 0.8100\n",
            "Epoch 4/5\n",
            "29/29 [==============================] - 4s 145ms/step - loss: 1.1189 - accuracy: 0.9510 - val_loss: 1.4542 - val_accuracy: 0.7900\n",
            "Epoch 5/5\n",
            "29/29 [==============================] - 4s 146ms/step - loss: 1.0205 - accuracy: 0.9889 - val_loss: 1.5089 - val_accuracy: 0.7600\n",
            "<keras.callbacks.ModelCheckpoint object at 0x7f9b19690350>\n",
            "4/4 [==============================] - 1s 36ms/step - loss: 1.4409 - accuracy: 0.8100\n",
            "Score for fold 7: loss of 1.4409222602844238; accuracy of 81.00000023841858%\n"
          ]
        },
        {
          "output_type": "stream",
          "name": "stderr",
          "text": [
            "Some layers from the model checkpoint at distilbert-base-uncased were not used when initializing TFDistilBertModel: ['activation_13', 'vocab_projector', 'vocab_transform', 'vocab_layer_norm']\n",
            "- This IS expected if you are initializing TFDistilBertModel from the checkpoint of a model trained on another task or with another architecture (e.g. initializing a BertForSequenceClassification model from a BertForPreTraining model).\n",
            "- This IS NOT expected if you are initializing TFDistilBertModel from the checkpoint of a model that you expect to be exactly identical (initializing a BertForSequenceClassification model from a BertForSequenceClassification model).\n",
            "All the layers of TFDistilBertModel were initialized from the model checkpoint at distilbert-base-uncased.\n",
            "If your task is similar to the task the model of the checkpoint was trained on, you can already use TFDistilBertModel for predictions without further training.\n",
            "/usr/local/lib/python3.7/dist-packages/keras/optimizer_v2/adam.py:105: UserWarning: The `lr` argument is deprecated, use `learning_rate` instead.\n",
            "  super(Adam, self).__init__(name, **kwargs)\n"
          ]
        },
        {
          "output_type": "stream",
          "name": "stdout",
          "text": [
            "------------------------------------------------------------------------\n",
            "Training for fold 8 ...\n",
            "<keras.callbacks.ModelCheckpoint object at 0x7f9b15717e10>\n",
            "Epoch 1/5\n",
            "29/29 [==============================] - 120s 2s/step - loss: 1.6745 - accuracy: 0.6013 - val_loss: 1.6241 - val_accuracy: 0.6800\n",
            "Epoch 2/5\n",
            "29/29 [==============================] - 8s 272ms/step - loss: 1.5301 - accuracy: 0.7561 - val_loss: 1.4945 - val_accuracy: 0.7700\n",
            "Epoch 3/5\n",
            "29/29 [==============================] - 8s 276ms/step - loss: 1.3353 - accuracy: 0.8586 - val_loss: 1.4051 - val_accuracy: 0.7500\n",
            "Epoch 4/5\n",
            "29/29 [==============================] - 8s 280ms/step - loss: 1.1581 - accuracy: 0.9310 - val_loss: 1.3799 - val_accuracy: 0.8200\n",
            "Epoch 5/5\n",
            "29/29 [==============================] - 4s 148ms/step - loss: 1.0200 - accuracy: 0.9866 - val_loss: 1.5865 - val_accuracy: 0.7600\n",
            "<keras.callbacks.ModelCheckpoint object at 0x7f9b15717e10>\n",
            "4/4 [==============================] - 1s 38ms/step - loss: 1.3799 - accuracy: 0.8200\n",
            "Score for fold 8: loss of 1.37991464138031; accuracy of 81.99999928474426%\n"
          ]
        },
        {
          "output_type": "stream",
          "name": "stderr",
          "text": [
            "Some layers from the model checkpoint at distilbert-base-uncased were not used when initializing TFDistilBertModel: ['activation_13', 'vocab_projector', 'vocab_transform', 'vocab_layer_norm']\n",
            "- This IS expected if you are initializing TFDistilBertModel from the checkpoint of a model trained on another task or with another architecture (e.g. initializing a BertForSequenceClassification model from a BertForPreTraining model).\n",
            "- This IS NOT expected if you are initializing TFDistilBertModel from the checkpoint of a model that you expect to be exactly identical (initializing a BertForSequenceClassification model from a BertForSequenceClassification model).\n",
            "All the layers of TFDistilBertModel were initialized from the model checkpoint at distilbert-base-uncased.\n",
            "If your task is similar to the task the model of the checkpoint was trained on, you can already use TFDistilBertModel for predictions without further training.\n",
            "/usr/local/lib/python3.7/dist-packages/keras/optimizer_v2/adam.py:105: UserWarning: The `lr` argument is deprecated, use `learning_rate` instead.\n",
            "  super(Adam, self).__init__(name, **kwargs)\n"
          ]
        },
        {
          "output_type": "stream",
          "name": "stdout",
          "text": [
            "------------------------------------------------------------------------\n",
            "Training for fold 9 ...\n",
            "<keras.callbacks.ModelCheckpoint object at 0x7f9b1576f4d0>\n",
            "Epoch 1/5\n",
            "29/29 [==============================] - 119s 2s/step - loss: 1.6463 - accuracy: 0.6485 - val_loss: 1.5788 - val_accuracy: 0.7374\n",
            "Epoch 2/5\n",
            "29/29 [==============================] - 8s 277ms/step - loss: 1.4602 - accuracy: 0.8020 - val_loss: 1.5505 - val_accuracy: 0.7172\n",
            "Epoch 3/5\n",
            "29/29 [==============================] - 8s 276ms/step - loss: 1.2756 - accuracy: 0.8854 - val_loss: 1.4324 - val_accuracy: 0.7778\n",
            "Epoch 4/5\n",
            "29/29 [==============================] - 4s 146ms/step - loss: 1.1077 - accuracy: 0.9533 - val_loss: 1.5063 - val_accuracy: 0.7980\n",
            "Epoch 5/5\n",
            "29/29 [==============================] - 4s 146ms/step - loss: 0.9984 - accuracy: 0.9933 - val_loss: 1.6183 - val_accuracy: 0.7778\n",
            "<keras.callbacks.ModelCheckpoint object at 0x7f9b1576f4d0>\n",
            "4/4 [==============================] - 1s 37ms/step - loss: 1.4324 - accuracy: 0.7778\n",
            "Score for fold 9: loss of 1.4324113130569458; accuracy of 77.77777910232544%\n"
          ]
        },
        {
          "output_type": "stream",
          "name": "stderr",
          "text": [
            "Some layers from the model checkpoint at distilbert-base-uncased were not used when initializing TFDistilBertModel: ['activation_13', 'vocab_projector', 'vocab_transform', 'vocab_layer_norm']\n",
            "- This IS expected if you are initializing TFDistilBertModel from the checkpoint of a model trained on another task or with another architecture (e.g. initializing a BertForSequenceClassification model from a BertForPreTraining model).\n",
            "- This IS NOT expected if you are initializing TFDistilBertModel from the checkpoint of a model that you expect to be exactly identical (initializing a BertForSequenceClassification model from a BertForSequenceClassification model).\n",
            "All the layers of TFDistilBertModel were initialized from the model checkpoint at distilbert-base-uncased.\n",
            "If your task is similar to the task the model of the checkpoint was trained on, you can already use TFDistilBertModel for predictions without further training.\n",
            "/usr/local/lib/python3.7/dist-packages/keras/optimizer_v2/adam.py:105: UserWarning: The `lr` argument is deprecated, use `learning_rate` instead.\n",
            "  super(Adam, self).__init__(name, **kwargs)\n"
          ]
        },
        {
          "output_type": "stream",
          "name": "stdout",
          "text": [
            "------------------------------------------------------------------------\n",
            "Training for fold 10 ...\n",
            "<keras.callbacks.ModelCheckpoint object at 0x7f9b15f9ad50>\n",
            "Epoch 1/5\n",
            "29/29 [==============================] - 118s 2s/step - loss: 1.6513 - accuracy: 0.5951 - val_loss: 1.6555 - val_accuracy: 0.5657\n",
            "Epoch 2/5\n",
            "29/29 [==============================] - 8s 274ms/step - loss: 1.4953 - accuracy: 0.7764 - val_loss: 1.5325 - val_accuracy: 0.7071\n",
            "Epoch 3/5\n",
            "29/29 [==============================] - 8s 274ms/step - loss: 1.3100 - accuracy: 0.8621 - val_loss: 1.4507 - val_accuracy: 0.7576\n",
            "Epoch 4/5\n",
            "29/29 [==============================] - 4s 147ms/step - loss: 1.1361 - accuracy: 0.9499 - val_loss: 1.4658 - val_accuracy: 0.7778\n",
            "Epoch 5/5\n",
            "29/29 [==============================] - 4s 146ms/step - loss: 1.0291 - accuracy: 0.9833 - val_loss: 1.5399 - val_accuracy: 0.7778\n",
            "<keras.callbacks.ModelCheckpoint object at 0x7f9b15f9ad50>\n",
            "4/4 [==============================] - 1s 35ms/step - loss: 1.4507 - accuracy: 0.7576\n",
            "Score for fold 10: loss of 1.4506856203079224; accuracy of 75.75757503509521%\n",
            "Weighted F1 Score: 0.8087081992241807, Macro F! Score: 0.8049106839213793\n",
            "0.8087081992241807\n"
          ]
        },
        {
          "output_type": "execute_result",
          "data": {
            "text/plain": [
              "<keras.engine.functional.Functional at 0x7f9b27849ad0>"
            ]
          },
          "metadata": {},
          "execution_count": 63
        }
      ]
    },
    {
      "cell_type": "markdown",
      "source": [
        "##You can check the macro and weighted F1 score after the 10th fold of cross validation\n",
        "\n",
        "##This run of the model ouperforms the benchmark as you can see from the scores above."
      ],
      "metadata": {
        "id": "XW9ZP1LDaL6f"
      },
      "id": "XW9ZP1LDaL6f"
    },
    {
      "cell_type": "code",
      "execution_count": null,
      "metadata": {
        "id": "-0HpNwAudeMj"
      },
      "outputs": [],
      "source": [],
      "id": "-0HpNwAudeMj"
    }
  ],
  "metadata": {
    "colab": {
      "collapsed_sections": [],
      "provenance": [],
      "machine_shape": "hm"
    },
    "gpuClass": "standard",
    "kernelspec": {
      "display_name": "Python 3",
      "language": "python",
      "name": "python3"
    },
    "language_info": {
      "codemirror_mode": {
        "name": "ipython",
        "version": 3
      },
      "file_extension": ".py",
      "mimetype": "text/x-python",
      "name": "python",
      "nbconvert_exporter": "python",
      "pygments_lexer": "ipython3",
      "version": "3.8.8"
    },
    "accelerator": "TPU",
    "widgets": {
      "application/vnd.jupyter.widget-state+json": {
        "c8c8089a80074d98a051b2363bd5f076": {
          "model_module": "@jupyter-widgets/controls",
          "model_name": "HBoxModel",
          "model_module_version": "1.5.0",
          "state": {
            "_dom_classes": [],
            "_model_module": "@jupyter-widgets/controls",
            "_model_module_version": "1.5.0",
            "_model_name": "HBoxModel",
            "_view_count": null,
            "_view_module": "@jupyter-widgets/controls",
            "_view_module_version": "1.5.0",
            "_view_name": "HBoxView",
            "box_style": "",
            "children": [
              "IPY_MODEL_0d913452c1bf4869abb898518dcaf343",
              "IPY_MODEL_177a766ad96f4257a767535075ed8684",
              "IPY_MODEL_72e20a07c1444f94b04c7ddda2ea11a0"
            ],
            "layout": "IPY_MODEL_77a3f0c293ff41fe909b221b60c5b459"
          }
        },
        "0d913452c1bf4869abb898518dcaf343": {
          "model_module": "@jupyter-widgets/controls",
          "model_name": "HTMLModel",
          "model_module_version": "1.5.0",
          "state": {
            "_dom_classes": [],
            "_model_module": "@jupyter-widgets/controls",
            "_model_module_version": "1.5.0",
            "_model_name": "HTMLModel",
            "_view_count": null,
            "_view_module": "@jupyter-widgets/controls",
            "_view_module_version": "1.5.0",
            "_view_name": "HTMLView",
            "description": "",
            "description_tooltip": null,
            "layout": "IPY_MODEL_c7b826827a12448196c6186a3716cca3",
            "placeholder": "​",
            "style": "IPY_MODEL_727b0ae132a74776b9cb6f0f94538cca",
            "value": "Downloading vocab.txt: 100%"
          }
        },
        "177a766ad96f4257a767535075ed8684": {
          "model_module": "@jupyter-widgets/controls",
          "model_name": "FloatProgressModel",
          "model_module_version": "1.5.0",
          "state": {
            "_dom_classes": [],
            "_model_module": "@jupyter-widgets/controls",
            "_model_module_version": "1.5.0",
            "_model_name": "FloatProgressModel",
            "_view_count": null,
            "_view_module": "@jupyter-widgets/controls",
            "_view_module_version": "1.5.0",
            "_view_name": "ProgressView",
            "bar_style": "success",
            "description": "",
            "description_tooltip": null,
            "layout": "IPY_MODEL_29bf0214bc5e45e6b36f38dd954318ae",
            "max": 231508,
            "min": 0,
            "orientation": "horizontal",
            "style": "IPY_MODEL_b06abea49523430d8d23b8cce7987c4e",
            "value": 231508
          }
        },
        "72e20a07c1444f94b04c7ddda2ea11a0": {
          "model_module": "@jupyter-widgets/controls",
          "model_name": "HTMLModel",
          "model_module_version": "1.5.0",
          "state": {
            "_dom_classes": [],
            "_model_module": "@jupyter-widgets/controls",
            "_model_module_version": "1.5.0",
            "_model_name": "HTMLModel",
            "_view_count": null,
            "_view_module": "@jupyter-widgets/controls",
            "_view_module_version": "1.5.0",
            "_view_name": "HTMLView",
            "description": "",
            "description_tooltip": null,
            "layout": "IPY_MODEL_ea259a254a2a49b48695d540de4b3948",
            "placeholder": "​",
            "style": "IPY_MODEL_acb10e3f076949798cb1cfff2805e961",
            "value": " 226k/226k [00:00&lt;00:00, 1.25MB/s]"
          }
        },
        "77a3f0c293ff41fe909b221b60c5b459": {
          "model_module": "@jupyter-widgets/base",
          "model_name": "LayoutModel",
          "model_module_version": "1.2.0",
          "state": {
            "_model_module": "@jupyter-widgets/base",
            "_model_module_version": "1.2.0",
            "_model_name": "LayoutModel",
            "_view_count": null,
            "_view_module": "@jupyter-widgets/base",
            "_view_module_version": "1.2.0",
            "_view_name": "LayoutView",
            "align_content": null,
            "align_items": null,
            "align_self": null,
            "border": null,
            "bottom": null,
            "display": null,
            "flex": null,
            "flex_flow": null,
            "grid_area": null,
            "grid_auto_columns": null,
            "grid_auto_flow": null,
            "grid_auto_rows": null,
            "grid_column": null,
            "grid_gap": null,
            "grid_row": null,
            "grid_template_areas": null,
            "grid_template_columns": null,
            "grid_template_rows": null,
            "height": null,
            "justify_content": null,
            "justify_items": null,
            "left": null,
            "margin": null,
            "max_height": null,
            "max_width": null,
            "min_height": null,
            "min_width": null,
            "object_fit": null,
            "object_position": null,
            "order": null,
            "overflow": null,
            "overflow_x": null,
            "overflow_y": null,
            "padding": null,
            "right": null,
            "top": null,
            "visibility": null,
            "width": null
          }
        },
        "c7b826827a12448196c6186a3716cca3": {
          "model_module": "@jupyter-widgets/base",
          "model_name": "LayoutModel",
          "model_module_version": "1.2.0",
          "state": {
            "_model_module": "@jupyter-widgets/base",
            "_model_module_version": "1.2.0",
            "_model_name": "LayoutModel",
            "_view_count": null,
            "_view_module": "@jupyter-widgets/base",
            "_view_module_version": "1.2.0",
            "_view_name": "LayoutView",
            "align_content": null,
            "align_items": null,
            "align_self": null,
            "border": null,
            "bottom": null,
            "display": null,
            "flex": null,
            "flex_flow": null,
            "grid_area": null,
            "grid_auto_columns": null,
            "grid_auto_flow": null,
            "grid_auto_rows": null,
            "grid_column": null,
            "grid_gap": null,
            "grid_row": null,
            "grid_template_areas": null,
            "grid_template_columns": null,
            "grid_template_rows": null,
            "height": null,
            "justify_content": null,
            "justify_items": null,
            "left": null,
            "margin": null,
            "max_height": null,
            "max_width": null,
            "min_height": null,
            "min_width": null,
            "object_fit": null,
            "object_position": null,
            "order": null,
            "overflow": null,
            "overflow_x": null,
            "overflow_y": null,
            "padding": null,
            "right": null,
            "top": null,
            "visibility": null,
            "width": null
          }
        },
        "727b0ae132a74776b9cb6f0f94538cca": {
          "model_module": "@jupyter-widgets/controls",
          "model_name": "DescriptionStyleModel",
          "model_module_version": "1.5.0",
          "state": {
            "_model_module": "@jupyter-widgets/controls",
            "_model_module_version": "1.5.0",
            "_model_name": "DescriptionStyleModel",
            "_view_count": null,
            "_view_module": "@jupyter-widgets/base",
            "_view_module_version": "1.2.0",
            "_view_name": "StyleView",
            "description_width": ""
          }
        },
        "29bf0214bc5e45e6b36f38dd954318ae": {
          "model_module": "@jupyter-widgets/base",
          "model_name": "LayoutModel",
          "model_module_version": "1.2.0",
          "state": {
            "_model_module": "@jupyter-widgets/base",
            "_model_module_version": "1.2.0",
            "_model_name": "LayoutModel",
            "_view_count": null,
            "_view_module": "@jupyter-widgets/base",
            "_view_module_version": "1.2.0",
            "_view_name": "LayoutView",
            "align_content": null,
            "align_items": null,
            "align_self": null,
            "border": null,
            "bottom": null,
            "display": null,
            "flex": null,
            "flex_flow": null,
            "grid_area": null,
            "grid_auto_columns": null,
            "grid_auto_flow": null,
            "grid_auto_rows": null,
            "grid_column": null,
            "grid_gap": null,
            "grid_row": null,
            "grid_template_areas": null,
            "grid_template_columns": null,
            "grid_template_rows": null,
            "height": null,
            "justify_content": null,
            "justify_items": null,
            "left": null,
            "margin": null,
            "max_height": null,
            "max_width": null,
            "min_height": null,
            "min_width": null,
            "object_fit": null,
            "object_position": null,
            "order": null,
            "overflow": null,
            "overflow_x": null,
            "overflow_y": null,
            "padding": null,
            "right": null,
            "top": null,
            "visibility": null,
            "width": null
          }
        },
        "b06abea49523430d8d23b8cce7987c4e": {
          "model_module": "@jupyter-widgets/controls",
          "model_name": "ProgressStyleModel",
          "model_module_version": "1.5.0",
          "state": {
            "_model_module": "@jupyter-widgets/controls",
            "_model_module_version": "1.5.0",
            "_model_name": "ProgressStyleModel",
            "_view_count": null,
            "_view_module": "@jupyter-widgets/base",
            "_view_module_version": "1.2.0",
            "_view_name": "StyleView",
            "bar_color": null,
            "description_width": ""
          }
        },
        "ea259a254a2a49b48695d540de4b3948": {
          "model_module": "@jupyter-widgets/base",
          "model_name": "LayoutModel",
          "model_module_version": "1.2.0",
          "state": {
            "_model_module": "@jupyter-widgets/base",
            "_model_module_version": "1.2.0",
            "_model_name": "LayoutModel",
            "_view_count": null,
            "_view_module": "@jupyter-widgets/base",
            "_view_module_version": "1.2.0",
            "_view_name": "LayoutView",
            "align_content": null,
            "align_items": null,
            "align_self": null,
            "border": null,
            "bottom": null,
            "display": null,
            "flex": null,
            "flex_flow": null,
            "grid_area": null,
            "grid_auto_columns": null,
            "grid_auto_flow": null,
            "grid_auto_rows": null,
            "grid_column": null,
            "grid_gap": null,
            "grid_row": null,
            "grid_template_areas": null,
            "grid_template_columns": null,
            "grid_template_rows": null,
            "height": null,
            "justify_content": null,
            "justify_items": null,
            "left": null,
            "margin": null,
            "max_height": null,
            "max_width": null,
            "min_height": null,
            "min_width": null,
            "object_fit": null,
            "object_position": null,
            "order": null,
            "overflow": null,
            "overflow_x": null,
            "overflow_y": null,
            "padding": null,
            "right": null,
            "top": null,
            "visibility": null,
            "width": null
          }
        },
        "acb10e3f076949798cb1cfff2805e961": {
          "model_module": "@jupyter-widgets/controls",
          "model_name": "DescriptionStyleModel",
          "model_module_version": "1.5.0",
          "state": {
            "_model_module": "@jupyter-widgets/controls",
            "_model_module_version": "1.5.0",
            "_model_name": "DescriptionStyleModel",
            "_view_count": null,
            "_view_module": "@jupyter-widgets/base",
            "_view_module_version": "1.2.0",
            "_view_name": "StyleView",
            "description_width": ""
          }
        },
        "e079f09b56f340babd6f65a1a888b07d": {
          "model_module": "@jupyter-widgets/controls",
          "model_name": "HBoxModel",
          "model_module_version": "1.5.0",
          "state": {
            "_dom_classes": [],
            "_model_module": "@jupyter-widgets/controls",
            "_model_module_version": "1.5.0",
            "_model_name": "HBoxModel",
            "_view_count": null,
            "_view_module": "@jupyter-widgets/controls",
            "_view_module_version": "1.5.0",
            "_view_name": "HBoxView",
            "box_style": "",
            "children": [
              "IPY_MODEL_b7620f4f800a4b598da3741597074b32",
              "IPY_MODEL_0774d80799e2443a88ea8eb613f86a17",
              "IPY_MODEL_781c9ff930aa4e75b5dcf7e312a14689"
            ],
            "layout": "IPY_MODEL_2208504ec8864c6bb3e4528e6adaea69"
          }
        },
        "b7620f4f800a4b598da3741597074b32": {
          "model_module": "@jupyter-widgets/controls",
          "model_name": "HTMLModel",
          "model_module_version": "1.5.0",
          "state": {
            "_dom_classes": [],
            "_model_module": "@jupyter-widgets/controls",
            "_model_module_version": "1.5.0",
            "_model_name": "HTMLModel",
            "_view_count": null,
            "_view_module": "@jupyter-widgets/controls",
            "_view_module_version": "1.5.0",
            "_view_name": "HTMLView",
            "description": "",
            "description_tooltip": null,
            "layout": "IPY_MODEL_1b6a0484437a43be8c4a3352c1e3c4cb",
            "placeholder": "​",
            "style": "IPY_MODEL_30d1a1200bd54edfa676b0b0a1acb618",
            "value": "Downloading tokenizer_config.json: 100%"
          }
        },
        "0774d80799e2443a88ea8eb613f86a17": {
          "model_module": "@jupyter-widgets/controls",
          "model_name": "FloatProgressModel",
          "model_module_version": "1.5.0",
          "state": {
            "_dom_classes": [],
            "_model_module": "@jupyter-widgets/controls",
            "_model_module_version": "1.5.0",
            "_model_name": "FloatProgressModel",
            "_view_count": null,
            "_view_module": "@jupyter-widgets/controls",
            "_view_module_version": "1.5.0",
            "_view_name": "ProgressView",
            "bar_style": "success",
            "description": "",
            "description_tooltip": null,
            "layout": "IPY_MODEL_2dc3614c33d7441396d8463935ba9304",
            "max": 28,
            "min": 0,
            "orientation": "horizontal",
            "style": "IPY_MODEL_8e9b9b2a749640cfb55d90b1cd6852a7",
            "value": 28
          }
        },
        "781c9ff930aa4e75b5dcf7e312a14689": {
          "model_module": "@jupyter-widgets/controls",
          "model_name": "HTMLModel",
          "model_module_version": "1.5.0",
          "state": {
            "_dom_classes": [],
            "_model_module": "@jupyter-widgets/controls",
            "_model_module_version": "1.5.0",
            "_model_name": "HTMLModel",
            "_view_count": null,
            "_view_module": "@jupyter-widgets/controls",
            "_view_module_version": "1.5.0",
            "_view_name": "HTMLView",
            "description": "",
            "description_tooltip": null,
            "layout": "IPY_MODEL_b44e04b8ba014904a34fe55b83a2c3e1",
            "placeholder": "​",
            "style": "IPY_MODEL_5d1dd223728e4191b9c6dc4c2dbca869",
            "value": " 28.0/28.0 [00:00&lt;00:00, 999B/s]"
          }
        },
        "2208504ec8864c6bb3e4528e6adaea69": {
          "model_module": "@jupyter-widgets/base",
          "model_name": "LayoutModel",
          "model_module_version": "1.2.0",
          "state": {
            "_model_module": "@jupyter-widgets/base",
            "_model_module_version": "1.2.0",
            "_model_name": "LayoutModel",
            "_view_count": null,
            "_view_module": "@jupyter-widgets/base",
            "_view_module_version": "1.2.0",
            "_view_name": "LayoutView",
            "align_content": null,
            "align_items": null,
            "align_self": null,
            "border": null,
            "bottom": null,
            "display": null,
            "flex": null,
            "flex_flow": null,
            "grid_area": null,
            "grid_auto_columns": null,
            "grid_auto_flow": null,
            "grid_auto_rows": null,
            "grid_column": null,
            "grid_gap": null,
            "grid_row": null,
            "grid_template_areas": null,
            "grid_template_columns": null,
            "grid_template_rows": null,
            "height": null,
            "justify_content": null,
            "justify_items": null,
            "left": null,
            "margin": null,
            "max_height": null,
            "max_width": null,
            "min_height": null,
            "min_width": null,
            "object_fit": null,
            "object_position": null,
            "order": null,
            "overflow": null,
            "overflow_x": null,
            "overflow_y": null,
            "padding": null,
            "right": null,
            "top": null,
            "visibility": null,
            "width": null
          }
        },
        "1b6a0484437a43be8c4a3352c1e3c4cb": {
          "model_module": "@jupyter-widgets/base",
          "model_name": "LayoutModel",
          "model_module_version": "1.2.0",
          "state": {
            "_model_module": "@jupyter-widgets/base",
            "_model_module_version": "1.2.0",
            "_model_name": "LayoutModel",
            "_view_count": null,
            "_view_module": "@jupyter-widgets/base",
            "_view_module_version": "1.2.0",
            "_view_name": "LayoutView",
            "align_content": null,
            "align_items": null,
            "align_self": null,
            "border": null,
            "bottom": null,
            "display": null,
            "flex": null,
            "flex_flow": null,
            "grid_area": null,
            "grid_auto_columns": null,
            "grid_auto_flow": null,
            "grid_auto_rows": null,
            "grid_column": null,
            "grid_gap": null,
            "grid_row": null,
            "grid_template_areas": null,
            "grid_template_columns": null,
            "grid_template_rows": null,
            "height": null,
            "justify_content": null,
            "justify_items": null,
            "left": null,
            "margin": null,
            "max_height": null,
            "max_width": null,
            "min_height": null,
            "min_width": null,
            "object_fit": null,
            "object_position": null,
            "order": null,
            "overflow": null,
            "overflow_x": null,
            "overflow_y": null,
            "padding": null,
            "right": null,
            "top": null,
            "visibility": null,
            "width": null
          }
        },
        "30d1a1200bd54edfa676b0b0a1acb618": {
          "model_module": "@jupyter-widgets/controls",
          "model_name": "DescriptionStyleModel",
          "model_module_version": "1.5.0",
          "state": {
            "_model_module": "@jupyter-widgets/controls",
            "_model_module_version": "1.5.0",
            "_model_name": "DescriptionStyleModel",
            "_view_count": null,
            "_view_module": "@jupyter-widgets/base",
            "_view_module_version": "1.2.0",
            "_view_name": "StyleView",
            "description_width": ""
          }
        },
        "2dc3614c33d7441396d8463935ba9304": {
          "model_module": "@jupyter-widgets/base",
          "model_name": "LayoutModel",
          "model_module_version": "1.2.0",
          "state": {
            "_model_module": "@jupyter-widgets/base",
            "_model_module_version": "1.2.0",
            "_model_name": "LayoutModel",
            "_view_count": null,
            "_view_module": "@jupyter-widgets/base",
            "_view_module_version": "1.2.0",
            "_view_name": "LayoutView",
            "align_content": null,
            "align_items": null,
            "align_self": null,
            "border": null,
            "bottom": null,
            "display": null,
            "flex": null,
            "flex_flow": null,
            "grid_area": null,
            "grid_auto_columns": null,
            "grid_auto_flow": null,
            "grid_auto_rows": null,
            "grid_column": null,
            "grid_gap": null,
            "grid_row": null,
            "grid_template_areas": null,
            "grid_template_columns": null,
            "grid_template_rows": null,
            "height": null,
            "justify_content": null,
            "justify_items": null,
            "left": null,
            "margin": null,
            "max_height": null,
            "max_width": null,
            "min_height": null,
            "min_width": null,
            "object_fit": null,
            "object_position": null,
            "order": null,
            "overflow": null,
            "overflow_x": null,
            "overflow_y": null,
            "padding": null,
            "right": null,
            "top": null,
            "visibility": null,
            "width": null
          }
        },
        "8e9b9b2a749640cfb55d90b1cd6852a7": {
          "model_module": "@jupyter-widgets/controls",
          "model_name": "ProgressStyleModel",
          "model_module_version": "1.5.0",
          "state": {
            "_model_module": "@jupyter-widgets/controls",
            "_model_module_version": "1.5.0",
            "_model_name": "ProgressStyleModel",
            "_view_count": null,
            "_view_module": "@jupyter-widgets/base",
            "_view_module_version": "1.2.0",
            "_view_name": "StyleView",
            "bar_color": null,
            "description_width": ""
          }
        },
        "b44e04b8ba014904a34fe55b83a2c3e1": {
          "model_module": "@jupyter-widgets/base",
          "model_name": "LayoutModel",
          "model_module_version": "1.2.0",
          "state": {
            "_model_module": "@jupyter-widgets/base",
            "_model_module_version": "1.2.0",
            "_model_name": "LayoutModel",
            "_view_count": null,
            "_view_module": "@jupyter-widgets/base",
            "_view_module_version": "1.2.0",
            "_view_name": "LayoutView",
            "align_content": null,
            "align_items": null,
            "align_self": null,
            "border": null,
            "bottom": null,
            "display": null,
            "flex": null,
            "flex_flow": null,
            "grid_area": null,
            "grid_auto_columns": null,
            "grid_auto_flow": null,
            "grid_auto_rows": null,
            "grid_column": null,
            "grid_gap": null,
            "grid_row": null,
            "grid_template_areas": null,
            "grid_template_columns": null,
            "grid_template_rows": null,
            "height": null,
            "justify_content": null,
            "justify_items": null,
            "left": null,
            "margin": null,
            "max_height": null,
            "max_width": null,
            "min_height": null,
            "min_width": null,
            "object_fit": null,
            "object_position": null,
            "order": null,
            "overflow": null,
            "overflow_x": null,
            "overflow_y": null,
            "padding": null,
            "right": null,
            "top": null,
            "visibility": null,
            "width": null
          }
        },
        "5d1dd223728e4191b9c6dc4c2dbca869": {
          "model_module": "@jupyter-widgets/controls",
          "model_name": "DescriptionStyleModel",
          "model_module_version": "1.5.0",
          "state": {
            "_model_module": "@jupyter-widgets/controls",
            "_model_module_version": "1.5.0",
            "_model_name": "DescriptionStyleModel",
            "_view_count": null,
            "_view_module": "@jupyter-widgets/base",
            "_view_module_version": "1.2.0",
            "_view_name": "StyleView",
            "description_width": ""
          }
        },
        "830b107b26d94845b8fc0b69f6c4b3f6": {
          "model_module": "@jupyter-widgets/controls",
          "model_name": "HBoxModel",
          "model_module_version": "1.5.0",
          "state": {
            "_dom_classes": [],
            "_model_module": "@jupyter-widgets/controls",
            "_model_module_version": "1.5.0",
            "_model_name": "HBoxModel",
            "_view_count": null,
            "_view_module": "@jupyter-widgets/controls",
            "_view_module_version": "1.5.0",
            "_view_name": "HBoxView",
            "box_style": "",
            "children": [
              "IPY_MODEL_5afca69bbf2e44299734316658ebc10c",
              "IPY_MODEL_e3eec0606c58455aa146c403d9dd9753",
              "IPY_MODEL_a6c447e3efe2447b9dca6bd548217f22"
            ],
            "layout": "IPY_MODEL_9fee3ef8e5c040c4a7e4ca5a32bc0934"
          }
        },
        "5afca69bbf2e44299734316658ebc10c": {
          "model_module": "@jupyter-widgets/controls",
          "model_name": "HTMLModel",
          "model_module_version": "1.5.0",
          "state": {
            "_dom_classes": [],
            "_model_module": "@jupyter-widgets/controls",
            "_model_module_version": "1.5.0",
            "_model_name": "HTMLModel",
            "_view_count": null,
            "_view_module": "@jupyter-widgets/controls",
            "_view_module_version": "1.5.0",
            "_view_name": "HTMLView",
            "description": "",
            "description_tooltip": null,
            "layout": "IPY_MODEL_2592bef588ca442a90eceb15f66595b2",
            "placeholder": "​",
            "style": "IPY_MODEL_a19ab415678c4c64929b9e7e20803985",
            "value": "Downloading config.json: 100%"
          }
        },
        "e3eec0606c58455aa146c403d9dd9753": {
          "model_module": "@jupyter-widgets/controls",
          "model_name": "FloatProgressModel",
          "model_module_version": "1.5.0",
          "state": {
            "_dom_classes": [],
            "_model_module": "@jupyter-widgets/controls",
            "_model_module_version": "1.5.0",
            "_model_name": "FloatProgressModel",
            "_view_count": null,
            "_view_module": "@jupyter-widgets/controls",
            "_view_module_version": "1.5.0",
            "_view_name": "ProgressView",
            "bar_style": "success",
            "description": "",
            "description_tooltip": null,
            "layout": "IPY_MODEL_89d3d77a3d5645d892dc5fef6e7cf871",
            "max": 570,
            "min": 0,
            "orientation": "horizontal",
            "style": "IPY_MODEL_60036d273e634804931db0e410adfa68",
            "value": 570
          }
        },
        "a6c447e3efe2447b9dca6bd548217f22": {
          "model_module": "@jupyter-widgets/controls",
          "model_name": "HTMLModel",
          "model_module_version": "1.5.0",
          "state": {
            "_dom_classes": [],
            "_model_module": "@jupyter-widgets/controls",
            "_model_module_version": "1.5.0",
            "_model_name": "HTMLModel",
            "_view_count": null,
            "_view_module": "@jupyter-widgets/controls",
            "_view_module_version": "1.5.0",
            "_view_name": "HTMLView",
            "description": "",
            "description_tooltip": null,
            "layout": "IPY_MODEL_9bb0e81ee3464d238be90aefe7b913ff",
            "placeholder": "​",
            "style": "IPY_MODEL_2801c4c624dd49e5838beb0248e2b307",
            "value": " 570/570 [00:00&lt;00:00, 19.8kB/s]"
          }
        },
        "9fee3ef8e5c040c4a7e4ca5a32bc0934": {
          "model_module": "@jupyter-widgets/base",
          "model_name": "LayoutModel",
          "model_module_version": "1.2.0",
          "state": {
            "_model_module": "@jupyter-widgets/base",
            "_model_module_version": "1.2.0",
            "_model_name": "LayoutModel",
            "_view_count": null,
            "_view_module": "@jupyter-widgets/base",
            "_view_module_version": "1.2.0",
            "_view_name": "LayoutView",
            "align_content": null,
            "align_items": null,
            "align_self": null,
            "border": null,
            "bottom": null,
            "display": null,
            "flex": null,
            "flex_flow": null,
            "grid_area": null,
            "grid_auto_columns": null,
            "grid_auto_flow": null,
            "grid_auto_rows": null,
            "grid_column": null,
            "grid_gap": null,
            "grid_row": null,
            "grid_template_areas": null,
            "grid_template_columns": null,
            "grid_template_rows": null,
            "height": null,
            "justify_content": null,
            "justify_items": null,
            "left": null,
            "margin": null,
            "max_height": null,
            "max_width": null,
            "min_height": null,
            "min_width": null,
            "object_fit": null,
            "object_position": null,
            "order": null,
            "overflow": null,
            "overflow_x": null,
            "overflow_y": null,
            "padding": null,
            "right": null,
            "top": null,
            "visibility": null,
            "width": null
          }
        },
        "2592bef588ca442a90eceb15f66595b2": {
          "model_module": "@jupyter-widgets/base",
          "model_name": "LayoutModel",
          "model_module_version": "1.2.0",
          "state": {
            "_model_module": "@jupyter-widgets/base",
            "_model_module_version": "1.2.0",
            "_model_name": "LayoutModel",
            "_view_count": null,
            "_view_module": "@jupyter-widgets/base",
            "_view_module_version": "1.2.0",
            "_view_name": "LayoutView",
            "align_content": null,
            "align_items": null,
            "align_self": null,
            "border": null,
            "bottom": null,
            "display": null,
            "flex": null,
            "flex_flow": null,
            "grid_area": null,
            "grid_auto_columns": null,
            "grid_auto_flow": null,
            "grid_auto_rows": null,
            "grid_column": null,
            "grid_gap": null,
            "grid_row": null,
            "grid_template_areas": null,
            "grid_template_columns": null,
            "grid_template_rows": null,
            "height": null,
            "justify_content": null,
            "justify_items": null,
            "left": null,
            "margin": null,
            "max_height": null,
            "max_width": null,
            "min_height": null,
            "min_width": null,
            "object_fit": null,
            "object_position": null,
            "order": null,
            "overflow": null,
            "overflow_x": null,
            "overflow_y": null,
            "padding": null,
            "right": null,
            "top": null,
            "visibility": null,
            "width": null
          }
        },
        "a19ab415678c4c64929b9e7e20803985": {
          "model_module": "@jupyter-widgets/controls",
          "model_name": "DescriptionStyleModel",
          "model_module_version": "1.5.0",
          "state": {
            "_model_module": "@jupyter-widgets/controls",
            "_model_module_version": "1.5.0",
            "_model_name": "DescriptionStyleModel",
            "_view_count": null,
            "_view_module": "@jupyter-widgets/base",
            "_view_module_version": "1.2.0",
            "_view_name": "StyleView",
            "description_width": ""
          }
        },
        "89d3d77a3d5645d892dc5fef6e7cf871": {
          "model_module": "@jupyter-widgets/base",
          "model_name": "LayoutModel",
          "model_module_version": "1.2.0",
          "state": {
            "_model_module": "@jupyter-widgets/base",
            "_model_module_version": "1.2.0",
            "_model_name": "LayoutModel",
            "_view_count": null,
            "_view_module": "@jupyter-widgets/base",
            "_view_module_version": "1.2.0",
            "_view_name": "LayoutView",
            "align_content": null,
            "align_items": null,
            "align_self": null,
            "border": null,
            "bottom": null,
            "display": null,
            "flex": null,
            "flex_flow": null,
            "grid_area": null,
            "grid_auto_columns": null,
            "grid_auto_flow": null,
            "grid_auto_rows": null,
            "grid_column": null,
            "grid_gap": null,
            "grid_row": null,
            "grid_template_areas": null,
            "grid_template_columns": null,
            "grid_template_rows": null,
            "height": null,
            "justify_content": null,
            "justify_items": null,
            "left": null,
            "margin": null,
            "max_height": null,
            "max_width": null,
            "min_height": null,
            "min_width": null,
            "object_fit": null,
            "object_position": null,
            "order": null,
            "overflow": null,
            "overflow_x": null,
            "overflow_y": null,
            "padding": null,
            "right": null,
            "top": null,
            "visibility": null,
            "width": null
          }
        },
        "60036d273e634804931db0e410adfa68": {
          "model_module": "@jupyter-widgets/controls",
          "model_name": "ProgressStyleModel",
          "model_module_version": "1.5.0",
          "state": {
            "_model_module": "@jupyter-widgets/controls",
            "_model_module_version": "1.5.0",
            "_model_name": "ProgressStyleModel",
            "_view_count": null,
            "_view_module": "@jupyter-widgets/base",
            "_view_module_version": "1.2.0",
            "_view_name": "StyleView",
            "bar_color": null,
            "description_width": ""
          }
        },
        "9bb0e81ee3464d238be90aefe7b913ff": {
          "model_module": "@jupyter-widgets/base",
          "model_name": "LayoutModel",
          "model_module_version": "1.2.0",
          "state": {
            "_model_module": "@jupyter-widgets/base",
            "_model_module_version": "1.2.0",
            "_model_name": "LayoutModel",
            "_view_count": null,
            "_view_module": "@jupyter-widgets/base",
            "_view_module_version": "1.2.0",
            "_view_name": "LayoutView",
            "align_content": null,
            "align_items": null,
            "align_self": null,
            "border": null,
            "bottom": null,
            "display": null,
            "flex": null,
            "flex_flow": null,
            "grid_area": null,
            "grid_auto_columns": null,
            "grid_auto_flow": null,
            "grid_auto_rows": null,
            "grid_column": null,
            "grid_gap": null,
            "grid_row": null,
            "grid_template_areas": null,
            "grid_template_columns": null,
            "grid_template_rows": null,
            "height": null,
            "justify_content": null,
            "justify_items": null,
            "left": null,
            "margin": null,
            "max_height": null,
            "max_width": null,
            "min_height": null,
            "min_width": null,
            "object_fit": null,
            "object_position": null,
            "order": null,
            "overflow": null,
            "overflow_x": null,
            "overflow_y": null,
            "padding": null,
            "right": null,
            "top": null,
            "visibility": null,
            "width": null
          }
        },
        "2801c4c624dd49e5838beb0248e2b307": {
          "model_module": "@jupyter-widgets/controls",
          "model_name": "DescriptionStyleModel",
          "model_module_version": "1.5.0",
          "state": {
            "_model_module": "@jupyter-widgets/controls",
            "_model_module_version": "1.5.0",
            "_model_name": "DescriptionStyleModel",
            "_view_count": null,
            "_view_module": "@jupyter-widgets/base",
            "_view_module_version": "1.2.0",
            "_view_name": "StyleView",
            "description_width": ""
          }
        },
        "a65ed6a12d3a4b31955ac019af042c7f": {
          "model_module": "@jupyter-widgets/controls",
          "model_name": "HBoxModel",
          "model_module_version": "1.5.0",
          "state": {
            "_dom_classes": [],
            "_model_module": "@jupyter-widgets/controls",
            "_model_module_version": "1.5.0",
            "_model_name": "HBoxModel",
            "_view_count": null,
            "_view_module": "@jupyter-widgets/controls",
            "_view_module_version": "1.5.0",
            "_view_name": "HBoxView",
            "box_style": "",
            "children": [
              "IPY_MODEL_4add94c7daf44e39b78f101dc18113e5",
              "IPY_MODEL_8dd70dfe4bfb471bb9a04468830bfa52",
              "IPY_MODEL_4e9efac164a34ec489cbcb3ab567406b"
            ],
            "layout": "IPY_MODEL_075dd5bf29df42ff9b8206d8e1917f98"
          }
        },
        "4add94c7daf44e39b78f101dc18113e5": {
          "model_module": "@jupyter-widgets/controls",
          "model_name": "HTMLModel",
          "model_module_version": "1.5.0",
          "state": {
            "_dom_classes": [],
            "_model_module": "@jupyter-widgets/controls",
            "_model_module_version": "1.5.0",
            "_model_name": "HTMLModel",
            "_view_count": null,
            "_view_module": "@jupyter-widgets/controls",
            "_view_module_version": "1.5.0",
            "_view_name": "HTMLView",
            "description": "",
            "description_tooltip": null,
            "layout": "IPY_MODEL_6c8c924b20f2422dbf0816f27dc2571c",
            "placeholder": "​",
            "style": "IPY_MODEL_4b63f1deff074c2ca5adec4073bce675",
            "value": "Downloading builder script: "
          }
        },
        "8dd70dfe4bfb471bb9a04468830bfa52": {
          "model_module": "@jupyter-widgets/controls",
          "model_name": "FloatProgressModel",
          "model_module_version": "1.5.0",
          "state": {
            "_dom_classes": [],
            "_model_module": "@jupyter-widgets/controls",
            "_model_module_version": "1.5.0",
            "_model_name": "FloatProgressModel",
            "_view_count": null,
            "_view_module": "@jupyter-widgets/controls",
            "_view_module_version": "1.5.0",
            "_view_name": "ProgressView",
            "bar_style": "success",
            "description": "",
            "description_tooltip": null,
            "layout": "IPY_MODEL_47f67e6220034c30b1878a388380518c",
            "max": 1853,
            "min": 0,
            "orientation": "horizontal",
            "style": "IPY_MODEL_76a564ffa3af48ad94b421fc3422f356",
            "value": 1853
          }
        },
        "4e9efac164a34ec489cbcb3ab567406b": {
          "model_module": "@jupyter-widgets/controls",
          "model_name": "HTMLModel",
          "model_module_version": "1.5.0",
          "state": {
            "_dom_classes": [],
            "_model_module": "@jupyter-widgets/controls",
            "_model_module_version": "1.5.0",
            "_model_name": "HTMLModel",
            "_view_count": null,
            "_view_module": "@jupyter-widgets/controls",
            "_view_module_version": "1.5.0",
            "_view_name": "HTMLView",
            "description": "",
            "description_tooltip": null,
            "layout": "IPY_MODEL_dd9098b1af0948b4a53495a9546bc2eb",
            "placeholder": "​",
            "style": "IPY_MODEL_5c219aa045fc44768feef5b11521478b",
            "value": " 5.94k/? [00:00&lt;00:00, 205kB/s]"
          }
        },
        "075dd5bf29df42ff9b8206d8e1917f98": {
          "model_module": "@jupyter-widgets/base",
          "model_name": "LayoutModel",
          "model_module_version": "1.2.0",
          "state": {
            "_model_module": "@jupyter-widgets/base",
            "_model_module_version": "1.2.0",
            "_model_name": "LayoutModel",
            "_view_count": null,
            "_view_module": "@jupyter-widgets/base",
            "_view_module_version": "1.2.0",
            "_view_name": "LayoutView",
            "align_content": null,
            "align_items": null,
            "align_self": null,
            "border": null,
            "bottom": null,
            "display": null,
            "flex": null,
            "flex_flow": null,
            "grid_area": null,
            "grid_auto_columns": null,
            "grid_auto_flow": null,
            "grid_auto_rows": null,
            "grid_column": null,
            "grid_gap": null,
            "grid_row": null,
            "grid_template_areas": null,
            "grid_template_columns": null,
            "grid_template_rows": null,
            "height": null,
            "justify_content": null,
            "justify_items": null,
            "left": null,
            "margin": null,
            "max_height": null,
            "max_width": null,
            "min_height": null,
            "min_width": null,
            "object_fit": null,
            "object_position": null,
            "order": null,
            "overflow": null,
            "overflow_x": null,
            "overflow_y": null,
            "padding": null,
            "right": null,
            "top": null,
            "visibility": null,
            "width": null
          }
        },
        "6c8c924b20f2422dbf0816f27dc2571c": {
          "model_module": "@jupyter-widgets/base",
          "model_name": "LayoutModel",
          "model_module_version": "1.2.0",
          "state": {
            "_model_module": "@jupyter-widgets/base",
            "_model_module_version": "1.2.0",
            "_model_name": "LayoutModel",
            "_view_count": null,
            "_view_module": "@jupyter-widgets/base",
            "_view_module_version": "1.2.0",
            "_view_name": "LayoutView",
            "align_content": null,
            "align_items": null,
            "align_self": null,
            "border": null,
            "bottom": null,
            "display": null,
            "flex": null,
            "flex_flow": null,
            "grid_area": null,
            "grid_auto_columns": null,
            "grid_auto_flow": null,
            "grid_auto_rows": null,
            "grid_column": null,
            "grid_gap": null,
            "grid_row": null,
            "grid_template_areas": null,
            "grid_template_columns": null,
            "grid_template_rows": null,
            "height": null,
            "justify_content": null,
            "justify_items": null,
            "left": null,
            "margin": null,
            "max_height": null,
            "max_width": null,
            "min_height": null,
            "min_width": null,
            "object_fit": null,
            "object_position": null,
            "order": null,
            "overflow": null,
            "overflow_x": null,
            "overflow_y": null,
            "padding": null,
            "right": null,
            "top": null,
            "visibility": null,
            "width": null
          }
        },
        "4b63f1deff074c2ca5adec4073bce675": {
          "model_module": "@jupyter-widgets/controls",
          "model_name": "DescriptionStyleModel",
          "model_module_version": "1.5.0",
          "state": {
            "_model_module": "@jupyter-widgets/controls",
            "_model_module_version": "1.5.0",
            "_model_name": "DescriptionStyleModel",
            "_view_count": null,
            "_view_module": "@jupyter-widgets/base",
            "_view_module_version": "1.2.0",
            "_view_name": "StyleView",
            "description_width": ""
          }
        },
        "47f67e6220034c30b1878a388380518c": {
          "model_module": "@jupyter-widgets/base",
          "model_name": "LayoutModel",
          "model_module_version": "1.2.0",
          "state": {
            "_model_module": "@jupyter-widgets/base",
            "_model_module_version": "1.2.0",
            "_model_name": "LayoutModel",
            "_view_count": null,
            "_view_module": "@jupyter-widgets/base",
            "_view_module_version": "1.2.0",
            "_view_name": "LayoutView",
            "align_content": null,
            "align_items": null,
            "align_self": null,
            "border": null,
            "bottom": null,
            "display": null,
            "flex": null,
            "flex_flow": null,
            "grid_area": null,
            "grid_auto_columns": null,
            "grid_auto_flow": null,
            "grid_auto_rows": null,
            "grid_column": null,
            "grid_gap": null,
            "grid_row": null,
            "grid_template_areas": null,
            "grid_template_columns": null,
            "grid_template_rows": null,
            "height": null,
            "justify_content": null,
            "justify_items": null,
            "left": null,
            "margin": null,
            "max_height": null,
            "max_width": null,
            "min_height": null,
            "min_width": null,
            "object_fit": null,
            "object_position": null,
            "order": null,
            "overflow": null,
            "overflow_x": null,
            "overflow_y": null,
            "padding": null,
            "right": null,
            "top": null,
            "visibility": null,
            "width": null
          }
        },
        "76a564ffa3af48ad94b421fc3422f356": {
          "model_module": "@jupyter-widgets/controls",
          "model_name": "ProgressStyleModel",
          "model_module_version": "1.5.0",
          "state": {
            "_model_module": "@jupyter-widgets/controls",
            "_model_module_version": "1.5.0",
            "_model_name": "ProgressStyleModel",
            "_view_count": null,
            "_view_module": "@jupyter-widgets/base",
            "_view_module_version": "1.2.0",
            "_view_name": "StyleView",
            "bar_color": null,
            "description_width": ""
          }
        },
        "dd9098b1af0948b4a53495a9546bc2eb": {
          "model_module": "@jupyter-widgets/base",
          "model_name": "LayoutModel",
          "model_module_version": "1.2.0",
          "state": {
            "_model_module": "@jupyter-widgets/base",
            "_model_module_version": "1.2.0",
            "_model_name": "LayoutModel",
            "_view_count": null,
            "_view_module": "@jupyter-widgets/base",
            "_view_module_version": "1.2.0",
            "_view_name": "LayoutView",
            "align_content": null,
            "align_items": null,
            "align_self": null,
            "border": null,
            "bottom": null,
            "display": null,
            "flex": null,
            "flex_flow": null,
            "grid_area": null,
            "grid_auto_columns": null,
            "grid_auto_flow": null,
            "grid_auto_rows": null,
            "grid_column": null,
            "grid_gap": null,
            "grid_row": null,
            "grid_template_areas": null,
            "grid_template_columns": null,
            "grid_template_rows": null,
            "height": null,
            "justify_content": null,
            "justify_items": null,
            "left": null,
            "margin": null,
            "max_height": null,
            "max_width": null,
            "min_height": null,
            "min_width": null,
            "object_fit": null,
            "object_position": null,
            "order": null,
            "overflow": null,
            "overflow_x": null,
            "overflow_y": null,
            "padding": null,
            "right": null,
            "top": null,
            "visibility": null,
            "width": null
          }
        },
        "5c219aa045fc44768feef5b11521478b": {
          "model_module": "@jupyter-widgets/controls",
          "model_name": "DescriptionStyleModel",
          "model_module_version": "1.5.0",
          "state": {
            "_model_module": "@jupyter-widgets/controls",
            "_model_module_version": "1.5.0",
            "_model_name": "DescriptionStyleModel",
            "_view_count": null,
            "_view_module": "@jupyter-widgets/base",
            "_view_module_version": "1.2.0",
            "_view_name": "StyleView",
            "description_width": ""
          }
        },
        "43ec75f068494dbda03358ee27fe52b4": {
          "model_module": "@jupyter-widgets/controls",
          "model_name": "HBoxModel",
          "model_module_version": "1.5.0",
          "state": {
            "_dom_classes": [],
            "_model_module": "@jupyter-widgets/controls",
            "_model_module_version": "1.5.0",
            "_model_name": "HBoxModel",
            "_view_count": null,
            "_view_module": "@jupyter-widgets/controls",
            "_view_module_version": "1.5.0",
            "_view_name": "HBoxView",
            "box_style": "",
            "children": [
              "IPY_MODEL_f4fdca158752431fa70a38e11f329c22",
              "IPY_MODEL_263293e2686146c5944e8238d83465f4",
              "IPY_MODEL_6f8004d0b8734913b0b4628ff08754aa"
            ],
            "layout": "IPY_MODEL_7ead6909b5834183ae0e3fd2f385cad2"
          }
        },
        "f4fdca158752431fa70a38e11f329c22": {
          "model_module": "@jupyter-widgets/controls",
          "model_name": "HTMLModel",
          "model_module_version": "1.5.0",
          "state": {
            "_dom_classes": [],
            "_model_module": "@jupyter-widgets/controls",
            "_model_module_version": "1.5.0",
            "_model_name": "HTMLModel",
            "_view_count": null,
            "_view_module": "@jupyter-widgets/controls",
            "_view_module_version": "1.5.0",
            "_view_name": "HTMLView",
            "description": "",
            "description_tooltip": null,
            "layout": "IPY_MODEL_1a3e2a49ea334546a6b6b3c9733d93ab",
            "placeholder": "​",
            "style": "IPY_MODEL_4f58083886df47199092b9123df81d2b",
            "value": "Downloading metadata: "
          }
        },
        "263293e2686146c5944e8238d83465f4": {
          "model_module": "@jupyter-widgets/controls",
          "model_name": "FloatProgressModel",
          "model_module_version": "1.5.0",
          "state": {
            "_dom_classes": [],
            "_model_module": "@jupyter-widgets/controls",
            "_model_module_version": "1.5.0",
            "_model_name": "FloatProgressModel",
            "_view_count": null,
            "_view_module": "@jupyter-widgets/controls",
            "_view_module_version": "1.5.0",
            "_view_name": "ProgressView",
            "bar_style": "success",
            "description": "",
            "description_tooltip": null,
            "layout": "IPY_MODEL_d0932bb2c7a347dc823cf67d523cb32b",
            "max": 940,
            "min": 0,
            "orientation": "horizontal",
            "style": "IPY_MODEL_253621d7d28d4db9b0e0bc531c1d3767",
            "value": 940
          }
        },
        "6f8004d0b8734913b0b4628ff08754aa": {
          "model_module": "@jupyter-widgets/controls",
          "model_name": "HTMLModel",
          "model_module_version": "1.5.0",
          "state": {
            "_dom_classes": [],
            "_model_module": "@jupyter-widgets/controls",
            "_model_module_version": "1.5.0",
            "_model_name": "HTMLModel",
            "_view_count": null,
            "_view_module": "@jupyter-widgets/controls",
            "_view_module_version": "1.5.0",
            "_view_name": "HTMLView",
            "description": "",
            "description_tooltip": null,
            "layout": "IPY_MODEL_65f9f929a9da4e52aabf8b84ef18e83c",
            "placeholder": "​",
            "style": "IPY_MODEL_85f73acaf7424c5da762d50835cb4be8",
            "value": " 3.52k/? [00:00&lt;00:00, 130kB/s]"
          }
        },
        "7ead6909b5834183ae0e3fd2f385cad2": {
          "model_module": "@jupyter-widgets/base",
          "model_name": "LayoutModel",
          "model_module_version": "1.2.0",
          "state": {
            "_model_module": "@jupyter-widgets/base",
            "_model_module_version": "1.2.0",
            "_model_name": "LayoutModel",
            "_view_count": null,
            "_view_module": "@jupyter-widgets/base",
            "_view_module_version": "1.2.0",
            "_view_name": "LayoutView",
            "align_content": null,
            "align_items": null,
            "align_self": null,
            "border": null,
            "bottom": null,
            "display": null,
            "flex": null,
            "flex_flow": null,
            "grid_area": null,
            "grid_auto_columns": null,
            "grid_auto_flow": null,
            "grid_auto_rows": null,
            "grid_column": null,
            "grid_gap": null,
            "grid_row": null,
            "grid_template_areas": null,
            "grid_template_columns": null,
            "grid_template_rows": null,
            "height": null,
            "justify_content": null,
            "justify_items": null,
            "left": null,
            "margin": null,
            "max_height": null,
            "max_width": null,
            "min_height": null,
            "min_width": null,
            "object_fit": null,
            "object_position": null,
            "order": null,
            "overflow": null,
            "overflow_x": null,
            "overflow_y": null,
            "padding": null,
            "right": null,
            "top": null,
            "visibility": null,
            "width": null
          }
        },
        "1a3e2a49ea334546a6b6b3c9733d93ab": {
          "model_module": "@jupyter-widgets/base",
          "model_name": "LayoutModel",
          "model_module_version": "1.2.0",
          "state": {
            "_model_module": "@jupyter-widgets/base",
            "_model_module_version": "1.2.0",
            "_model_name": "LayoutModel",
            "_view_count": null,
            "_view_module": "@jupyter-widgets/base",
            "_view_module_version": "1.2.0",
            "_view_name": "LayoutView",
            "align_content": null,
            "align_items": null,
            "align_self": null,
            "border": null,
            "bottom": null,
            "display": null,
            "flex": null,
            "flex_flow": null,
            "grid_area": null,
            "grid_auto_columns": null,
            "grid_auto_flow": null,
            "grid_auto_rows": null,
            "grid_column": null,
            "grid_gap": null,
            "grid_row": null,
            "grid_template_areas": null,
            "grid_template_columns": null,
            "grid_template_rows": null,
            "height": null,
            "justify_content": null,
            "justify_items": null,
            "left": null,
            "margin": null,
            "max_height": null,
            "max_width": null,
            "min_height": null,
            "min_width": null,
            "object_fit": null,
            "object_position": null,
            "order": null,
            "overflow": null,
            "overflow_x": null,
            "overflow_y": null,
            "padding": null,
            "right": null,
            "top": null,
            "visibility": null,
            "width": null
          }
        },
        "4f58083886df47199092b9123df81d2b": {
          "model_module": "@jupyter-widgets/controls",
          "model_name": "DescriptionStyleModel",
          "model_module_version": "1.5.0",
          "state": {
            "_model_module": "@jupyter-widgets/controls",
            "_model_module_version": "1.5.0",
            "_model_name": "DescriptionStyleModel",
            "_view_count": null,
            "_view_module": "@jupyter-widgets/base",
            "_view_module_version": "1.2.0",
            "_view_name": "StyleView",
            "description_width": ""
          }
        },
        "d0932bb2c7a347dc823cf67d523cb32b": {
          "model_module": "@jupyter-widgets/base",
          "model_name": "LayoutModel",
          "model_module_version": "1.2.0",
          "state": {
            "_model_module": "@jupyter-widgets/base",
            "_model_module_version": "1.2.0",
            "_model_name": "LayoutModel",
            "_view_count": null,
            "_view_module": "@jupyter-widgets/base",
            "_view_module_version": "1.2.0",
            "_view_name": "LayoutView",
            "align_content": null,
            "align_items": null,
            "align_self": null,
            "border": null,
            "bottom": null,
            "display": null,
            "flex": null,
            "flex_flow": null,
            "grid_area": null,
            "grid_auto_columns": null,
            "grid_auto_flow": null,
            "grid_auto_rows": null,
            "grid_column": null,
            "grid_gap": null,
            "grid_row": null,
            "grid_template_areas": null,
            "grid_template_columns": null,
            "grid_template_rows": null,
            "height": null,
            "justify_content": null,
            "justify_items": null,
            "left": null,
            "margin": null,
            "max_height": null,
            "max_width": null,
            "min_height": null,
            "min_width": null,
            "object_fit": null,
            "object_position": null,
            "order": null,
            "overflow": null,
            "overflow_x": null,
            "overflow_y": null,
            "padding": null,
            "right": null,
            "top": null,
            "visibility": null,
            "width": null
          }
        },
        "253621d7d28d4db9b0e0bc531c1d3767": {
          "model_module": "@jupyter-widgets/controls",
          "model_name": "ProgressStyleModel",
          "model_module_version": "1.5.0",
          "state": {
            "_model_module": "@jupyter-widgets/controls",
            "_model_module_version": "1.5.0",
            "_model_name": "ProgressStyleModel",
            "_view_count": null,
            "_view_module": "@jupyter-widgets/base",
            "_view_module_version": "1.2.0",
            "_view_name": "StyleView",
            "bar_color": null,
            "description_width": ""
          }
        },
        "65f9f929a9da4e52aabf8b84ef18e83c": {
          "model_module": "@jupyter-widgets/base",
          "model_name": "LayoutModel",
          "model_module_version": "1.2.0",
          "state": {
            "_model_module": "@jupyter-widgets/base",
            "_model_module_version": "1.2.0",
            "_model_name": "LayoutModel",
            "_view_count": null,
            "_view_module": "@jupyter-widgets/base",
            "_view_module_version": "1.2.0",
            "_view_name": "LayoutView",
            "align_content": null,
            "align_items": null,
            "align_self": null,
            "border": null,
            "bottom": null,
            "display": null,
            "flex": null,
            "flex_flow": null,
            "grid_area": null,
            "grid_auto_columns": null,
            "grid_auto_flow": null,
            "grid_auto_rows": null,
            "grid_column": null,
            "grid_gap": null,
            "grid_row": null,
            "grid_template_areas": null,
            "grid_template_columns": null,
            "grid_template_rows": null,
            "height": null,
            "justify_content": null,
            "justify_items": null,
            "left": null,
            "margin": null,
            "max_height": null,
            "max_width": null,
            "min_height": null,
            "min_width": null,
            "object_fit": null,
            "object_position": null,
            "order": null,
            "overflow": null,
            "overflow_x": null,
            "overflow_y": null,
            "padding": null,
            "right": null,
            "top": null,
            "visibility": null,
            "width": null
          }
        },
        "85f73acaf7424c5da762d50835cb4be8": {
          "model_module": "@jupyter-widgets/controls",
          "model_name": "DescriptionStyleModel",
          "model_module_version": "1.5.0",
          "state": {
            "_model_module": "@jupyter-widgets/controls",
            "_model_module_version": "1.5.0",
            "_model_name": "DescriptionStyleModel",
            "_view_count": null,
            "_view_module": "@jupyter-widgets/base",
            "_view_module_version": "1.2.0",
            "_view_name": "StyleView",
            "description_width": ""
          }
        },
        "990b90ee8e684c8f8ce80d2ef65581e2": {
          "model_module": "@jupyter-widgets/controls",
          "model_name": "HBoxModel",
          "model_module_version": "1.5.0",
          "state": {
            "_dom_classes": [],
            "_model_module": "@jupyter-widgets/controls",
            "_model_module_version": "1.5.0",
            "_model_name": "HBoxModel",
            "_view_count": null,
            "_view_module": "@jupyter-widgets/controls",
            "_view_module_version": "1.5.0",
            "_view_name": "HBoxView",
            "box_style": "",
            "children": [
              "IPY_MODEL_ff31339f822146f3b839aefca447ae1e",
              "IPY_MODEL_20723f57ec4f4c21bb37b2e762ba438e",
              "IPY_MODEL_c7038ad59dd448099de70915979c76a5"
            ],
            "layout": "IPY_MODEL_15adda9b1f464c488af089063d7b9b97"
          }
        },
        "ff31339f822146f3b839aefca447ae1e": {
          "model_module": "@jupyter-widgets/controls",
          "model_name": "HTMLModel",
          "model_module_version": "1.5.0",
          "state": {
            "_dom_classes": [],
            "_model_module": "@jupyter-widgets/controls",
            "_model_module_version": "1.5.0",
            "_model_name": "HTMLModel",
            "_view_count": null,
            "_view_module": "@jupyter-widgets/controls",
            "_view_module_version": "1.5.0",
            "_view_name": "HTMLView",
            "description": "",
            "description_tooltip": null,
            "layout": "IPY_MODEL_6465b79d9c8a433584d3bf5cd9c1ebd9",
            "placeholder": "​",
            "style": "IPY_MODEL_40ab5e8908ab4b9fbabed314db67dd4c",
            "value": "Downloading data files: 100%"
          }
        },
        "20723f57ec4f4c21bb37b2e762ba438e": {
          "model_module": "@jupyter-widgets/controls",
          "model_name": "FloatProgressModel",
          "model_module_version": "1.5.0",
          "state": {
            "_dom_classes": [],
            "_model_module": "@jupyter-widgets/controls",
            "_model_module_version": "1.5.0",
            "_model_name": "FloatProgressModel",
            "_view_count": null,
            "_view_module": "@jupyter-widgets/controls",
            "_view_module_version": "1.5.0",
            "_view_name": "ProgressView",
            "bar_style": "success",
            "description": "",
            "description_tooltip": null,
            "layout": "IPY_MODEL_284326f0d9854c6b9f95d71209a7225c",
            "max": 1,
            "min": 0,
            "orientation": "horizontal",
            "style": "IPY_MODEL_e36c4297dbdc476b9b9d21e0212ff12d",
            "value": 1
          }
        },
        "c7038ad59dd448099de70915979c76a5": {
          "model_module": "@jupyter-widgets/controls",
          "model_name": "HTMLModel",
          "model_module_version": "1.5.0",
          "state": {
            "_dom_classes": [],
            "_model_module": "@jupyter-widgets/controls",
            "_model_module_version": "1.5.0",
            "_model_name": "HTMLModel",
            "_view_count": null,
            "_view_module": "@jupyter-widgets/controls",
            "_view_module_version": "1.5.0",
            "_view_name": "HTMLView",
            "description": "",
            "description_tooltip": null,
            "layout": "IPY_MODEL_7299e3db8f494e2eb72420ff90f40e5a",
            "placeholder": "​",
            "style": "IPY_MODEL_4aa784aca1124bcd9d610575fce4a736",
            "value": " 1/1 [00:00&lt;00:00,  2.83it/s]"
          }
        },
        "15adda9b1f464c488af089063d7b9b97": {
          "model_module": "@jupyter-widgets/base",
          "model_name": "LayoutModel",
          "model_module_version": "1.2.0",
          "state": {
            "_model_module": "@jupyter-widgets/base",
            "_model_module_version": "1.2.0",
            "_model_name": "LayoutModel",
            "_view_count": null,
            "_view_module": "@jupyter-widgets/base",
            "_view_module_version": "1.2.0",
            "_view_name": "LayoutView",
            "align_content": null,
            "align_items": null,
            "align_self": null,
            "border": null,
            "bottom": null,
            "display": null,
            "flex": null,
            "flex_flow": null,
            "grid_area": null,
            "grid_auto_columns": null,
            "grid_auto_flow": null,
            "grid_auto_rows": null,
            "grid_column": null,
            "grid_gap": null,
            "grid_row": null,
            "grid_template_areas": null,
            "grid_template_columns": null,
            "grid_template_rows": null,
            "height": null,
            "justify_content": null,
            "justify_items": null,
            "left": null,
            "margin": null,
            "max_height": null,
            "max_width": null,
            "min_height": null,
            "min_width": null,
            "object_fit": null,
            "object_position": null,
            "order": null,
            "overflow": null,
            "overflow_x": null,
            "overflow_y": null,
            "padding": null,
            "right": null,
            "top": null,
            "visibility": null,
            "width": null
          }
        },
        "6465b79d9c8a433584d3bf5cd9c1ebd9": {
          "model_module": "@jupyter-widgets/base",
          "model_name": "LayoutModel",
          "model_module_version": "1.2.0",
          "state": {
            "_model_module": "@jupyter-widgets/base",
            "_model_module_version": "1.2.0",
            "_model_name": "LayoutModel",
            "_view_count": null,
            "_view_module": "@jupyter-widgets/base",
            "_view_module_version": "1.2.0",
            "_view_name": "LayoutView",
            "align_content": null,
            "align_items": null,
            "align_self": null,
            "border": null,
            "bottom": null,
            "display": null,
            "flex": null,
            "flex_flow": null,
            "grid_area": null,
            "grid_auto_columns": null,
            "grid_auto_flow": null,
            "grid_auto_rows": null,
            "grid_column": null,
            "grid_gap": null,
            "grid_row": null,
            "grid_template_areas": null,
            "grid_template_columns": null,
            "grid_template_rows": null,
            "height": null,
            "justify_content": null,
            "justify_items": null,
            "left": null,
            "margin": null,
            "max_height": null,
            "max_width": null,
            "min_height": null,
            "min_width": null,
            "object_fit": null,
            "object_position": null,
            "order": null,
            "overflow": null,
            "overflow_x": null,
            "overflow_y": null,
            "padding": null,
            "right": null,
            "top": null,
            "visibility": null,
            "width": null
          }
        },
        "40ab5e8908ab4b9fbabed314db67dd4c": {
          "model_module": "@jupyter-widgets/controls",
          "model_name": "DescriptionStyleModel",
          "model_module_version": "1.5.0",
          "state": {
            "_model_module": "@jupyter-widgets/controls",
            "_model_module_version": "1.5.0",
            "_model_name": "DescriptionStyleModel",
            "_view_count": null,
            "_view_module": "@jupyter-widgets/base",
            "_view_module_version": "1.2.0",
            "_view_name": "StyleView",
            "description_width": ""
          }
        },
        "284326f0d9854c6b9f95d71209a7225c": {
          "model_module": "@jupyter-widgets/base",
          "model_name": "LayoutModel",
          "model_module_version": "1.2.0",
          "state": {
            "_model_module": "@jupyter-widgets/base",
            "_model_module_version": "1.2.0",
            "_model_name": "LayoutModel",
            "_view_count": null,
            "_view_module": "@jupyter-widgets/base",
            "_view_module_version": "1.2.0",
            "_view_name": "LayoutView",
            "align_content": null,
            "align_items": null,
            "align_self": null,
            "border": null,
            "bottom": null,
            "display": null,
            "flex": null,
            "flex_flow": null,
            "grid_area": null,
            "grid_auto_columns": null,
            "grid_auto_flow": null,
            "grid_auto_rows": null,
            "grid_column": null,
            "grid_gap": null,
            "grid_row": null,
            "grid_template_areas": null,
            "grid_template_columns": null,
            "grid_template_rows": null,
            "height": null,
            "justify_content": null,
            "justify_items": null,
            "left": null,
            "margin": null,
            "max_height": null,
            "max_width": null,
            "min_height": null,
            "min_width": null,
            "object_fit": null,
            "object_position": null,
            "order": null,
            "overflow": null,
            "overflow_x": null,
            "overflow_y": null,
            "padding": null,
            "right": null,
            "top": null,
            "visibility": null,
            "width": null
          }
        },
        "e36c4297dbdc476b9b9d21e0212ff12d": {
          "model_module": "@jupyter-widgets/controls",
          "model_name": "ProgressStyleModel",
          "model_module_version": "1.5.0",
          "state": {
            "_model_module": "@jupyter-widgets/controls",
            "_model_module_version": "1.5.0",
            "_model_name": "ProgressStyleModel",
            "_view_count": null,
            "_view_module": "@jupyter-widgets/base",
            "_view_module_version": "1.2.0",
            "_view_name": "StyleView",
            "bar_color": null,
            "description_width": ""
          }
        },
        "7299e3db8f494e2eb72420ff90f40e5a": {
          "model_module": "@jupyter-widgets/base",
          "model_name": "LayoutModel",
          "model_module_version": "1.2.0",
          "state": {
            "_model_module": "@jupyter-widgets/base",
            "_model_module_version": "1.2.0",
            "_model_name": "LayoutModel",
            "_view_count": null,
            "_view_module": "@jupyter-widgets/base",
            "_view_module_version": "1.2.0",
            "_view_name": "LayoutView",
            "align_content": null,
            "align_items": null,
            "align_self": null,
            "border": null,
            "bottom": null,
            "display": null,
            "flex": null,
            "flex_flow": null,
            "grid_area": null,
            "grid_auto_columns": null,
            "grid_auto_flow": null,
            "grid_auto_rows": null,
            "grid_column": null,
            "grid_gap": null,
            "grid_row": null,
            "grid_template_areas": null,
            "grid_template_columns": null,
            "grid_template_rows": null,
            "height": null,
            "justify_content": null,
            "justify_items": null,
            "left": null,
            "margin": null,
            "max_height": null,
            "max_width": null,
            "min_height": null,
            "min_width": null,
            "object_fit": null,
            "object_position": null,
            "order": null,
            "overflow": null,
            "overflow_x": null,
            "overflow_y": null,
            "padding": null,
            "right": null,
            "top": null,
            "visibility": null,
            "width": null
          }
        },
        "4aa784aca1124bcd9d610575fce4a736": {
          "model_module": "@jupyter-widgets/controls",
          "model_name": "DescriptionStyleModel",
          "model_module_version": "1.5.0",
          "state": {
            "_model_module": "@jupyter-widgets/controls",
            "_model_module_version": "1.5.0",
            "_model_name": "DescriptionStyleModel",
            "_view_count": null,
            "_view_module": "@jupyter-widgets/base",
            "_view_module_version": "1.2.0",
            "_view_name": "StyleView",
            "description_width": ""
          }
        },
        "f4f134399c6b47e8a254b8cb25a73e03": {
          "model_module": "@jupyter-widgets/controls",
          "model_name": "HBoxModel",
          "model_module_version": "1.5.0",
          "state": {
            "_dom_classes": [],
            "_model_module": "@jupyter-widgets/controls",
            "_model_module_version": "1.5.0",
            "_model_name": "HBoxModel",
            "_view_count": null,
            "_view_module": "@jupyter-widgets/controls",
            "_view_module_version": "1.5.0",
            "_view_name": "HBoxView",
            "box_style": "",
            "children": [
              "IPY_MODEL_5360c3163796446b83624da0951a8ac0",
              "IPY_MODEL_01db3600614544cfacae68209fadf14c",
              "IPY_MODEL_31d932b332c54f70bb117ec257638aed"
            ],
            "layout": "IPY_MODEL_b076a5b2c1ef4024af4b2a869c2ec5af"
          }
        },
        "5360c3163796446b83624da0951a8ac0": {
          "model_module": "@jupyter-widgets/controls",
          "model_name": "HTMLModel",
          "model_module_version": "1.5.0",
          "state": {
            "_dom_classes": [],
            "_model_module": "@jupyter-widgets/controls",
            "_model_module_version": "1.5.0",
            "_model_name": "HTMLModel",
            "_view_count": null,
            "_view_module": "@jupyter-widgets/controls",
            "_view_module_version": "1.5.0",
            "_view_name": "HTMLView",
            "description": "",
            "description_tooltip": null,
            "layout": "IPY_MODEL_159acee5803844b6a9acd8ddd207720a",
            "placeholder": "​",
            "style": "IPY_MODEL_cefcef1a516b4910bc2e80cdeab3bbbe",
            "value": "Downloading data: "
          }
        },
        "01db3600614544cfacae68209fadf14c": {
          "model_module": "@jupyter-widgets/controls",
          "model_name": "FloatProgressModel",
          "model_module_version": "1.5.0",
          "state": {
            "_dom_classes": [],
            "_model_module": "@jupyter-widgets/controls",
            "_model_module_version": "1.5.0",
            "_model_name": "FloatProgressModel",
            "_view_count": null,
            "_view_module": "@jupyter-widgets/controls",
            "_view_module_version": "1.5.0",
            "_view_name": "ProgressView",
            "bar_style": "success",
            "description": "",
            "description_tooltip": null,
            "layout": "IPY_MODEL_609a24d286f0404c9d774156a7afc3b0",
            "max": 50277,
            "min": 0,
            "orientation": "horizontal",
            "style": "IPY_MODEL_75afbe777d244773b9eed9fe64ff8631",
            "value": 50277
          }
        },
        "31d932b332c54f70bb117ec257638aed": {
          "model_module": "@jupyter-widgets/controls",
          "model_name": "HTMLModel",
          "model_module_version": "1.5.0",
          "state": {
            "_dom_classes": [],
            "_model_module": "@jupyter-widgets/controls",
            "_model_module_version": "1.5.0",
            "_model_name": "HTMLModel",
            "_view_count": null,
            "_view_module": "@jupyter-widgets/controls",
            "_view_module_version": "1.5.0",
            "_view_name": "HTMLView",
            "description": "",
            "description_tooltip": null,
            "layout": "IPY_MODEL_b9accdfb003d4dbd98f25c8e368ec0fe",
            "placeholder": "​",
            "style": "IPY_MODEL_a4ccd0c6acc6477c9eef8d381b0d162a",
            "value": " 124k/? [00:00&lt;00:00, 3.54MB/s]"
          }
        },
        "b076a5b2c1ef4024af4b2a869c2ec5af": {
          "model_module": "@jupyter-widgets/base",
          "model_name": "LayoutModel",
          "model_module_version": "1.2.0",
          "state": {
            "_model_module": "@jupyter-widgets/base",
            "_model_module_version": "1.2.0",
            "_model_name": "LayoutModel",
            "_view_count": null,
            "_view_module": "@jupyter-widgets/base",
            "_view_module_version": "1.2.0",
            "_view_name": "LayoutView",
            "align_content": null,
            "align_items": null,
            "align_self": null,
            "border": null,
            "bottom": null,
            "display": null,
            "flex": null,
            "flex_flow": null,
            "grid_area": null,
            "grid_auto_columns": null,
            "grid_auto_flow": null,
            "grid_auto_rows": null,
            "grid_column": null,
            "grid_gap": null,
            "grid_row": null,
            "grid_template_areas": null,
            "grid_template_columns": null,
            "grid_template_rows": null,
            "height": null,
            "justify_content": null,
            "justify_items": null,
            "left": null,
            "margin": null,
            "max_height": null,
            "max_width": null,
            "min_height": null,
            "min_width": null,
            "object_fit": null,
            "object_position": null,
            "order": null,
            "overflow": null,
            "overflow_x": null,
            "overflow_y": null,
            "padding": null,
            "right": null,
            "top": null,
            "visibility": null,
            "width": null
          }
        },
        "159acee5803844b6a9acd8ddd207720a": {
          "model_module": "@jupyter-widgets/base",
          "model_name": "LayoutModel",
          "model_module_version": "1.2.0",
          "state": {
            "_model_module": "@jupyter-widgets/base",
            "_model_module_version": "1.2.0",
            "_model_name": "LayoutModel",
            "_view_count": null,
            "_view_module": "@jupyter-widgets/base",
            "_view_module_version": "1.2.0",
            "_view_name": "LayoutView",
            "align_content": null,
            "align_items": null,
            "align_self": null,
            "border": null,
            "bottom": null,
            "display": null,
            "flex": null,
            "flex_flow": null,
            "grid_area": null,
            "grid_auto_columns": null,
            "grid_auto_flow": null,
            "grid_auto_rows": null,
            "grid_column": null,
            "grid_gap": null,
            "grid_row": null,
            "grid_template_areas": null,
            "grid_template_columns": null,
            "grid_template_rows": null,
            "height": null,
            "justify_content": null,
            "justify_items": null,
            "left": null,
            "margin": null,
            "max_height": null,
            "max_width": null,
            "min_height": null,
            "min_width": null,
            "object_fit": null,
            "object_position": null,
            "order": null,
            "overflow": null,
            "overflow_x": null,
            "overflow_y": null,
            "padding": null,
            "right": null,
            "top": null,
            "visibility": null,
            "width": null
          }
        },
        "cefcef1a516b4910bc2e80cdeab3bbbe": {
          "model_module": "@jupyter-widgets/controls",
          "model_name": "DescriptionStyleModel",
          "model_module_version": "1.5.0",
          "state": {
            "_model_module": "@jupyter-widgets/controls",
            "_model_module_version": "1.5.0",
            "_model_name": "DescriptionStyleModel",
            "_view_count": null,
            "_view_module": "@jupyter-widgets/base",
            "_view_module_version": "1.2.0",
            "_view_name": "StyleView",
            "description_width": ""
          }
        },
        "609a24d286f0404c9d774156a7afc3b0": {
          "model_module": "@jupyter-widgets/base",
          "model_name": "LayoutModel",
          "model_module_version": "1.2.0",
          "state": {
            "_model_module": "@jupyter-widgets/base",
            "_model_module_version": "1.2.0",
            "_model_name": "LayoutModel",
            "_view_count": null,
            "_view_module": "@jupyter-widgets/base",
            "_view_module_version": "1.2.0",
            "_view_name": "LayoutView",
            "align_content": null,
            "align_items": null,
            "align_self": null,
            "border": null,
            "bottom": null,
            "display": null,
            "flex": null,
            "flex_flow": null,
            "grid_area": null,
            "grid_auto_columns": null,
            "grid_auto_flow": null,
            "grid_auto_rows": null,
            "grid_column": null,
            "grid_gap": null,
            "grid_row": null,
            "grid_template_areas": null,
            "grid_template_columns": null,
            "grid_template_rows": null,
            "height": null,
            "justify_content": null,
            "justify_items": null,
            "left": null,
            "margin": null,
            "max_height": null,
            "max_width": null,
            "min_height": null,
            "min_width": null,
            "object_fit": null,
            "object_position": null,
            "order": null,
            "overflow": null,
            "overflow_x": null,
            "overflow_y": null,
            "padding": null,
            "right": null,
            "top": null,
            "visibility": null,
            "width": null
          }
        },
        "75afbe777d244773b9eed9fe64ff8631": {
          "model_module": "@jupyter-widgets/controls",
          "model_name": "ProgressStyleModel",
          "model_module_version": "1.5.0",
          "state": {
            "_model_module": "@jupyter-widgets/controls",
            "_model_module_version": "1.5.0",
            "_model_name": "ProgressStyleModel",
            "_view_count": null,
            "_view_module": "@jupyter-widgets/base",
            "_view_module_version": "1.2.0",
            "_view_name": "StyleView",
            "bar_color": null,
            "description_width": ""
          }
        },
        "b9accdfb003d4dbd98f25c8e368ec0fe": {
          "model_module": "@jupyter-widgets/base",
          "model_name": "LayoutModel",
          "model_module_version": "1.2.0",
          "state": {
            "_model_module": "@jupyter-widgets/base",
            "_model_module_version": "1.2.0",
            "_model_name": "LayoutModel",
            "_view_count": null,
            "_view_module": "@jupyter-widgets/base",
            "_view_module_version": "1.2.0",
            "_view_name": "LayoutView",
            "align_content": null,
            "align_items": null,
            "align_self": null,
            "border": null,
            "bottom": null,
            "display": null,
            "flex": null,
            "flex_flow": null,
            "grid_area": null,
            "grid_auto_columns": null,
            "grid_auto_flow": null,
            "grid_auto_rows": null,
            "grid_column": null,
            "grid_gap": null,
            "grid_row": null,
            "grid_template_areas": null,
            "grid_template_columns": null,
            "grid_template_rows": null,
            "height": null,
            "justify_content": null,
            "justify_items": null,
            "left": null,
            "margin": null,
            "max_height": null,
            "max_width": null,
            "min_height": null,
            "min_width": null,
            "object_fit": null,
            "object_position": null,
            "order": null,
            "overflow": null,
            "overflow_x": null,
            "overflow_y": null,
            "padding": null,
            "right": null,
            "top": null,
            "visibility": null,
            "width": null
          }
        },
        "a4ccd0c6acc6477c9eef8d381b0d162a": {
          "model_module": "@jupyter-widgets/controls",
          "model_name": "DescriptionStyleModel",
          "model_module_version": "1.5.0",
          "state": {
            "_model_module": "@jupyter-widgets/controls",
            "_model_module_version": "1.5.0",
            "_model_name": "DescriptionStyleModel",
            "_view_count": null,
            "_view_module": "@jupyter-widgets/base",
            "_view_module_version": "1.2.0",
            "_view_name": "StyleView",
            "description_width": ""
          }
        },
        "5a6042a12dbb4cccb4be723bdebb362c": {
          "model_module": "@jupyter-widgets/controls",
          "model_name": "HBoxModel",
          "model_module_version": "1.5.0",
          "state": {
            "_dom_classes": [],
            "_model_module": "@jupyter-widgets/controls",
            "_model_module_version": "1.5.0",
            "_model_name": "HBoxModel",
            "_view_count": null,
            "_view_module": "@jupyter-widgets/controls",
            "_view_module_version": "1.5.0",
            "_view_name": "HBoxView",
            "box_style": "",
            "children": [
              "IPY_MODEL_7c094fe1e56f4d7db4c19e25544a14fa",
              "IPY_MODEL_f6f9122724c9430988587469f0bef177",
              "IPY_MODEL_1cb4e66416d04425b712d785cfde23da"
            ],
            "layout": "IPY_MODEL_7db5d19905a74afe9ce40d223eed557c"
          }
        },
        "7c094fe1e56f4d7db4c19e25544a14fa": {
          "model_module": "@jupyter-widgets/controls",
          "model_name": "HTMLModel",
          "model_module_version": "1.5.0",
          "state": {
            "_dom_classes": [],
            "_model_module": "@jupyter-widgets/controls",
            "_model_module_version": "1.5.0",
            "_model_name": "HTMLModel",
            "_view_count": null,
            "_view_module": "@jupyter-widgets/controls",
            "_view_module_version": "1.5.0",
            "_view_name": "HTMLView",
            "description": "",
            "description_tooltip": null,
            "layout": "IPY_MODEL_36e75b2a1eb14dc2bb8967a8b80352c3",
            "placeholder": "​",
            "style": "IPY_MODEL_5abd059709524501943444c4b5f65da5",
            "value": "Extracting data files: 100%"
          }
        },
        "f6f9122724c9430988587469f0bef177": {
          "model_module": "@jupyter-widgets/controls",
          "model_name": "FloatProgressModel",
          "model_module_version": "1.5.0",
          "state": {
            "_dom_classes": [],
            "_model_module": "@jupyter-widgets/controls",
            "_model_module_version": "1.5.0",
            "_model_name": "FloatProgressModel",
            "_view_count": null,
            "_view_module": "@jupyter-widgets/controls",
            "_view_module_version": "1.5.0",
            "_view_name": "ProgressView",
            "bar_style": "success",
            "description": "",
            "description_tooltip": null,
            "layout": "IPY_MODEL_cd159d0f33be4fad89ad8f678a7be053",
            "max": 1,
            "min": 0,
            "orientation": "horizontal",
            "style": "IPY_MODEL_fd9a7a19017641d2925112483629ab06",
            "value": 1
          }
        },
        "1cb4e66416d04425b712d785cfde23da": {
          "model_module": "@jupyter-widgets/controls",
          "model_name": "HTMLModel",
          "model_module_version": "1.5.0",
          "state": {
            "_dom_classes": [],
            "_model_module": "@jupyter-widgets/controls",
            "_model_module_version": "1.5.0",
            "_model_name": "HTMLModel",
            "_view_count": null,
            "_view_module": "@jupyter-widgets/controls",
            "_view_module_version": "1.5.0",
            "_view_name": "HTMLView",
            "description": "",
            "description_tooltip": null,
            "layout": "IPY_MODEL_a39df4e3f3124b8a9287bc1d09ceb38a",
            "placeholder": "​",
            "style": "IPY_MODEL_d68fb3e03d6f45c6952e34899ad39ad4",
            "value": " 1/1 [00:00&lt;00:00, 31.11it/s]"
          }
        },
        "7db5d19905a74afe9ce40d223eed557c": {
          "model_module": "@jupyter-widgets/base",
          "model_name": "LayoutModel",
          "model_module_version": "1.2.0",
          "state": {
            "_model_module": "@jupyter-widgets/base",
            "_model_module_version": "1.2.0",
            "_model_name": "LayoutModel",
            "_view_count": null,
            "_view_module": "@jupyter-widgets/base",
            "_view_module_version": "1.2.0",
            "_view_name": "LayoutView",
            "align_content": null,
            "align_items": null,
            "align_self": null,
            "border": null,
            "bottom": null,
            "display": null,
            "flex": null,
            "flex_flow": null,
            "grid_area": null,
            "grid_auto_columns": null,
            "grid_auto_flow": null,
            "grid_auto_rows": null,
            "grid_column": null,
            "grid_gap": null,
            "grid_row": null,
            "grid_template_areas": null,
            "grid_template_columns": null,
            "grid_template_rows": null,
            "height": null,
            "justify_content": null,
            "justify_items": null,
            "left": null,
            "margin": null,
            "max_height": null,
            "max_width": null,
            "min_height": null,
            "min_width": null,
            "object_fit": null,
            "object_position": null,
            "order": null,
            "overflow": null,
            "overflow_x": null,
            "overflow_y": null,
            "padding": null,
            "right": null,
            "top": null,
            "visibility": null,
            "width": null
          }
        },
        "36e75b2a1eb14dc2bb8967a8b80352c3": {
          "model_module": "@jupyter-widgets/base",
          "model_name": "LayoutModel",
          "model_module_version": "1.2.0",
          "state": {
            "_model_module": "@jupyter-widgets/base",
            "_model_module_version": "1.2.0",
            "_model_name": "LayoutModel",
            "_view_count": null,
            "_view_module": "@jupyter-widgets/base",
            "_view_module_version": "1.2.0",
            "_view_name": "LayoutView",
            "align_content": null,
            "align_items": null,
            "align_self": null,
            "border": null,
            "bottom": null,
            "display": null,
            "flex": null,
            "flex_flow": null,
            "grid_area": null,
            "grid_auto_columns": null,
            "grid_auto_flow": null,
            "grid_auto_rows": null,
            "grid_column": null,
            "grid_gap": null,
            "grid_row": null,
            "grid_template_areas": null,
            "grid_template_columns": null,
            "grid_template_rows": null,
            "height": null,
            "justify_content": null,
            "justify_items": null,
            "left": null,
            "margin": null,
            "max_height": null,
            "max_width": null,
            "min_height": null,
            "min_width": null,
            "object_fit": null,
            "object_position": null,
            "order": null,
            "overflow": null,
            "overflow_x": null,
            "overflow_y": null,
            "padding": null,
            "right": null,
            "top": null,
            "visibility": null,
            "width": null
          }
        },
        "5abd059709524501943444c4b5f65da5": {
          "model_module": "@jupyter-widgets/controls",
          "model_name": "DescriptionStyleModel",
          "model_module_version": "1.5.0",
          "state": {
            "_model_module": "@jupyter-widgets/controls",
            "_model_module_version": "1.5.0",
            "_model_name": "DescriptionStyleModel",
            "_view_count": null,
            "_view_module": "@jupyter-widgets/base",
            "_view_module_version": "1.2.0",
            "_view_name": "StyleView",
            "description_width": ""
          }
        },
        "cd159d0f33be4fad89ad8f678a7be053": {
          "model_module": "@jupyter-widgets/base",
          "model_name": "LayoutModel",
          "model_module_version": "1.2.0",
          "state": {
            "_model_module": "@jupyter-widgets/base",
            "_model_module_version": "1.2.0",
            "_model_name": "LayoutModel",
            "_view_count": null,
            "_view_module": "@jupyter-widgets/base",
            "_view_module_version": "1.2.0",
            "_view_name": "LayoutView",
            "align_content": null,
            "align_items": null,
            "align_self": null,
            "border": null,
            "bottom": null,
            "display": null,
            "flex": null,
            "flex_flow": null,
            "grid_area": null,
            "grid_auto_columns": null,
            "grid_auto_flow": null,
            "grid_auto_rows": null,
            "grid_column": null,
            "grid_gap": null,
            "grid_row": null,
            "grid_template_areas": null,
            "grid_template_columns": null,
            "grid_template_rows": null,
            "height": null,
            "justify_content": null,
            "justify_items": null,
            "left": null,
            "margin": null,
            "max_height": null,
            "max_width": null,
            "min_height": null,
            "min_width": null,
            "object_fit": null,
            "object_position": null,
            "order": null,
            "overflow": null,
            "overflow_x": null,
            "overflow_y": null,
            "padding": null,
            "right": null,
            "top": null,
            "visibility": null,
            "width": null
          }
        },
        "fd9a7a19017641d2925112483629ab06": {
          "model_module": "@jupyter-widgets/controls",
          "model_name": "ProgressStyleModel",
          "model_module_version": "1.5.0",
          "state": {
            "_model_module": "@jupyter-widgets/controls",
            "_model_module_version": "1.5.0",
            "_model_name": "ProgressStyleModel",
            "_view_count": null,
            "_view_module": "@jupyter-widgets/base",
            "_view_module_version": "1.2.0",
            "_view_name": "StyleView",
            "bar_color": null,
            "description_width": ""
          }
        },
        "a39df4e3f3124b8a9287bc1d09ceb38a": {
          "model_module": "@jupyter-widgets/base",
          "model_name": "LayoutModel",
          "model_module_version": "1.2.0",
          "state": {
            "_model_module": "@jupyter-widgets/base",
            "_model_module_version": "1.2.0",
            "_model_name": "LayoutModel",
            "_view_count": null,
            "_view_module": "@jupyter-widgets/base",
            "_view_module_version": "1.2.0",
            "_view_name": "LayoutView",
            "align_content": null,
            "align_items": null,
            "align_self": null,
            "border": null,
            "bottom": null,
            "display": null,
            "flex": null,
            "flex_flow": null,
            "grid_area": null,
            "grid_auto_columns": null,
            "grid_auto_flow": null,
            "grid_auto_rows": null,
            "grid_column": null,
            "grid_gap": null,
            "grid_row": null,
            "grid_template_areas": null,
            "grid_template_columns": null,
            "grid_template_rows": null,
            "height": null,
            "justify_content": null,
            "justify_items": null,
            "left": null,
            "margin": null,
            "max_height": null,
            "max_width": null,
            "min_height": null,
            "min_width": null,
            "object_fit": null,
            "object_position": null,
            "order": null,
            "overflow": null,
            "overflow_x": null,
            "overflow_y": null,
            "padding": null,
            "right": null,
            "top": null,
            "visibility": null,
            "width": null
          }
        },
        "d68fb3e03d6f45c6952e34899ad39ad4": {
          "model_module": "@jupyter-widgets/controls",
          "model_name": "DescriptionStyleModel",
          "model_module_version": "1.5.0",
          "state": {
            "_model_module": "@jupyter-widgets/controls",
            "_model_module_version": "1.5.0",
            "_model_name": "DescriptionStyleModel",
            "_view_count": null,
            "_view_module": "@jupyter-widgets/base",
            "_view_module_version": "1.2.0",
            "_view_name": "StyleView",
            "description_width": ""
          }
        },
        "0734dcf259284c24834ce1a085955978": {
          "model_module": "@jupyter-widgets/controls",
          "model_name": "HBoxModel",
          "model_module_version": "1.5.0",
          "state": {
            "_dom_classes": [],
            "_model_module": "@jupyter-widgets/controls",
            "_model_module_version": "1.5.0",
            "_model_name": "HBoxModel",
            "_view_count": null,
            "_view_module": "@jupyter-widgets/controls",
            "_view_module_version": "1.5.0",
            "_view_name": "HBoxView",
            "box_style": "",
            "children": [
              "IPY_MODEL_84694a55ec7d4bf1bd2b8f7b5648464e",
              "IPY_MODEL_437d8d0d18734c31bef038c0a5c7cc11",
              "IPY_MODEL_bd33dbca482d4744bd1de86fae073ffa"
            ],
            "layout": "IPY_MODEL_f7371df9912e453abd9a9d8f894cee35"
          }
        },
        "84694a55ec7d4bf1bd2b8f7b5648464e": {
          "model_module": "@jupyter-widgets/controls",
          "model_name": "HTMLModel",
          "model_module_version": "1.5.0",
          "state": {
            "_dom_classes": [],
            "_model_module": "@jupyter-widgets/controls",
            "_model_module_version": "1.5.0",
            "_model_name": "HTMLModel",
            "_view_count": null,
            "_view_module": "@jupyter-widgets/controls",
            "_view_module_version": "1.5.0",
            "_view_name": "HTMLView",
            "description": "",
            "description_tooltip": null,
            "layout": "IPY_MODEL_63cab649963d458da5bf031a3e8a04c0",
            "placeholder": "​",
            "style": "IPY_MODEL_c84fbcfcf2604df3a59d9e8440213630",
            "value": "Generating train split:   0%"
          }
        },
        "437d8d0d18734c31bef038c0a5c7cc11": {
          "model_module": "@jupyter-widgets/controls",
          "model_name": "FloatProgressModel",
          "model_module_version": "1.5.0",
          "state": {
            "_dom_classes": [],
            "_model_module": "@jupyter-widgets/controls",
            "_model_module_version": "1.5.0",
            "_model_name": "FloatProgressModel",
            "_view_count": null,
            "_view_module": "@jupyter-widgets/controls",
            "_view_module_version": "1.5.0",
            "_view_name": "ProgressView",
            "bar_style": "",
            "description": "",
            "description_tooltip": null,
            "layout": "IPY_MODEL_add12bfc81194aa9894006277308f5b7",
            "max": 998,
            "min": 0,
            "orientation": "horizontal",
            "style": "IPY_MODEL_54e6c1d71e2c451a8fa12f2709437c88",
            "value": 998
          }
        },
        "bd33dbca482d4744bd1de86fae073ffa": {
          "model_module": "@jupyter-widgets/controls",
          "model_name": "HTMLModel",
          "model_module_version": "1.5.0",
          "state": {
            "_dom_classes": [],
            "_model_module": "@jupyter-widgets/controls",
            "_model_module_version": "1.5.0",
            "_model_name": "HTMLModel",
            "_view_count": null,
            "_view_module": "@jupyter-widgets/controls",
            "_view_module_version": "1.5.0",
            "_view_name": "HTMLView",
            "description": "",
            "description_tooltip": null,
            "layout": "IPY_MODEL_8cf4ef226a7d410f83d2d1c033c3bcd7",
            "placeholder": "​",
            "style": "IPY_MODEL_b187e1af70e54fb89aca1c328afe28e3",
            "value": " 0/998 [00:00&lt;?, ? examples/s]"
          }
        },
        "f7371df9912e453abd9a9d8f894cee35": {
          "model_module": "@jupyter-widgets/base",
          "model_name": "LayoutModel",
          "model_module_version": "1.2.0",
          "state": {
            "_model_module": "@jupyter-widgets/base",
            "_model_module_version": "1.2.0",
            "_model_name": "LayoutModel",
            "_view_count": null,
            "_view_module": "@jupyter-widgets/base",
            "_view_module_version": "1.2.0",
            "_view_name": "LayoutView",
            "align_content": null,
            "align_items": null,
            "align_self": null,
            "border": null,
            "bottom": null,
            "display": null,
            "flex": null,
            "flex_flow": null,
            "grid_area": null,
            "grid_auto_columns": null,
            "grid_auto_flow": null,
            "grid_auto_rows": null,
            "grid_column": null,
            "grid_gap": null,
            "grid_row": null,
            "grid_template_areas": null,
            "grid_template_columns": null,
            "grid_template_rows": null,
            "height": null,
            "justify_content": null,
            "justify_items": null,
            "left": null,
            "margin": null,
            "max_height": null,
            "max_width": null,
            "min_height": null,
            "min_width": null,
            "object_fit": null,
            "object_position": null,
            "order": null,
            "overflow": null,
            "overflow_x": null,
            "overflow_y": null,
            "padding": null,
            "right": null,
            "top": null,
            "visibility": null,
            "width": null
          }
        },
        "63cab649963d458da5bf031a3e8a04c0": {
          "model_module": "@jupyter-widgets/base",
          "model_name": "LayoutModel",
          "model_module_version": "1.2.0",
          "state": {
            "_model_module": "@jupyter-widgets/base",
            "_model_module_version": "1.2.0",
            "_model_name": "LayoutModel",
            "_view_count": null,
            "_view_module": "@jupyter-widgets/base",
            "_view_module_version": "1.2.0",
            "_view_name": "LayoutView",
            "align_content": null,
            "align_items": null,
            "align_self": null,
            "border": null,
            "bottom": null,
            "display": null,
            "flex": null,
            "flex_flow": null,
            "grid_area": null,
            "grid_auto_columns": null,
            "grid_auto_flow": null,
            "grid_auto_rows": null,
            "grid_column": null,
            "grid_gap": null,
            "grid_row": null,
            "grid_template_areas": null,
            "grid_template_columns": null,
            "grid_template_rows": null,
            "height": null,
            "justify_content": null,
            "justify_items": null,
            "left": null,
            "margin": null,
            "max_height": null,
            "max_width": null,
            "min_height": null,
            "min_width": null,
            "object_fit": null,
            "object_position": null,
            "order": null,
            "overflow": null,
            "overflow_x": null,
            "overflow_y": null,
            "padding": null,
            "right": null,
            "top": null,
            "visibility": null,
            "width": null
          }
        },
        "c84fbcfcf2604df3a59d9e8440213630": {
          "model_module": "@jupyter-widgets/controls",
          "model_name": "DescriptionStyleModel",
          "model_module_version": "1.5.0",
          "state": {
            "_model_module": "@jupyter-widgets/controls",
            "_model_module_version": "1.5.0",
            "_model_name": "DescriptionStyleModel",
            "_view_count": null,
            "_view_module": "@jupyter-widgets/base",
            "_view_module_version": "1.2.0",
            "_view_name": "StyleView",
            "description_width": ""
          }
        },
        "add12bfc81194aa9894006277308f5b7": {
          "model_module": "@jupyter-widgets/base",
          "model_name": "LayoutModel",
          "model_module_version": "1.2.0",
          "state": {
            "_model_module": "@jupyter-widgets/base",
            "_model_module_version": "1.2.0",
            "_model_name": "LayoutModel",
            "_view_count": null,
            "_view_module": "@jupyter-widgets/base",
            "_view_module_version": "1.2.0",
            "_view_name": "LayoutView",
            "align_content": null,
            "align_items": null,
            "align_self": null,
            "border": null,
            "bottom": null,
            "display": null,
            "flex": null,
            "flex_flow": null,
            "grid_area": null,
            "grid_auto_columns": null,
            "grid_auto_flow": null,
            "grid_auto_rows": null,
            "grid_column": null,
            "grid_gap": null,
            "grid_row": null,
            "grid_template_areas": null,
            "grid_template_columns": null,
            "grid_template_rows": null,
            "height": null,
            "justify_content": null,
            "justify_items": null,
            "left": null,
            "margin": null,
            "max_height": null,
            "max_width": null,
            "min_height": null,
            "min_width": null,
            "object_fit": null,
            "object_position": null,
            "order": null,
            "overflow": null,
            "overflow_x": null,
            "overflow_y": null,
            "padding": null,
            "right": null,
            "top": null,
            "visibility": null,
            "width": null
          }
        },
        "54e6c1d71e2c451a8fa12f2709437c88": {
          "model_module": "@jupyter-widgets/controls",
          "model_name": "ProgressStyleModel",
          "model_module_version": "1.5.0",
          "state": {
            "_model_module": "@jupyter-widgets/controls",
            "_model_module_version": "1.5.0",
            "_model_name": "ProgressStyleModel",
            "_view_count": null,
            "_view_module": "@jupyter-widgets/base",
            "_view_module_version": "1.2.0",
            "_view_name": "StyleView",
            "bar_color": null,
            "description_width": ""
          }
        },
        "8cf4ef226a7d410f83d2d1c033c3bcd7": {
          "model_module": "@jupyter-widgets/base",
          "model_name": "LayoutModel",
          "model_module_version": "1.2.0",
          "state": {
            "_model_module": "@jupyter-widgets/base",
            "_model_module_version": "1.2.0",
            "_model_name": "LayoutModel",
            "_view_count": null,
            "_view_module": "@jupyter-widgets/base",
            "_view_module_version": "1.2.0",
            "_view_name": "LayoutView",
            "align_content": null,
            "align_items": null,
            "align_self": null,
            "border": null,
            "bottom": null,
            "display": null,
            "flex": null,
            "flex_flow": null,
            "grid_area": null,
            "grid_auto_columns": null,
            "grid_auto_flow": null,
            "grid_auto_rows": null,
            "grid_column": null,
            "grid_gap": null,
            "grid_row": null,
            "grid_template_areas": null,
            "grid_template_columns": null,
            "grid_template_rows": null,
            "height": null,
            "justify_content": null,
            "justify_items": null,
            "left": null,
            "margin": null,
            "max_height": null,
            "max_width": null,
            "min_height": null,
            "min_width": null,
            "object_fit": null,
            "object_position": null,
            "order": null,
            "overflow": null,
            "overflow_x": null,
            "overflow_y": null,
            "padding": null,
            "right": null,
            "top": null,
            "visibility": null,
            "width": null
          }
        },
        "b187e1af70e54fb89aca1c328afe28e3": {
          "model_module": "@jupyter-widgets/controls",
          "model_name": "DescriptionStyleModel",
          "model_module_version": "1.5.0",
          "state": {
            "_model_module": "@jupyter-widgets/controls",
            "_model_module_version": "1.5.0",
            "_model_name": "DescriptionStyleModel",
            "_view_count": null,
            "_view_module": "@jupyter-widgets/base",
            "_view_module_version": "1.2.0",
            "_view_name": "StyleView",
            "description_width": ""
          }
        },
        "d643ae0aec1749f4a6529001681d74cc": {
          "model_module": "@jupyter-widgets/controls",
          "model_name": "HBoxModel",
          "model_module_version": "1.5.0",
          "state": {
            "_dom_classes": [],
            "_model_module": "@jupyter-widgets/controls",
            "_model_module_version": "1.5.0",
            "_model_name": "HBoxModel",
            "_view_count": null,
            "_view_module": "@jupyter-widgets/controls",
            "_view_module_version": "1.5.0",
            "_view_name": "HBoxView",
            "box_style": "",
            "children": [
              "IPY_MODEL_d7fa05174ade488dad04a98317c0c38f",
              "IPY_MODEL_d6b914d78dc94a2084b95c11c5bdb76e",
              "IPY_MODEL_a73d07f1e73a460fb652407f88fc29a7"
            ],
            "layout": "IPY_MODEL_885c81b9d5f54c4bb3cdcb0d2de61383"
          }
        },
        "d7fa05174ade488dad04a98317c0c38f": {
          "model_module": "@jupyter-widgets/controls",
          "model_name": "HTMLModel",
          "model_module_version": "1.5.0",
          "state": {
            "_dom_classes": [],
            "_model_module": "@jupyter-widgets/controls",
            "_model_module_version": "1.5.0",
            "_model_name": "HTMLModel",
            "_view_count": null,
            "_view_module": "@jupyter-widgets/controls",
            "_view_module_version": "1.5.0",
            "_view_name": "HTMLView",
            "description": "",
            "description_tooltip": null,
            "layout": "IPY_MODEL_3038e3fda554456bbae2b70f380a5b7d",
            "placeholder": "​",
            "style": "IPY_MODEL_8bf4686851e34fac935f1457df03902d",
            "value": "Downloading tf_model.h5: 100%"
          }
        },
        "d6b914d78dc94a2084b95c11c5bdb76e": {
          "model_module": "@jupyter-widgets/controls",
          "model_name": "FloatProgressModel",
          "model_module_version": "1.5.0",
          "state": {
            "_dom_classes": [],
            "_model_module": "@jupyter-widgets/controls",
            "_model_module_version": "1.5.0",
            "_model_name": "FloatProgressModel",
            "_view_count": null,
            "_view_module": "@jupyter-widgets/controls",
            "_view_module_version": "1.5.0",
            "_view_name": "ProgressView",
            "bar_style": "success",
            "description": "",
            "description_tooltip": null,
            "layout": "IPY_MODEL_1859c01a19d8492da872a89f3a8de528",
            "max": 363423424,
            "min": 0,
            "orientation": "horizontal",
            "style": "IPY_MODEL_8549965ac2574c7e96a3eda5ecb0968e",
            "value": 363423424
          }
        },
        "a73d07f1e73a460fb652407f88fc29a7": {
          "model_module": "@jupyter-widgets/controls",
          "model_name": "HTMLModel",
          "model_module_version": "1.5.0",
          "state": {
            "_dom_classes": [],
            "_model_module": "@jupyter-widgets/controls",
            "_model_module_version": "1.5.0",
            "_model_name": "HTMLModel",
            "_view_count": null,
            "_view_module": "@jupyter-widgets/controls",
            "_view_module_version": "1.5.0",
            "_view_name": "HTMLView",
            "description": "",
            "description_tooltip": null,
            "layout": "IPY_MODEL_44e4a3dd305b4b2f9a992d6df1329c6f",
            "placeholder": "​",
            "style": "IPY_MODEL_498c81e8473e40d4ae9333de348d94d1",
            "value": " 347M/347M [00:06&lt;00:00, 59.4MB/s]"
          }
        },
        "885c81b9d5f54c4bb3cdcb0d2de61383": {
          "model_module": "@jupyter-widgets/base",
          "model_name": "LayoutModel",
          "model_module_version": "1.2.0",
          "state": {
            "_model_module": "@jupyter-widgets/base",
            "_model_module_version": "1.2.0",
            "_model_name": "LayoutModel",
            "_view_count": null,
            "_view_module": "@jupyter-widgets/base",
            "_view_module_version": "1.2.0",
            "_view_name": "LayoutView",
            "align_content": null,
            "align_items": null,
            "align_self": null,
            "border": null,
            "bottom": null,
            "display": null,
            "flex": null,
            "flex_flow": null,
            "grid_area": null,
            "grid_auto_columns": null,
            "grid_auto_flow": null,
            "grid_auto_rows": null,
            "grid_column": null,
            "grid_gap": null,
            "grid_row": null,
            "grid_template_areas": null,
            "grid_template_columns": null,
            "grid_template_rows": null,
            "height": null,
            "justify_content": null,
            "justify_items": null,
            "left": null,
            "margin": null,
            "max_height": null,
            "max_width": null,
            "min_height": null,
            "min_width": null,
            "object_fit": null,
            "object_position": null,
            "order": null,
            "overflow": null,
            "overflow_x": null,
            "overflow_y": null,
            "padding": null,
            "right": null,
            "top": null,
            "visibility": null,
            "width": null
          }
        },
        "3038e3fda554456bbae2b70f380a5b7d": {
          "model_module": "@jupyter-widgets/base",
          "model_name": "LayoutModel",
          "model_module_version": "1.2.0",
          "state": {
            "_model_module": "@jupyter-widgets/base",
            "_model_module_version": "1.2.0",
            "_model_name": "LayoutModel",
            "_view_count": null,
            "_view_module": "@jupyter-widgets/base",
            "_view_module_version": "1.2.0",
            "_view_name": "LayoutView",
            "align_content": null,
            "align_items": null,
            "align_self": null,
            "border": null,
            "bottom": null,
            "display": null,
            "flex": null,
            "flex_flow": null,
            "grid_area": null,
            "grid_auto_columns": null,
            "grid_auto_flow": null,
            "grid_auto_rows": null,
            "grid_column": null,
            "grid_gap": null,
            "grid_row": null,
            "grid_template_areas": null,
            "grid_template_columns": null,
            "grid_template_rows": null,
            "height": null,
            "justify_content": null,
            "justify_items": null,
            "left": null,
            "margin": null,
            "max_height": null,
            "max_width": null,
            "min_height": null,
            "min_width": null,
            "object_fit": null,
            "object_position": null,
            "order": null,
            "overflow": null,
            "overflow_x": null,
            "overflow_y": null,
            "padding": null,
            "right": null,
            "top": null,
            "visibility": null,
            "width": null
          }
        },
        "8bf4686851e34fac935f1457df03902d": {
          "model_module": "@jupyter-widgets/controls",
          "model_name": "DescriptionStyleModel",
          "model_module_version": "1.5.0",
          "state": {
            "_model_module": "@jupyter-widgets/controls",
            "_model_module_version": "1.5.0",
            "_model_name": "DescriptionStyleModel",
            "_view_count": null,
            "_view_module": "@jupyter-widgets/base",
            "_view_module_version": "1.2.0",
            "_view_name": "StyleView",
            "description_width": ""
          }
        },
        "1859c01a19d8492da872a89f3a8de528": {
          "model_module": "@jupyter-widgets/base",
          "model_name": "LayoutModel",
          "model_module_version": "1.2.0",
          "state": {
            "_model_module": "@jupyter-widgets/base",
            "_model_module_version": "1.2.0",
            "_model_name": "LayoutModel",
            "_view_count": null,
            "_view_module": "@jupyter-widgets/base",
            "_view_module_version": "1.2.0",
            "_view_name": "LayoutView",
            "align_content": null,
            "align_items": null,
            "align_self": null,
            "border": null,
            "bottom": null,
            "display": null,
            "flex": null,
            "flex_flow": null,
            "grid_area": null,
            "grid_auto_columns": null,
            "grid_auto_flow": null,
            "grid_auto_rows": null,
            "grid_column": null,
            "grid_gap": null,
            "grid_row": null,
            "grid_template_areas": null,
            "grid_template_columns": null,
            "grid_template_rows": null,
            "height": null,
            "justify_content": null,
            "justify_items": null,
            "left": null,
            "margin": null,
            "max_height": null,
            "max_width": null,
            "min_height": null,
            "min_width": null,
            "object_fit": null,
            "object_position": null,
            "order": null,
            "overflow": null,
            "overflow_x": null,
            "overflow_y": null,
            "padding": null,
            "right": null,
            "top": null,
            "visibility": null,
            "width": null
          }
        },
        "8549965ac2574c7e96a3eda5ecb0968e": {
          "model_module": "@jupyter-widgets/controls",
          "model_name": "ProgressStyleModel",
          "model_module_version": "1.5.0",
          "state": {
            "_model_module": "@jupyter-widgets/controls",
            "_model_module_version": "1.5.0",
            "_model_name": "ProgressStyleModel",
            "_view_count": null,
            "_view_module": "@jupyter-widgets/base",
            "_view_module_version": "1.2.0",
            "_view_name": "StyleView",
            "bar_color": null,
            "description_width": ""
          }
        },
        "44e4a3dd305b4b2f9a992d6df1329c6f": {
          "model_module": "@jupyter-widgets/base",
          "model_name": "LayoutModel",
          "model_module_version": "1.2.0",
          "state": {
            "_model_module": "@jupyter-widgets/base",
            "_model_module_version": "1.2.0",
            "_model_name": "LayoutModel",
            "_view_count": null,
            "_view_module": "@jupyter-widgets/base",
            "_view_module_version": "1.2.0",
            "_view_name": "LayoutView",
            "align_content": null,
            "align_items": null,
            "align_self": null,
            "border": null,
            "bottom": null,
            "display": null,
            "flex": null,
            "flex_flow": null,
            "grid_area": null,
            "grid_auto_columns": null,
            "grid_auto_flow": null,
            "grid_auto_rows": null,
            "grid_column": null,
            "grid_gap": null,
            "grid_row": null,
            "grid_template_areas": null,
            "grid_template_columns": null,
            "grid_template_rows": null,
            "height": null,
            "justify_content": null,
            "justify_items": null,
            "left": null,
            "margin": null,
            "max_height": null,
            "max_width": null,
            "min_height": null,
            "min_width": null,
            "object_fit": null,
            "object_position": null,
            "order": null,
            "overflow": null,
            "overflow_x": null,
            "overflow_y": null,
            "padding": null,
            "right": null,
            "top": null,
            "visibility": null,
            "width": null
          }
        },
        "498c81e8473e40d4ae9333de348d94d1": {
          "model_module": "@jupyter-widgets/controls",
          "model_name": "DescriptionStyleModel",
          "model_module_version": "1.5.0",
          "state": {
            "_model_module": "@jupyter-widgets/controls",
            "_model_module_version": "1.5.0",
            "_model_name": "DescriptionStyleModel",
            "_view_count": null,
            "_view_module": "@jupyter-widgets/base",
            "_view_module_version": "1.2.0",
            "_view_name": "StyleView",
            "description_width": ""
          }
        }
      }
    }
  },
  "nbformat": 4,
  "nbformat_minor": 5
}